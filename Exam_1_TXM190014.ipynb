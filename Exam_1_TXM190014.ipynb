{
 "cells": [
  {
   "cell_type": "markdown",
   "metadata": {},
   "source": [
    "# Results\n",
    "\n",
    "## Linear Regression \n",
    "CV Score: 0.165 \n",
    "Test Score: 0.16454088984181903\n",
    "\n",
    "## Polynomial Regression\n",
    "CV Score: 0.165 \n",
    "Test Score: 0.1645408413852154\n",
    "\n",
    "## SGD Regression\n",
    "CV Score: 0.1634937630453061\n",
    "Test Score: 0.16291008822896602\n",
    "\n",
    "## Ridge Regression\n",
    "CV Score: 0.16336144479033818\n",
    "Test Score: 0.16454088913302967\n",
    "\n",
    "## Lasso Regression\n",
    "CV Score: 0.16305691570212932\n",
    "Test Score: 0.16446225897094277\n",
    "\n",
    "## Dtree Regression\n",
    "CV Score:\n",
    "Test Score:\n",
    "\n",
    "## SVR \n",
    "CV Score:\n",
    "Test Score:"
   ]
  },
  {
   "cell_type": "code",
   "execution_count": 726,
   "metadata": {
    "ExecuteTime": {
     "end_time": "2020-04-04T02:34:21.429870Z",
     "start_time": "2020-04-04T02:34:20.622671Z"
    }
   },
   "outputs": [],
   "source": [
    "import numpy as np\n",
    "import pandas as pd"
   ]
  },
  {
   "cell_type": "code",
   "execution_count": 727,
   "metadata": {
    "ExecuteTime": {
     "end_time": "2020-04-03T20:46:30.397649Z",
     "start_time": "2020-04-03T20:46:27.288402Z"
    }
   },
   "outputs": [
    {
     "name": "stdout",
     "output_type": "stream",
     "text": [
      "Requirement already satisfied: xlrd in /opt/anaconda3/envs/buan6341/lib/python3.7/site-packages (1.2.0)\n",
      "Note: you may need to restart the kernel to use updated packages.\n"
     ]
    }
   ],
   "source": [
    "pip install xlrd"
   ]
  },
  {
   "cell_type": "code",
   "execution_count": 728,
   "metadata": {
    "ExecuteTime": {
     "end_time": "2020-04-04T02:34:40.873218Z",
     "start_time": "2020-04-04T02:34:24.398201Z"
    }
   },
   "outputs": [],
   "source": [
    "data = pd.read_csv('/Users/tapas/Downloads/Oil/Patent_Data_Variables.csv')\n"
   ]
  },
  {
   "cell_type": "code",
   "execution_count": 729,
   "metadata": {
    "ExecuteTime": {
     "end_time": "2020-04-04T02:34:42.986040Z",
     "start_time": "2020-04-04T02:34:42.966092Z"
    }
   },
   "outputs": [
    {
     "name": "stdout",
     "output_type": "stream",
     "text": [
      "<class 'pandas.core.frame.DataFrame'>\n",
      "RangeIndex: 65535 entries, 0 to 65534\n",
      "Data columns (total 25 columns):\n",
      "pat        65535 non-null int64\n",
      "fwd        65535 non-null int64\n",
      "lag_d      65535 non-null int64\n",
      "lag_y      65535 non-null int64\n",
      "noc        65535 non-null int64\n",
      "gy         65535 non-null int64\n",
      "ay         65535 non-null int64\n",
      "noi        65535 non-null int64\n",
      "UMC        65535 non-null int64\n",
      "firm       65535 non-null int64\n",
      "MSA        65535 non-null int64\n",
      "tbm        65535 non-null int64\n",
      "tbru       65535 non-null float64\n",
      "PAG        65535 non-null float64\n",
      "npr        65535 non-null int64\n",
      "fpr        65535 non-null int64\n",
      "FT         65535 non-null int64\n",
      "Cent       65535 non-null float64\n",
      "EXP_Y      65535 non-null float64\n",
      "DT         65535 non-null float64\n",
      "IT         65535 non-null float64\n",
      "RT         65535 non-null float64\n",
      "3rd_PT     65535 non-null float64\n",
      "Rnd_Int    65535 non-null float64\n",
      "FS         38808 non-null float64\n",
      "dtypes: float64(10), int64(15)\n",
      "memory usage: 12.5 MB\n"
     ]
    }
   ],
   "source": [
    "data.info()"
   ]
  },
  {
   "cell_type": "code",
   "execution_count": 730,
   "metadata": {
    "ExecuteTime": {
     "end_time": "2020-04-04T02:34:46.779523Z",
     "start_time": "2020-04-04T02:34:46.765564Z"
    }
   },
   "outputs": [],
   "source": [
    "data.drop(columns=['lag_y'],inplace=True)"
   ]
  },
  {
   "cell_type": "code",
   "execution_count": 731,
   "metadata": {},
   "outputs": [],
   "source": [
    "#data['log_fwd'] = data['fwd'].apply(lambda x: np.log(x+0.001))\n",
    "#cap_right = ['lag_d','noc','tbm','tbru']\n",
    "#data['lag_d'] = data['lag_d'].apply(lambda x: np.log(x+0.001))\n",
    "#data['noc'] = data['noc'].apply(lambda x: np.log(x+0.001))\n",
    "#data['tbm'] = data['tbm'].apply(lambda x: np.log(x+0.001))\n",
    "#data['tbru'] = data['tbru'].apply(lambda x: np.log(x+0.001))"
   ]
  },
  {
   "cell_type": "code",
   "execution_count": 732,
   "metadata": {
    "ExecuteTime": {
     "end_time": "2020-04-04T02:34:50.051446Z",
     "start_time": "2020-04-04T02:34:49.542701Z"
    }
   },
   "outputs": [
    {
     "data": {
      "text/plain": [
       "((52428, 23), (13107, 23))"
      ]
     },
     "execution_count": 732,
     "metadata": {},
     "output_type": "execute_result"
    }
   ],
   "source": [
    "from sklearn.model_selection import train_test_split\n",
    "'''\n",
    "X_train, X_test, y_train, y_test = train_test_split(data.drop(['log_fwd','fwd','ay','gy'], axis=1),\n",
    "                                                    data['log_fwd'],\n",
    "                                                    test_size=0.2,\n",
    "                                                    random_state=0)\n",
    "'''\n",
    "\n",
    "X_train, X_test, y_train, y_test = train_test_split(data.drop(['fwd'], axis=1),\n",
    "                                                    data['fwd'],\n",
    "                                                    test_size=0.2,\n",
    "                                                    random_state=0)\n",
    "X_train.shape, X_test.shape"
   ]
  },
  {
   "cell_type": "code",
   "execution_count": 733,
   "metadata": {
    "ExecuteTime": {
     "end_time": "2020-04-04T02:34:52.258858Z",
     "start_time": "2020-04-04T02:34:52.254868Z"
    }
   },
   "outputs": [],
   "source": [
    "#categorical=['ay','gy','firm','UMC','MSA','FT']\n",
    "categorical=['firm','UMC','MSA','FT']"
   ]
  },
  {
   "cell_type": "code",
   "execution_count": 734,
   "metadata": {},
   "outputs": [
    {
     "data": {
      "text/plain": [
       "\"\\nimport matplotlib.pyplot as plt\\nfrom feature_engine.discretisers import EqualFrequencyDiscretiser\\nvar = 'npr'\\n\\ndisc = EqualFrequencyDiscretiser(q=25, variables =var)\\ndisc.fit(X_train)\\ntrain_t = disc.transform(X_train)\\npd.concat([train_t, y_train], axis=1).groupby(var)['fwd'].mean().plot()\\nprint(disc.binner_dict_)\\nplt.ylabel('mean of fwd')\\n\""
      ]
     },
     "execution_count": 734,
     "metadata": {},
     "output_type": "execute_result"
    }
   ],
   "source": [
    "#npr 20/25\n",
    "#Cent 20\n",
    "#IT 25\n",
    "'''\n",
    "import matplotlib.pyplot as plt\n",
    "from feature_engine.discretisers import EqualFrequencyDiscretiser\n",
    "var = 'npr'\n",
    "\n",
    "disc = EqualFrequencyDiscretiser(q=25, variables =var)\n",
    "disc.fit(X_train)\n",
    "train_t = disc.transform(X_train)\n",
    "pd.concat([train_t, y_train], axis=1).groupby(var)['fwd'].mean().plot()\n",
    "print(disc.binner_dict_)\n",
    "plt.ylabel('mean of fwd')\n",
    "'''\n"
   ]
  },
  {
   "cell_type": "code",
   "execution_count": 735,
   "metadata": {},
   "outputs": [
    {
     "data": {
      "text/plain": [
       "\"\\nimport matplotlib.pyplot as plt \\nfrom feature_engine.discretisers import EqualWidthDiscretiser\\nvar ='fpr'\\n\\ndisc = EqualWidthDiscretiser(bins=15, variables =var)\\ndisc.fit(X_train)\\ntrain_t = disc.transform(X_train)\\npd.concat([train_t, y_train], axis=1).groupby(var)['fwd'].mean().plot()\\nplt.ylabel('mean of fwd')\\n\""
      ]
     },
     "execution_count": 735,
     "metadata": {},
     "output_type": "execute_result"
    }
   ],
   "source": [
    "#fpr\n",
    "'''\n",
    "import matplotlib.pyplot as plt \n",
    "from feature_engine.discretisers import EqualWidthDiscretiser\n",
    "var ='fpr'\n",
    "\n",
    "disc = EqualWidthDiscretiser(bins=15, variables =var)\n",
    "disc.fit(X_train)\n",
    "train_t = disc.transform(X_train)\n",
    "pd.concat([train_t, y_train], axis=1).groupby(var)['fwd'].mean().plot()\n",
    "plt.ylabel('mean of fwd')\n",
    "'''\n"
   ]
  },
  {
   "cell_type": "code",
   "execution_count": 736,
   "metadata": {},
   "outputs": [],
   "source": [
    "import seaborn as sns\n",
    "import scipy.stats as stats\n",
    "\n",
    "\n",
    "def diagnostic_plots(df, variable):\n",
    "    # function takes a dataframe (df) and\n",
    "    # the variable of interest as arguments\n",
    "\n",
    "    # define figure size\n",
    "    plt.figure(figsize=(16, 4))\n",
    "\n",
    "    # histogram\n",
    "    plt.subplot(1, 3, 1)\n",
    "    sns.distplot(df[variable], bins=30)\n",
    "    plt.title('Histogram')\n",
    "\n",
    "    # Q-Q plot\n",
    "    plt.subplot(1, 3, 2)\n",
    "    stats.probplot(df[variable], dist=\"norm\", plot=plt)\n",
    "    plt.ylabel('Variable quantiles')\n",
    "\n",
    "    # boxplot\n",
    "    plt.subplot(1, 3, 3)\n",
    "    sns.boxplot(y=df[variable])\n",
    "    plt.title('Boxplot')\n",
    "\n",
    "    plt.show()"
   ]
  },
  {
   "cell_type": "code",
   "execution_count": 737,
   "metadata": {},
   "outputs": [
    {
     "data": {
      "image/png": "[encoded data removed]",
      "text/plain": [
       "<Figure size 1152x288 with 3 Axes>"
      ]
     },
     "metadata": {
      "needs_background": "light"
     },
     "output_type": "display_data"
    }
   ],
   "source": [
    "from feature_engine.outlier_removers import Winsorizer\n",
    "cap_right = ['lag_d','noc','tbm']\n",
    "#'npr','fpr','Cent','RT','3rd_PT']\n",
    "cap_left = ['tbru']\n",
    "#ouliers = ['npr','fpr','Cent','IT','RT','DT']\n",
    "\n",
    "#gaussian,skewed,quantiles\n",
    "#lag_d - gaussian right\n",
    "\n",
    "winsorizer = Winsorizer(distribution='gaussian', # choose skewed for IQR rule boundaries or gaussian for mean and std\n",
    "                          tail='left', # cap left, right or both tails \n",
    "                          fold=3,\n",
    "                          variables=cap_left)\n",
    "\n",
    "winsorizer.fit(X_train)\n",
    "winsorizer.left_tail_caps_\n",
    "winsorizer.right_tail_caps_\n",
    "X_train_t = winsorizer.transform(X_train)\n",
    "X_test_t = winsorizer.transform(X_test)\n",
    "for variable in cap_left:\n",
    "    diagnostic_plots(X_train_t, variable)"
   ]
  },
  {
   "cell_type": "code",
   "execution_count": null,
   "metadata": {},
   "outputs": [],
   "source": []
  },
  {
   "cell_type": "code",
   "execution_count": null,
   "metadata": {
    "ExecuteTime": {
     "end_time": "2020-04-04T02:34:55.250309Z",
     "start_time": "2020-04-04T02:34:55.246319Z"
    }
   },
   "outputs": [],
   "source": []
  },
  {
   "cell_type": "code",
   "execution_count": 738,
   "metadata": {
    "ExecuteTime": {
     "end_time": "2020-04-04T02:35:03.300925Z",
     "start_time": "2020-04-04T02:35:03.247003Z"
    }
   },
   "outputs": [],
   "source": [
    "X_train[categorical] = X_train[categorical].astype('O')\n",
    "X_test[categorical] = X_test[categorical].astype('O')\n",
    "discrete = ['npr','fpr','Cent','IT']\n",
    "drop_var = ['lag_y', 'fwd', 'log_fwd']\n",
    "continuous=list(set(list(data.columns))-set(categorical) - set(discrete) -set(drop_var))\n",
    "#X_train[dicrete] = X_train[dicrete].astype('O')\n",
    "#X_test[dicrete] = X_test[dicrete].astype('O')"
   ]
  },
  {
   "cell_type": "code",
   "execution_count": 739,
   "metadata": {
    "ExecuteTime": {
     "end_time": "2020-04-04T02:35:26.937981Z",
     "start_time": "2020-04-04T02:35:26.927008Z"
    }
   },
   "outputs": [],
   "source": [
    "# import relevant modules for feature engineering\n",
    "from sklearn.pipeline import Pipeline\n",
    "from feature_engine import missing_data_imputers as mdi\n",
    "from feature_engine import categorical_encoders as ce\n",
    "from sklearn.linear_model import Ridge,Lasso\n",
    "from sklearn.model_selection import GridSearchCV\n",
    "from feature_engine.outlier_removers import Winsorizer\n",
    "from sklearn.preprocessing import FunctionTransformer\n",
    "from feature_engine.variable_transformers import LogTransformer\n",
    "from feature_engine.missing_data_imputers import AddNaNBinaryImputer\n",
    "from feature_engine.missing_data_imputers import EndTailImputer\n",
    "from sklearn.impute import SimpleImputer\n",
    "\n"
   ]
  },
  {
   "cell_type": "code",
   "execution_count": 740,
   "metadata": {
    "ExecuteTime": {
     "end_time": "2020-04-04T02:35:29.522153Z",
     "start_time": "2020-04-04T02:35:29.517133Z"
    }
   },
   "outputs": [
    {
     "data": {
      "text/plain": [
       "\"\\npatent_preprocess = Pipeline([\\n    \\n    ('imputer_cat', mdi.CategoricalVariableImputer(variables=categorical)),\\n    ('imputer_num', mdi.MeanMedianImputer(imputation_method='median',variables=['FS'])),\\n    ('capping_right',Winsorizer(distribution='gaussian',tail='right',fold=3,variables=cap_right)),\\n    ('capping_left',Winsorizer(distribution='gaussian',tail='left',fold=3,variables=cap_left)),\\n    ('capping_both',Winsorizer(distribution='gaussian',tail='both',fold=3,variables=continuous)),\\n    ('log_transform',LogTransformer(variables = cap_right)),\\n    ('equal_freq_disc1',EqualFrequencyDiscretiser(q=20, variables =['npr','Cent'])),\\n    ('equal_freq_disc2',EqualFrequencyDiscretiser(q=25, variables =['IT'])),\\n    ('equal_dist_disc',EqualWidthDiscretiser(bins=15, variables =['fpr'])),\\n    \\n    ('rare_label_enc', ce.RareLabelCategoricalEncoder(tol=0.01,n_categories=6, variables=categorical )),\\n    ('One_hot', ce.OneHotCategoricalEncoder(variables=categorical)),\\n    ('missing_val_imputer',SimpleImputer(strategy='most_frequent')),\\n    #('categorical_enc', ce.OrdinalCategoricalEncoder(encoding_method='ordered', variables=categorical)),\\n\\n\\n   \\n    # categorical encoding \\n     \\n])\\n\""
      ]
     },
     "execution_count": 740,
     "metadata": {},
     "output_type": "execute_result"
    }
   ],
   "source": [
    "'''\n",
    "patent_preprocess = Pipeline([\n",
    "    \n",
    "    ('imputer_cat', mdi.CategoricalVariableImputer(variables=categorical)),\n",
    "    ('imputer_num', mdi.MeanMedianImputer(imputation_method='median',variables=['FS'])),\n",
    "    ('capping_right',Winsorizer(distribution='gaussian',tail='right',fold=3,variables=cap_right)),\n",
    "    ('capping_left',Winsorizer(distribution='gaussian',tail='left',fold=3,variables=cap_left)),\n",
    "    ('capping_both',Winsorizer(distribution='gaussian',tail='both',fold=3,variables=continuous)),\n",
    "    ('log_transform',LogTransformer(variables = cap_right)),\n",
    "    ('equal_freq_disc1',EqualFrequencyDiscretiser(q=20, variables =['npr','Cent'])),\n",
    "    ('equal_freq_disc2',EqualFrequencyDiscretiser(q=25, variables =['IT'])),\n",
    "    ('equal_dist_disc',EqualWidthDiscretiser(bins=15, variables =['fpr'])),\n",
    "    \n",
    "    ('rare_label_enc', ce.RareLabelCategoricalEncoder(tol=0.01,n_categories=6, variables=categorical )),\n",
    "    ('One_hot', ce.OneHotCategoricalEncoder(variables=categorical)),\n",
    "    ('missing_val_imputer',SimpleImputer(strategy='most_frequent')),\n",
    "    #('categorical_enc', ce.OrdinalCategoricalEncoder(encoding_method='ordered', variables=categorical)),\n",
    "\n",
    "\n",
    "   \n",
    "    # categorical encoding \n",
    "     \n",
    "])\n",
    "'''\n"
   ]
  },
  {
   "cell_type": "code",
   "execution_count": 741,
   "metadata": {},
   "outputs": [],
   "source": [
    "patent_preprocess = Pipeline([\n",
    "    ('imputer_num', mdi.MeanMedianImputer(imputation_method='median',variables=['FS'])),\n",
    "    ('equal_freq_disc1',EqualFrequencyDiscretiser(q=20, variables =['npr','Cent'])),\n",
    "    ('equal_freq_disc2',EqualFrequencyDiscretiser(q=25, variables =['IT'])),\n",
    "    ('equal_dist_disc',EqualWidthDiscretiser(bins=15, variables =['fpr'])),\n",
    "    ('capping_right',Winsorizer(distribution='gaussian',tail='right',fold=3,variables=cap_right)),\n",
    "    ('capping_left',Winsorizer(distribution='gaussian',tail='left',fold=3,variables=cap_left)),\n",
    "    # categorical encoding \n",
    "     ('rare_label_enc', ce.RareLabelCategoricalEncoder(tol=0.01,n_categories=6, variables=categorical )),\n",
    "    #('categorical_enc', ce.OrdinalCategoricalEncoder(encoding_method='ordered', variables=categorical)),\n",
    "    ('One_hot', ce.OneHotCategoricalEncoder(variables = categorical)),\n",
    "     \n",
    "])"
   ]
  },
  {
   "cell_type": "code",
   "execution_count": 742,
   "metadata": {
    "ExecuteTime": {
     "end_time": "2020-04-04T02:35:31.992023Z",
     "start_time": "2020-04-04T02:35:31.853395Z"
    }
   },
   "outputs": [
    {
     "data": {
      "text/plain": [
       "Pipeline(memory=None,\n",
       "         steps=[('imputer_num',\n",
       "                 MeanMedianImputer(imputation_method='median',\n",
       "                                   variables=['FS'])),\n",
       "                ('equal_freq_disc1',\n",
       "                 EqualFrequencyDiscretiser(q=20, return_object=False,\n",
       "                                           variables=['npr', 'Cent'])),\n",
       "                ('equal_freq_disc2',\n",
       "                 EqualFrequencyDiscretiser(q=25, return_object=False,\n",
       "                                           variables=['IT'])),\n",
       "                ('equal_dist_disc',\n",
       "                 EqualWidthDiscretiser(bins=15, return...\n",
       "                            variables=['lag_d', 'noc', 'tbm'])),\n",
       "                ('capping_left',\n",
       "                 Winsorizer(distribution='gaussian', fold=3, tail='left',\n",
       "                            variables=['tbru'])),\n",
       "                ('rare_label_enc',\n",
       "                 RareLabelCategoricalEncoder(n_categories=6, tol=0.01,\n",
       "                                             variables=['firm', 'UMC', 'MSA',\n",
       "                                                        'FT'])),\n",
       "                ('One_hot',\n",
       "                 OneHotCategoricalEncoder(drop_last=False, top_categories=None,\n",
       "                                          variables=['firm', 'UMC', 'MSA',\n",
       "                                                     'FT']))],\n",
       "         verbose=False)"
      ]
     },
     "execution_count": 742,
     "metadata": {},
     "output_type": "execute_result"
    }
   ],
   "source": [
    "patent_preprocess.fit(X_train,y_train)"
   ]
  },
  {
   "cell_type": "code",
   "execution_count": 743,
   "metadata": {
    "ExecuteTime": {
     "end_time": "2020-04-04T02:35:35.812597Z",
     "start_time": "2020-04-04T02:35:35.013635Z"
    }
   },
   "outputs": [],
   "source": [
    "# Apply Transformations\n",
    "X_train=patent_preprocess.transform(X_train)\n",
    "X_test=patent_preprocess.transform(X_test)"
   ]
  },
  {
   "cell_type": "code",
   "execution_count": 744,
   "metadata": {
    "ExecuteTime": {
     "end_time": "2020-04-04T02:35:37.566309Z",
     "start_time": "2020-04-04T02:35:37.518253Z"
    }
   },
   "outputs": [],
   "source": [
    "from sklearn.linear_model import LinearRegression\n",
    "from sklearn.linear_model import SGDRegressor\n",
    "from sklearn.preprocessing import PolynomialFeatures\n"
   ]
  },
  {
   "cell_type": "code",
   "execution_count": 745,
   "metadata": {
    "ExecuteTime": {
     "end_time": "2020-04-04T02:35:40.808875Z",
     "start_time": "2020-04-04T02:35:40.805852Z"
    }
   },
   "outputs": [],
   "source": [
    "lr= LinearRegression()"
   ]
  },
  {
   "cell_type": "code",
   "execution_count": 746,
   "metadata": {
    "ExecuteTime": {
     "end_time": "2020-04-04T02:35:43.552801Z",
     "start_time": "2020-04-04T02:35:43.294461Z"
    }
   },
   "outputs": [
    {
     "data": {
      "text/plain": [
       "LinearRegression(copy_X=True, fit_intercept=True, n_jobs=None, normalize=False)"
      ]
     },
     "execution_count": 746,
     "metadata": {},
     "output_type": "execute_result"
    }
   ],
   "source": [
    "lr.fit(X_train,y_train)"
   ]
  },
  {
   "cell_type": "code",
   "execution_count": 747,
   "metadata": {
    "ExecuteTime": {
     "end_time": "2020-04-04T02:35:49.533663Z",
     "start_time": "2020-04-04T02:35:48.230149Z"
    }
   },
   "outputs": [
    {
     "name": "stdout",
     "output_type": "stream",
     "text": [
      "Cross-validation scores: [0.17267338 0.17349531 0.16524642 0.14652794 0.15886418]\n",
      "Average cross-validation score: 0.16\n"
     ]
    }
   ],
   "source": [
    "from sklearn.model_selection import cross_val_score\n",
    "scores = cross_val_score(lr, X_train, y_train)\n",
    "print(\"Cross-validation scores: {}\".format(scores))\n",
    "print(\"Average cross-validation score: {:.2f}\".format(scores.mean()))"
   ]
  },
  {
   "cell_type": "code",
   "execution_count": 748,
   "metadata": {
    "ExecuteTime": {
     "end_time": "2020-04-04T02:35:51.914833Z",
     "start_time": "2020-04-04T02:35:51.853995Z"
    }
   },
   "outputs": [
    {
     "data": {
      "text/plain": [
       "0.16759400300731764"
      ]
     },
     "execution_count": 748,
     "metadata": {},
     "output_type": "execute_result"
    }
   ],
   "source": [
    "lr.score(X_train,y_train)"
   ]
  },
  {
   "cell_type": "code",
   "execution_count": 749,
   "metadata": {
    "ExecuteTime": {
     "end_time": "2020-04-04T02:35:54.347486Z",
     "start_time": "2020-04-04T02:35:54.325542Z"
    }
   },
   "outputs": [
    {
     "data": {
      "text/plain": [
       "0.16454088984181903"
      ]
     },
     "execution_count": 749,
     "metadata": {},
     "output_type": "execute_result"
    }
   ],
   "source": [
    "lr.score(X_test,y_test)"
   ]
  },
  {
   "cell_type": "code",
   "execution_count": 750,
   "metadata": {},
   "outputs": [],
   "source": [
    "def add_const(X):\n",
    "    #X['noc'] = X['noc'].apply(lambda x: np.log(x+0.001))\n",
    "    return X+0.0001"
   ]
  },
  {
   "cell_type": "code",
   "execution_count": 751,
   "metadata": {},
   "outputs": [],
   "source": [
    "model_gs = Pipeline([(\"Poly\",PolynomialFeatures()),(\"add_constant\",FunctionTransformer()),(\"regressor\", LinearRegression())])\n"
   ]
  },
  {
   "cell_type": "code",
   "execution_count": 752,
   "metadata": {},
   "outputs": [],
   "source": [
    "\n",
    "model_parm_gd = [\n",
    "    \n",
    "    #{'regressor': [LinearRegression()]},\n",
    "    \n",
    "    {   'Poly__degree':range(1,3),\n",
    "      #'log_transformer':[FunctionTransformer(add_const,validate=True)], \n",
    "       'regressor': [LinearRegression()]},\n",
    "]"
   ]
  },
  {
   "cell_type": "code",
   "execution_count": 753,
   "metadata": {},
   "outputs": [
    {
     "name": "stdout",
     "output_type": "stream",
     "text": [
      "Best Mean Cross-validation score: 0.16\n",
      "{'Poly__degree': 1, 'regressor': LinearRegression(copy_X=True, fit_intercept=True, n_jobs=None, normalize=False)}\n",
      "train mse: 910.8968321460575\n",
      "train rmse: 30.18106744543767\n",
      "train r2: 0.16759400270431835\n",
      "\n",
      "test mse: 981.4114235045838\n",
      "test rmse: 31.327486709032115\n",
      "test r2: 0.1645408413852154\n"
     ]
    }
   ],
   "source": [
    "grid_search_house_pipe = GridSearchCV(model_gs, model_parm_gd,cv=5)\n",
    "grid_search_house_pipe.fit(X_train,y_train)\n",
    "\n",
    "X_train_preds = grid_search_house_pipe.predict(X_train)\n",
    "X_test_preds = grid_search_house_pipe.predict(X_test)\n",
    "\n",
    "\n",
    "from sklearn.metrics import mean_squared_error,r2_score\n",
    "from math import sqrt\n",
    "\n",
    "print(\"Best Mean Cross-validation score: {:.2f}\".format(grid_search_house_pipe.best_score_))\n",
    "print(grid_search_house_pipe.best_params_)\n",
    "\n",
    "\n",
    "\n",
    "print('train mse: {}'.format(mean_squared_error(y_train, X_train_preds)))\n",
    "print('train rmse: {}'.format(sqrt(mean_squared_error(y_train, X_train_preds))))\n",
    "print('train r2: {}'.format(r2_score(y_train, X_train_preds)))\n",
    "print()\n",
    "print('test mse: {}'.format(mean_squared_error(y_test, X_test_preds)))\n",
    "print('test rmse: {}'.format(sqrt(mean_squared_error(y_test, X_test_preds))))\n",
    "print('test r2: {}'.format(r2_score(y_test, X_test_preds)))\n"
   ]
  },
  {
   "cell_type": "code",
   "execution_count": 754,
   "metadata": {},
   "outputs": [
    {
     "name": "stdout",
     "output_type": "stream",
     "text": [
      "-- Epoch 1\n",
      "Norm: 81.01, NNZs: 93, Bias: 19.716696, T: 41942, Avg. loss: 389.900196\n",
      "Total training time: 0.04 seconds.\n",
      "-- Epoch 2\n",
      "Norm: 94.78, NNZs: 90, Bias: 17.722189, T: 83884, Avg. loss: 384.747898\n",
      "Total training time: 0.08 seconds.\n",
      "-- Epoch 3\n",
      "Norm: 115.54, NNZs: 90, Bias: 18.158073, T: 125826, Avg. loss: 383.937690\n",
      "Total training time: 0.12 seconds.\n",
      "-- Epoch 4\n",
      "Norm: 129.37, NNZs: 86, Bias: 14.131356, T: 167768, Avg. loss: 383.144235\n",
      "Total training time: 0.16 seconds.\n",
      "-- Epoch 5\n",
      "Norm: 148.14, NNZs: 86, Bias: 10.737541, T: 209710, Avg. loss: 382.871197\n",
      "Total training time: 0.21 seconds.\n",
      "-- Epoch 6\n",
      "Norm: 163.02, NNZs: 84, Bias: 11.616131, T: 251652, Avg. loss: 381.837385\n",
      "Total training time: 0.25 seconds.\n",
      "-- Epoch 7\n",
      "Norm: 177.85, NNZs: 86, Bias: 11.781736, T: 293594, Avg. loss: 382.225232\n",
      "Total training time: 0.29 seconds.\n",
      "-- Epoch 8\n",
      "Norm: 179.28, NNZs: 87, Bias: 10.414007, T: 335536, Avg. loss: 370.423293\n",
      "Total training time: 0.33 seconds.\n",
      "-- Epoch 9\n",
      "Norm: 181.24, NNZs: 89, Bias: 11.295877, T: 377478, Avg. loss: 370.223932\n",
      "Total training time: 0.37 seconds.\n",
      "-- Epoch 10\n",
      "Norm: 182.09, NNZs: 89, Bias: 10.404797, T: 419420, Avg. loss: 370.186685\n",
      "Total training time: 0.41 seconds.\n",
      "-- Epoch 11\n",
      "Norm: 182.83, NNZs: 89, Bias: 9.639740, T: 461362, Avg. loss: 370.139548\n",
      "Total training time: 0.45 seconds.\n",
      "-- Epoch 12\n",
      "Norm: 185.08, NNZs: 91, Bias: 10.776131, T: 503304, Avg. loss: 369.968021\n",
      "Total training time: 0.49 seconds.\n",
      "-- Epoch 13\n",
      "Norm: 185.17, NNZs: 91, Bias: 9.757154, T: 545246, Avg. loss: 367.582418\n",
      "Total training time: 0.53 seconds.\n",
      "-- Epoch 14\n",
      "Norm: 185.50, NNZs: 90, Bias: 10.148146, T: 587188, Avg. loss: 367.594279\n",
      "Total training time: 0.57 seconds.\n",
      "-- Epoch 15\n",
      "Norm: 185.73, NNZs: 91, Bias: 10.155680, T: 629130, Avg. loss: 367.482320\n",
      "Total training time: 0.61 seconds.\n",
      "-- Epoch 16\n",
      "Norm: 185.94, NNZs: 90, Bias: 10.161127, T: 671072, Avg. loss: 367.470714\n",
      "Total training time: 0.65 seconds.\n",
      "-- Epoch 17\n",
      "Norm: 186.20, NNZs: 91, Bias: 9.990913, T: 713014, Avg. loss: 367.477146\n",
      "Total training time: 0.69 seconds.\n",
      "-- Epoch 18\n",
      "Norm: 186.23, NNZs: 91, Bias: 9.946305, T: 754956, Avg. loss: 366.832100\n",
      "Total training time: 0.73 seconds.\n",
      "-- Epoch 19\n",
      "Norm: 186.30, NNZs: 91, Bias: 10.177519, T: 796898, Avg. loss: 366.807605\n",
      "Total training time: 0.77 seconds.\n",
      "-- Epoch 20\n",
      "Norm: 186.32, NNZs: 91, Bias: 9.864484, T: 838840, Avg. loss: 366.856304\n",
      "Total training time: 0.81 seconds.\n",
      "-- Epoch 21\n",
      "Norm: 186.36, NNZs: 91, Bias: 9.828346, T: 880782, Avg. loss: 366.831527\n",
      "Total training time: 0.85 seconds.\n",
      "-- Epoch 22\n",
      "Norm: 186.42, NNZs: 91, Bias: 10.066998, T: 922724, Avg. loss: 366.773665\n",
      "Total training time: 0.89 seconds.\n",
      "-- Epoch 23\n",
      "Norm: 186.42, NNZs: 91, Bias: 9.902211, T: 964666, Avg. loss: 366.717802\n",
      "Total training time: 0.93 seconds.\n",
      "-- Epoch 24\n",
      "Norm: 186.43, NNZs: 91, Bias: 9.930068, T: 1006608, Avg. loss: 366.701226\n",
      "Total training time: 0.97 seconds.\n",
      "-- Epoch 25\n",
      "Norm: 186.44, NNZs: 91, Bias: 9.961657, T: 1048550, Avg. loss: 366.696807\n",
      "Total training time: 1.01 seconds.\n",
      "-- Epoch 26\n",
      "Norm: 186.44, NNZs: 91, Bias: 9.878651, T: 1090492, Avg. loss: 366.684259\n",
      "Total training time: 1.05 seconds.\n",
      "-- Epoch 27\n",
      "Norm: 186.46, NNZs: 91, Bias: 9.923127, T: 1132434, Avg. loss: 366.705456\n",
      "Total training time: 1.09 seconds.\n",
      "-- Epoch 28\n",
      "Norm: 186.46, NNZs: 91, Bias: 9.924204, T: 1174376, Avg. loss: 366.666703\n",
      "Total training time: 1.13 seconds.\n",
      "-- Epoch 29\n",
      "Norm: 186.46, NNZs: 91, Bias: 9.926623, T: 1216318, Avg. loss: 366.666303\n",
      "Total training time: 1.17 seconds.\n",
      "-- Epoch 30\n",
      "Norm: 186.46, NNZs: 91, Bias: 9.925565, T: 1258260, Avg. loss: 366.666836\n",
      "Total training time: 1.21 seconds.\n",
      "-- Epoch 31\n",
      "Norm: 186.47, NNZs: 91, Bias: 9.924759, T: 1300202, Avg. loss: 366.666670\n",
      "Total training time: 1.25 seconds.\n",
      "-- Epoch 32\n",
      "Norm: 186.47, NNZs: 91, Bias: 9.920775, T: 1342144, Avg. loss: 366.666225\n",
      "Total training time: 1.29 seconds.\n",
      "-- Epoch 33\n",
      "Norm: 186.47, NNZs: 91, Bias: 9.920736, T: 1384086, Avg. loss: 366.659168\n",
      "Total training time: 1.32 seconds.\n",
      "-- Epoch 34\n",
      "Norm: 186.47, NNZs: 91, Bias: 9.920514, T: 1426028, Avg. loss: 366.659090\n",
      "Total training time: 1.36 seconds.\n",
      "-- Epoch 35\n",
      "Norm: 186.47, NNZs: 91, Bias: 9.920486, T: 1467970, Avg. loss: 366.659140\n",
      "Total training time: 1.40 seconds.\n",
      "-- Epoch 36\n",
      "Norm: 186.47, NNZs: 91, Bias: 9.920318, T: 1509912, Avg. loss: 366.659103\n",
      "Total training time: 1.44 seconds.\n",
      "-- Epoch 37\n",
      "Norm: 186.47, NNZs: 91, Bias: 9.920160, T: 1551854, Avg. loss: 366.659081\n",
      "Total training time: 1.48 seconds.\n",
      "Convergence after 37 epochs took 1.48 seconds\n",
      "-- Epoch 1\n",
      "Norm: 77.49, NNZs: 96, Bias: 20.206078, T: 33553, Avg. loss: 402.016726\n",
      "Total training time: 0.03 seconds.\n",
      "-- Epoch 2\n",
      "Norm: 88.35, NNZs: 96, Bias: 14.993709, T: 67106, Avg. loss: 396.878711\n",
      "Total training time: 0.07 seconds.\n",
      "-- Epoch 3\n",
      "Norm: 96.46, NNZs: 95, Bias: 21.340661, T: 100659, Avg. loss: 397.733405\n",
      "Total training time: 0.10 seconds.\n",
      "-- Epoch 4\n",
      "Norm: 102.68, NNZs: 96, Bias: 15.987279, T: 134212, Avg. loss: 396.670244\n",
      "Total training time: 0.14 seconds.\n",
      "-- Epoch 5\n",
      "Norm: 114.27, NNZs: 96, Bias: 18.509395, T: 167765, Avg. loss: 395.987059\n",
      "Total training time: 0.17 seconds.\n",
      "-- Epoch 6\n",
      "Norm: 117.80, NNZs: 96, Bias: 13.844120, T: 201318, Avg. loss: 396.276287\n",
      "Total training time: 0.21 seconds.\n",
      "-- Epoch 7\n",
      "Norm: 124.29, NNZs: 96, Bias: 15.234251, T: 234871, Avg. loss: 394.840955\n",
      "Total training time: 0.24 seconds.\n",
      "-- Epoch 8\n",
      "Norm: 130.12, NNZs: 95, Bias: 13.078326, T: 268424, Avg. loss: 395.985832\n",
      "Total training time: 0.28 seconds.\n",
      "-- Epoch 9\n",
      "Norm: 134.97, NNZs: 96, Bias: 11.447605, T: 301977, Avg. loss: 395.437053\n",
      "Total training time: 0.32 seconds.\n",
      "-- Epoch 10\n",
      "Norm: 139.70, NNZs: 94, Bias: 10.998758, T: 335530, Avg. loss: 395.469776\n",
      "Total training time: 0.36 seconds.\n",
      "-- Epoch 11\n",
      "Norm: 143.60, NNZs: 94, Bias: 10.990179, T: 369083, Avg. loss: 395.402145\n",
      "Total training time: 0.39 seconds.\n",
      "-- Epoch 12\n",
      "Norm: 148.81, NNZs: 95, Bias: 12.370133, T: 402636, Avg. loss: 395.370675\n",
      "Total training time: 0.43 seconds.\n",
      "-- Epoch 13\n",
      "Norm: 151.11, NNZs: 94, Bias: 8.626857, T: 436189, Avg. loss: 394.471519\n",
      "Total training time: 0.47 seconds.\n",
      "-- Epoch 14\n",
      "Norm: 155.66, NNZs: 92, Bias: 11.827740, T: 469742, Avg. loss: 394.182831\n",
      "Total training time: 0.50 seconds.\n",
      "-- Epoch 15\n",
      "Norm: 155.95, NNZs: 96, Bias: 11.560508, T: 503295, Avg. loss: 395.051589\n",
      "Total training time: 0.54 seconds.\n",
      "-- Epoch 16\n",
      "Norm: 156.52, NNZs: 96, Bias: 9.655764, T: 536848, Avg. loss: 382.323752\n",
      "Total training time: 0.57 seconds.\n",
      "-- Epoch 17\n",
      "Norm: 157.26, NNZs: 95, Bias: 11.572866, T: 570401, Avg. loss: 381.826743\n",
      "Total training time: 0.61 seconds.\n",
      "-- Epoch 18\n",
      "Norm: 157.17, NNZs: 95, Bias: 10.767687, T: 603954, Avg. loss: 381.755924\n",
      "Total training time: 0.64 seconds.\n",
      "-- Epoch 19\n",
      "Norm: 157.02, NNZs: 95, Bias: 10.936461, T: 637507, Avg. loss: 381.692665\n",
      "Total training time: 0.68 seconds.\n",
      "-- Epoch 20\n",
      "Norm: 158.02, NNZs: 93, Bias: 10.986475, T: 671060, Avg. loss: 381.759436\n",
      "Total training time: 0.72 seconds.\n",
      "-- Epoch 21\n",
      "Norm: 157.93, NNZs: 94, Bias: 11.395703, T: 704613, Avg. loss: 379.034980\n",
      "Total training time: 0.75 seconds.\n",
      "-- Epoch 22\n",
      "Norm: 157.94, NNZs: 94, Bias: 10.950996, T: 738166, Avg. loss: 378.971761\n",
      "Total training time: 0.79 seconds.\n",
      "-- Epoch 23\n",
      "Norm: 157.85, NNZs: 94, Bias: 10.518022, T: 771719, Avg. loss: 378.903515\n",
      "Total training time: 0.82 seconds.\n",
      "-- Epoch 24\n",
      "Norm: 157.92, NNZs: 94, Bias: 10.724506, T: 805272, Avg. loss: 378.914412\n",
      "Total training time: 0.85 seconds.\n",
      "-- Epoch 25\n",
      "Norm: 158.01, NNZs: 94, Bias: 10.729102, T: 838825, Avg. loss: 378.962670\n",
      "Total training time: 0.89 seconds.\n",
      "-- Epoch 26\n",
      "Norm: 158.01, NNZs: 94, Bias: 10.809803, T: 872378, Avg. loss: 378.295426\n",
      "Total training time: 0.92 seconds.\n",
      "-- Epoch 27\n",
      "Norm: 158.03, NNZs: 94, Bias: 10.892121, T: 905931, Avg. loss: 378.243158\n",
      "Total training time: 0.95 seconds.\n",
      "-- Epoch 28\n",
      "Norm: 158.03, NNZs: 94, Bias: 10.886796, T: 939484, Avg. loss: 378.260154\n",
      "Total training time: 0.98 seconds.\n",
      "-- Epoch 29\n",
      "Norm: 158.03, NNZs: 94, Bias: 10.694777, T: 973037, Avg. loss: 378.263921\n",
      "Total training time: 1.02 seconds.\n",
      "-- Epoch 30\n",
      "Norm: 158.04, NNZs: 94, Bias: 10.768210, T: 1006590, Avg. loss: 378.241362\n",
      "Total training time: 1.05 seconds.\n",
      "-- Epoch 31\n",
      "Norm: 158.05, NNZs: 94, Bias: 10.829159, T: 1040143, Avg. loss: 378.123501\n",
      "Total training time: 1.09 seconds.\n",
      "-- Epoch 32\n",
      "Norm: 158.05, NNZs: 94, Bias: 10.822109, T: 1073696, Avg. loss: 378.117996\n",
      "Total training time: 1.12 seconds.\n",
      "-- Epoch 33\n",
      "Norm: 158.06, NNZs: 94, Bias: 10.836061, T: 1107249, Avg. loss: 378.117385\n",
      "Total training time: 1.15 seconds.\n",
      "-- Epoch 34\n",
      "Norm: 158.06, NNZs: 94, Bias: 10.855024, T: 1140802, Avg. loss: 378.113356\n",
      "Total training time: 1.19 seconds.\n",
      "-- Epoch 35\n",
      "Norm: 158.06, NNZs: 94, Bias: 10.852383, T: 1174355, Avg. loss: 378.114945\n",
      "Total training time: 1.22 seconds.\n",
      "-- Epoch 36\n",
      "Norm: 158.06, NNZs: 94, Bias: 10.844846, T: 1207908, Avg. loss: 378.083128\n",
      "Total training time: 1.25 seconds.\n",
      "-- Epoch 37\n"
     ]
    },
    {
     "name": "stdout",
     "output_type": "stream",
     "text": [
      "Norm: 158.06, NNZs: 94, Bias: 10.842933, T: 1241461, Avg. loss: 378.082068\n",
      "Total training time: 1.29 seconds.\n",
      "-- Epoch 38\n",
      "Norm: 158.06, NNZs: 94, Bias: 10.839631, T: 1275014, Avg. loss: 378.081878\n",
      "Total training time: 1.32 seconds.\n",
      "-- Epoch 39\n",
      "Norm: 158.06, NNZs: 94, Bias: 10.836098, T: 1308567, Avg. loss: 378.081367\n",
      "Total training time: 1.36 seconds.\n",
      "-- Epoch 40\n",
      "Norm: 158.06, NNZs: 94, Bias: 10.833428, T: 1342120, Avg. loss: 378.081082\n",
      "Total training time: 1.39 seconds.\n",
      "-- Epoch 41\n",
      "Norm: 158.06, NNZs: 94, Bias: 10.833596, T: 1375673, Avg. loss: 378.073819\n",
      "Total training time: 1.43 seconds.\n",
      "-- Epoch 42\n",
      "Norm: 158.06, NNZs: 94, Bias: 10.833785, T: 1409226, Avg. loss: 378.073815\n",
      "Total training time: 1.46 seconds.\n",
      "-- Epoch 43\n",
      "Norm: 158.06, NNZs: 94, Bias: 10.833890, T: 1442779, Avg. loss: 378.073781\n",
      "Total training time: 1.50 seconds.\n",
      "-- Epoch 44\n",
      "Norm: 158.06, NNZs: 94, Bias: 10.834291, T: 1476332, Avg. loss: 378.073729\n",
      "Total training time: 1.53 seconds.\n",
      "-- Epoch 45\n",
      "Norm: 158.06, NNZs: 94, Bias: 10.834394, T: 1509885, Avg. loss: 378.073770\n",
      "Total training time: 1.57 seconds.\n",
      "Convergence after 45 epochs took 1.57 seconds\n",
      "-- Epoch 1\n",
      "Norm: 72.52, NNZs: 91, Bias: 21.379840, T: 33553, Avg. loss: 396.581462\n",
      "Total training time: 0.16 seconds.\n",
      "-- Epoch 2\n",
      "Norm: 91.52, NNZs: 91, Bias: 18.856791, T: 67106, Avg. loss: 391.521405\n",
      "Total training time: 0.37 seconds.\n",
      "-- Epoch 3\n",
      "Norm: 105.77, NNZs: 89, Bias: 16.558029, T: 100659, Avg. loss: 390.882925\n",
      "Total training time: 0.57 seconds.\n",
      "-- Epoch 4\n",
      "Norm: 118.61, NNZs: 84, Bias: 15.219311, T: 134212, Avg. loss: 390.490058\n",
      "Total training time: 0.76 seconds.\n",
      "-- Epoch 5\n",
      "Norm: 133.96, NNZs: 87, Bias: 14.367774, T: 167765, Avg. loss: 389.827955\n",
      "Total training time: 0.96 seconds.\n",
      "-- Epoch 6\n",
      "Norm: 145.60, NNZs: 85, Bias: 12.939508, T: 201318, Avg. loss: 389.223177\n",
      "Total training time: 1.14 seconds.\n",
      "-- Epoch 7\n",
      "Norm: 156.16, NNZs: 83, Bias: 10.876582, T: 234871, Avg. loss: 389.379951\n",
      "Total training time: 1.33 seconds.\n",
      "-- Epoch 8\n",
      "Norm: 169.85, NNZs: 85, Bias: 12.688310, T: 268424, Avg. loss: 389.182023\n",
      "Total training time: 1.52 seconds.\n",
      "-- Epoch 9\n",
      "Norm: 171.26, NNZs: 83, Bias: 10.327027, T: 301977, Avg. loss: 377.031377\n",
      "Total training time: 1.71 seconds.\n",
      "-- Epoch 10\n",
      "Norm: 173.79, NNZs: 87, Bias: 10.548743, T: 335530, Avg. loss: 376.776738\n",
      "Total training time: 1.90 seconds.\n",
      "-- Epoch 11\n",
      "Norm: 175.06, NNZs: 87, Bias: 10.434015, T: 369083, Avg. loss: 377.025053\n",
      "Total training time: 2.13 seconds.\n",
      "-- Epoch 12\n",
      "Norm: 176.57, NNZs: 89, Bias: 10.511144, T: 402636, Avg. loss: 376.308491\n",
      "Total training time: 2.35 seconds.\n",
      "-- Epoch 13\n",
      "Norm: 177.52, NNZs: 87, Bias: 9.371491, T: 436189, Avg. loss: 376.213083\n",
      "Total training time: 2.53 seconds.\n",
      "-- Epoch 14\n",
      "Norm: 177.58, NNZs: 89, Bias: 9.625384, T: 469742, Avg. loss: 374.067546\n",
      "Total training time: 2.73 seconds.\n",
      "-- Epoch 15\n",
      "Norm: 177.72, NNZs: 90, Bias: 9.749526, T: 503295, Avg. loss: 373.958492\n",
      "Total training time: 2.92 seconds.\n",
      "-- Epoch 16\n",
      "Norm: 177.94, NNZs: 90, Bias: 9.711930, T: 536848, Avg. loss: 373.809185\n",
      "Total training time: 3.11 seconds.\n",
      "-- Epoch 17\n",
      "Norm: 178.18, NNZs: 90, Bias: 10.203243, T: 570401, Avg. loss: 373.907597\n",
      "Total training time: 3.30 seconds.\n",
      "-- Epoch 18\n",
      "Norm: 178.34, NNZs: 91, Bias: 9.904623, T: 603954, Avg. loss: 373.958347\n",
      "Total training time: 3.48 seconds.\n",
      "-- Epoch 19\n",
      "Norm: 178.39, NNZs: 91, Bias: 9.908490, T: 637507, Avg. loss: 373.304993\n",
      "Total training time: 3.67 seconds.\n",
      "-- Epoch 20\n",
      "Norm: 178.43, NNZs: 91, Bias: 9.873130, T: 671060, Avg. loss: 373.253306\n",
      "Total training time: 3.87 seconds.\n",
      "-- Epoch 21\n",
      "Norm: 178.46, NNZs: 91, Bias: 9.775943, T: 704613, Avg. loss: 373.291278\n",
      "Total training time: 4.06 seconds.\n",
      "-- Epoch 22\n",
      "Norm: 178.51, NNZs: 91, Bias: 9.811823, T: 738166, Avg. loss: 373.280643\n",
      "Total training time: 4.24 seconds.\n",
      "-- Epoch 23\n",
      "Norm: 178.53, NNZs: 91, Bias: 9.690938, T: 771719, Avg. loss: 373.269252\n",
      "Total training time: 4.42 seconds.\n",
      "-- Epoch 24\n",
      "Norm: 178.55, NNZs: 91, Bias: 9.797984, T: 805272, Avg. loss: 373.182997\n",
      "Total training time: 4.63 seconds.\n",
      "-- Epoch 25\n",
      "Norm: 178.56, NNZs: 91, Bias: 9.818165, T: 838825, Avg. loss: 373.139963\n",
      "Total training time: 4.80 seconds.\n",
      "-- Epoch 26\n",
      "Norm: 178.57, NNZs: 91, Bias: 9.817865, T: 872378, Avg. loss: 373.138163\n",
      "Total training time: 4.98 seconds.\n",
      "-- Epoch 27\n",
      "Norm: 178.58, NNZs: 91, Bias: 9.868946, T: 905931, Avg. loss: 373.125996\n",
      "Total training time: 5.16 seconds.\n",
      "-- Epoch 28\n",
      "Norm: 178.59, NNZs: 91, Bias: 9.848148, T: 939484, Avg. loss: 373.139074\n",
      "Total training time: 5.35 seconds.\n",
      "-- Epoch 29\n",
      "Norm: 178.59, NNZs: 91, Bias: 9.841494, T: 973037, Avg. loss: 373.101315\n",
      "Total training time: 5.52 seconds.\n",
      "-- Epoch 30\n",
      "Norm: 178.59, NNZs: 91, Bias: 9.839012, T: 1006590, Avg. loss: 373.101112\n",
      "Total training time: 5.70 seconds.\n",
      "-- Epoch 31\n",
      "Norm: 178.59, NNZs: 91, Bias: 9.839922, T: 1040143, Avg. loss: 373.100838\n",
      "Total training time: 5.89 seconds.\n",
      "-- Epoch 32\n",
      "Norm: 178.59, NNZs: 91, Bias: 9.836626, T: 1073696, Avg. loss: 373.100754\n",
      "Total training time: 6.07 seconds.\n",
      "-- Epoch 33\n",
      "Norm: 178.60, NNZs: 91, Bias: 9.836064, T: 1107249, Avg. loss: 373.100920\n",
      "Total training time: 6.25 seconds.\n",
      "-- Epoch 34\n",
      "Norm: 178.60, NNZs: 91, Bias: 9.835991, T: 1140802, Avg. loss: 373.093324\n",
      "Total training time: 6.43 seconds.\n",
      "-- Epoch 35\n",
      "Norm: 178.60, NNZs: 91, Bias: 9.835905, T: 1174355, Avg. loss: 373.093326\n",
      "Total training time: 6.63 seconds.\n",
      "-- Epoch 36\n",
      "Norm: 178.60, NNZs: 91, Bias: 9.835888, T: 1207908, Avg. loss: 373.093305\n",
      "Total training time: 6.83 seconds.\n",
      "-- Epoch 37\n",
      "Norm: 178.60, NNZs: 91, Bias: 9.835927, T: 1241461, Avg. loss: 373.093279\n",
      "Total training time: 7.03 seconds.\n",
      "-- Epoch 38\n",
      "Norm: 178.60, NNZs: 91, Bias: 9.835763, T: 1275014, Avg. loss: 373.093292\n",
      "Total training time: 7.21 seconds.\n",
      "Convergence after 38 epochs took 7.24 seconds\n",
      "-- Epoch 1\n",
      "Norm: 73.85, NNZs: 96, Bias: 18.308455, T: 33553, Avg. loss: 393.599890\n",
      "Total training time: 0.04 seconds.\n",
      "-- Epoch 2\n",
      "Norm: 85.09, NNZs: 94, Bias: 17.658142, T: 67106, Avg. loss: 388.252501\n",
      "Total training time: 0.09 seconds.\n",
      "-- Epoch 3\n",
      "Norm: 96.24, NNZs: 93, Bias: 17.312048, T: 100659, Avg. loss: 388.071631\n",
      "Total training time: 0.14 seconds.\n",
      "-- Epoch 4\n",
      "Norm: 107.06, NNZs: 95, Bias: 17.838559, T: 134212, Avg. loss: 387.725948\n",
      "Total training time: 0.19 seconds.\n",
      "-- Epoch 5\n",
      "Norm: 116.21, NNZs: 92, Bias: 16.026467, T: 167765, Avg. loss: 387.126490\n",
      "Total training time: 0.24 seconds.\n",
      "-- Epoch 6\n",
      "Norm: 127.60, NNZs: 96, Bias: 14.967931, T: 201318, Avg. loss: 386.167053\n",
      "Total training time: 0.29 seconds.\n",
      "-- Epoch 7\n",
      "Norm: 128.26, NNZs: 94, Bias: 12.798333, T: 234871, Avg. loss: 374.062077\n",
      "Total training time: 0.34 seconds.\n",
      "-- Epoch 8\n",
      "Norm: 129.42, NNZs: 94, Bias: 13.394148, T: 268424, Avg. loss: 373.345326\n",
      "Total training time: 0.39 seconds.\n",
      "-- Epoch 9\n",
      "Norm: 130.92, NNZs: 92, Bias: 13.356412, T: 301977, Avg. loss: 373.553145\n",
      "Total training time: 0.43 seconds.\n",
      "-- Epoch 10\n",
      "Norm: 132.65, NNZs: 96, Bias: 12.448154, T: 335530, Avg. loss: 373.384716\n",
      "Total training time: 0.48 seconds.\n",
      "-- Epoch 11\n",
      "Norm: 133.90, NNZs: 92, Bias: 12.697537, T: 369083, Avg. loss: 373.353027\n",
      "Total training time: 0.53 seconds.\n",
      "-- Epoch 12\n",
      "Norm: 134.25, NNZs: 93, Bias: 12.765847, T: 402636, Avg. loss: 370.528621\n",
      "Total training time: 0.58 seconds.\n",
      "-- Epoch 13\n",
      "Norm: 134.71, NNZs: 93, Bias: 13.389292, T: 436189, Avg. loss: 370.455134\n",
      "Total training time: 0.62 seconds.\n",
      "-- Epoch 14\n",
      "Norm: 134.91, NNZs: 94, Bias: 12.789133, T: 469742, Avg. loss: 370.589280\n",
      "Total training time: 0.67 seconds.\n",
      "-- Epoch 15\n",
      "Norm: 135.16, NNZs: 94, Bias: 12.821495, T: 503295, Avg. loss: 370.632410\n",
      "Total training time: 0.72 seconds.\n",
      "-- Epoch 16\n",
      "Norm: 135.43, NNZs: 95, Bias: 12.688892, T: 536848, Avg. loss: 370.554936\n",
      "Total training time: 0.76 seconds.\n",
      "-- Epoch 17\n",
      "Norm: 135.46, NNZs: 95, Bias: 12.600665, T: 570401, Avg. loss: 369.941162\n",
      "Total training time: 0.81 seconds.\n",
      "-- Epoch 18\n",
      "Norm: 135.52, NNZs: 95, Bias: 12.657434, T: 603954, Avg. loss: 369.910734\n",
      "Total training time: 0.86 seconds.\n",
      "-- Epoch 19\n",
      "Norm: 135.60, NNZs: 95, Bias: 12.760476, T: 637507, Avg. loss: 369.953448\n",
      "Total training time: 0.91 seconds.\n",
      "-- Epoch 20\n",
      "Norm: 135.64, NNZs: 95, Bias: 12.690771, T: 671060, Avg. loss: 369.942168\n",
      "Total training time: 0.95 seconds.\n",
      "-- Epoch 21\n",
      "Norm: 135.69, NNZs: 95, Bias: 12.575065, T: 704613, Avg. loss: 369.912057\n",
      "Total training time: 1.00 seconds.\n",
      "-- Epoch 22\n",
      "Norm: 135.71, NNZs: 95, Bias: 12.680804, T: 738166, Avg. loss: 369.814150\n",
      "Total training time: 1.05 seconds.\n",
      "-- Epoch 23\n",
      "Norm: 135.73, NNZs: 95, Bias: 12.720125, T: 771719, Avg. loss: 369.778183\n",
      "Total training time: 1.09 seconds.\n",
      "-- Epoch 24\n",
      "Norm: 135.74, NNZs: 95, Bias: 12.716378, T: 805272, Avg. loss: 369.776084\n",
      "Total training time: 1.14 seconds.\n",
      "-- Epoch 25\n"
     ]
    },
    {
     "name": "stdout",
     "output_type": "stream",
     "text": [
      "Norm: 135.75, NNZs: 95, Bias: 12.698101, T: 838825, Avg. loss: 369.776085\n",
      "Total training time: 1.19 seconds.\n",
      "-- Epoch 26\n",
      "Norm: 135.76, NNZs: 95, Bias: 12.680393, T: 872378, Avg. loss: 369.773653\n",
      "Total training time: 1.23 seconds.\n",
      "-- Epoch 27\n",
      "Norm: 135.76, NNZs: 95, Bias: 12.689781, T: 905931, Avg. loss: 369.745296\n",
      "Total training time: 1.28 seconds.\n",
      "-- Epoch 28\n",
      "Norm: 135.76, NNZs: 95, Bias: 12.694948, T: 939484, Avg. loss: 369.743088\n",
      "Total training time: 1.32 seconds.\n",
      "-- Epoch 29\n",
      "Norm: 135.76, NNZs: 95, Bias: 12.699889, T: 973037, Avg. loss: 369.741967\n",
      "Total training time: 1.37 seconds.\n",
      "-- Epoch 30\n",
      "Norm: 135.77, NNZs: 95, Bias: 12.701499, T: 1006590, Avg. loss: 369.741615\n",
      "Total training time: 1.41 seconds.\n",
      "-- Epoch 31\n",
      "Norm: 135.77, NNZs: 95, Bias: 12.701924, T: 1040143, Avg. loss: 369.741448\n",
      "Total training time: 1.46 seconds.\n",
      "-- Epoch 32\n",
      "Norm: 135.77, NNZs: 95, Bias: 12.701963, T: 1073696, Avg. loss: 369.733812\n",
      "Total training time: 1.50 seconds.\n",
      "-- Epoch 33\n",
      "Norm: 135.77, NNZs: 95, Bias: 12.702064, T: 1107249, Avg. loss: 369.733816\n",
      "Total training time: 1.55 seconds.\n",
      "-- Epoch 34\n",
      "Norm: 135.77, NNZs: 95, Bias: 12.702016, T: 1140802, Avg. loss: 369.733758\n",
      "Total training time: 1.60 seconds.\n",
      "-- Epoch 35\n",
      "Norm: 135.77, NNZs: 95, Bias: 12.702212, T: 1174355, Avg. loss: 369.733765\n",
      "Total training time: 1.65 seconds.\n",
      "-- Epoch 36\n",
      "Norm: 135.77, NNZs: 95, Bias: 12.702452, T: 1207908, Avg. loss: 369.733728\n",
      "Total training time: 1.70 seconds.\n",
      "Convergence after 36 epochs took 1.71 seconds\n",
      "-- Epoch 1\n",
      "Norm: 76.07, NNZs: 94, Bias: 17.403114, T: 33554, Avg. loss: 386.470141\n",
      "Total training time: 0.05 seconds.\n",
      "-- Epoch 2\n",
      "Norm: 86.22, NNZs: 95, Bias: 18.921374, T: 67108, Avg. loss: 381.443726\n",
      "Total training time: 0.12 seconds.\n",
      "-- Epoch 3\n",
      "Norm: 98.02, NNZs: 94, Bias: 17.369083, T: 100662, Avg. loss: 380.795258\n",
      "Total training time: 0.18 seconds.\n",
      "-- Epoch 4\n",
      "Norm: 109.36, NNZs: 93, Bias: 15.547178, T: 134216, Avg. loss: 380.313377\n",
      "Total training time: 0.24 seconds.\n",
      "-- Epoch 5\n",
      "Norm: 119.60, NNZs: 94, Bias: 13.468828, T: 167770, Avg. loss: 379.813389\n",
      "Total training time: 0.30 seconds.\n",
      "-- Epoch 6\n",
      "Norm: 129.09, NNZs: 91, Bias: 10.612678, T: 201324, Avg. loss: 379.662580\n",
      "Total training time: 0.36 seconds.\n",
      "-- Epoch 7\n",
      "Norm: 139.90, NNZs: 91, Bias: 11.653877, T: 234878, Avg. loss: 379.726947\n",
      "Total training time: 0.42 seconds.\n",
      "-- Epoch 8\n",
      "Norm: 144.93, NNZs: 91, Bias: 8.793017, T: 268432, Avg. loss: 379.144168\n",
      "Total training time: 0.47 seconds.\n",
      "-- Epoch 9\n",
      "Norm: 155.30, NNZs: 93, Bias: 11.748256, T: 301986, Avg. loss: 378.541750\n",
      "Total training time: 0.53 seconds.\n",
      "-- Epoch 10\n",
      "Norm: 164.05, NNZs: 91, Bias: 8.925926, T: 335540, Avg. loss: 377.783006\n",
      "Total training time: 0.59 seconds.\n",
      "-- Epoch 11\n",
      "Norm: 166.94, NNZs: 93, Bias: 6.778993, T: 369094, Avg. loss: 377.880406\n",
      "Total training time: 0.65 seconds.\n",
      "-- Epoch 12\n",
      "Norm: 169.67, NNZs: 93, Bias: 8.231704, T: 402648, Avg. loss: 366.607141\n",
      "Total training time: 0.71 seconds.\n",
      "-- Epoch 13\n",
      "Norm: 170.66, NNZs: 94, Bias: 7.377475, T: 436202, Avg. loss: 365.881468\n",
      "Total training time: 0.77 seconds.\n",
      "-- Epoch 14\n",
      "Norm: 171.61, NNZs: 95, Bias: 7.456627, T: 469756, Avg. loss: 365.732338\n",
      "Total training time: 0.83 seconds.\n",
      "-- Epoch 15\n",
      "Norm: 173.02, NNZs: 94, Bias: 8.453840, T: 503310, Avg. loss: 365.538062\n",
      "Total training time: 0.89 seconds.\n",
      "-- Epoch 16\n",
      "Norm: 173.72, NNZs: 92, Bias: 8.439661, T: 536864, Avg. loss: 365.268740\n",
      "Total training time: 0.94 seconds.\n",
      "-- Epoch 17\n",
      "Norm: 173.88, NNZs: 94, Bias: 8.184543, T: 570418, Avg. loss: 363.300850\n",
      "Total training time: 1.00 seconds.\n",
      "-- Epoch 18\n",
      "Norm: 174.20, NNZs: 94, Bias: 8.531616, T: 603972, Avg. loss: 363.265108\n",
      "Total training time: 1.06 seconds.\n",
      "-- Epoch 19\n",
      "Norm: 174.37, NNZs: 95, Bias: 8.772640, T: 637526, Avg. loss: 363.019458\n",
      "Total training time: 1.12 seconds.\n",
      "-- Epoch 20\n",
      "Norm: 174.44, NNZs: 94, Bias: 8.374383, T: 671080, Avg. loss: 363.172794\n",
      "Total training time: 1.18 seconds.\n",
      "-- Epoch 21\n",
      "Norm: 174.61, NNZs: 95, Bias: 8.094051, T: 704634, Avg. loss: 363.118386\n",
      "Total training time: 1.24 seconds.\n",
      "-- Epoch 22\n",
      "Norm: 174.65, NNZs: 95, Bias: 8.181894, T: 738188, Avg. loss: 362.581332\n",
      "Total training time: 1.30 seconds.\n",
      "-- Epoch 23\n",
      "Norm: 174.69, NNZs: 95, Bias: 8.261630, T: 771742, Avg. loss: 362.551085\n",
      "Total training time: 1.35 seconds.\n",
      "-- Epoch 24\n",
      "Norm: 174.75, NNZs: 95, Bias: 8.426268, T: 805296, Avg. loss: 362.514651\n",
      "Total training time: 1.41 seconds.\n",
      "-- Epoch 25\n",
      "Norm: 174.77, NNZs: 95, Bias: 8.301110, T: 838850, Avg. loss: 362.558727\n",
      "Total training time: 1.47 seconds.\n",
      "-- Epoch 26\n",
      "Norm: 174.78, NNZs: 95, Bias: 8.148861, T: 872404, Avg. loss: 362.536293\n",
      "Total training time: 1.53 seconds.\n",
      "-- Epoch 27\n",
      "Norm: 174.80, NNZs: 95, Bias: 8.233327, T: 905958, Avg. loss: 362.432709\n",
      "Total training time: 1.59 seconds.\n",
      "-- Epoch 28\n",
      "Norm: 174.81, NNZs: 95, Bias: 8.261588, T: 939512, Avg. loss: 362.403436\n",
      "Total training time: 1.65 seconds.\n",
      "-- Epoch 29\n",
      "Norm: 174.81, NNZs: 95, Bias: 8.251476, T: 973066, Avg. loss: 362.402706\n",
      "Total training time: 1.71 seconds.\n",
      "-- Epoch 30\n",
      "Norm: 174.82, NNZs: 95, Bias: 8.260647, T: 1006620, Avg. loss: 362.400174\n",
      "Total training time: 1.76 seconds.\n",
      "-- Epoch 31\n",
      "Norm: 174.83, NNZs: 95, Bias: 8.284148, T: 1040174, Avg. loss: 362.396130\n",
      "Total training time: 1.82 seconds.\n",
      "-- Epoch 32\n",
      "Norm: 174.83, NNZs: 95, Bias: 8.276440, T: 1073728, Avg. loss: 362.370169\n",
      "Total training time: 1.88 seconds.\n",
      "-- Epoch 33\n",
      "Norm: 174.83, NNZs: 95, Bias: 8.270735, T: 1107282, Avg. loss: 362.368337\n",
      "Total training time: 1.93 seconds.\n",
      "-- Epoch 34\n",
      "Norm: 174.83, NNZs: 95, Bias: 8.268504, T: 1140836, Avg. loss: 362.367816\n",
      "Total training time: 1.99 seconds.\n",
      "-- Epoch 35\n",
      "Norm: 174.83, NNZs: 95, Bias: 8.266714, T: 1174390, Avg. loss: 362.367317\n",
      "Total training time: 2.04 seconds.\n",
      "-- Epoch 36\n",
      "Norm: 174.84, NNZs: 95, Bias: 8.269065, T: 1207944, Avg. loss: 362.366720\n",
      "Total training time: 2.10 seconds.\n",
      "-- Epoch 37\n",
      "Norm: 174.84, NNZs: 95, Bias: 8.268541, T: 1241498, Avg. loss: 362.360222\n",
      "Total training time: 2.15 seconds.\n",
      "-- Epoch 38\n",
      "Norm: 174.84, NNZs: 95, Bias: 8.268014, T: 1275052, Avg. loss: 362.360154\n",
      "Total training time: 2.21 seconds.\n",
      "-- Epoch 39\n",
      "Norm: 174.84, NNZs: 95, Bias: 8.267545, T: 1308606, Avg. loss: 362.360103\n",
      "Total training time: 2.26 seconds.\n",
      "-- Epoch 40\n",
      "Norm: 174.84, NNZs: 95, Bias: 8.267169, T: 1342160, Avg. loss: 362.360070\n",
      "Total training time: 2.32 seconds.\n",
      "-- Epoch 41\n",
      "Norm: 174.84, NNZs: 95, Bias: 8.266816, T: 1375714, Avg. loss: 362.360033\n",
      "Total training time: 2.37 seconds.\n",
      "Convergence after 41 epochs took 2.38 seconds\n",
      "-- Epoch 1\n",
      "Norm: 73.03, NNZs: 91, Bias: 21.024428, T: 33554, Avg. loss: 388.729935\n",
      "Total training time: 0.04 seconds.\n",
      "-- Epoch 2\n",
      "Norm: 91.62, NNZs: 93, Bias: 16.387437, T: 67108, Avg. loss: 383.229173\n",
      "Total training time: 0.09 seconds.\n",
      "-- Epoch 3\n",
      "Norm: 103.32, NNZs: 88, Bias: 13.416137, T: 100662, Avg. loss: 382.905844\n",
      "Total training time: 0.14 seconds.\n",
      "-- Epoch 4\n",
      "Norm: 117.51, NNZs: 88, Bias: 12.129613, T: 134216, Avg. loss: 382.106362\n",
      "Total training time: 0.19 seconds.\n",
      "-- Epoch 5\n",
      "Norm: 133.52, NNZs: 87, Bias: 11.178645, T: 167770, Avg. loss: 381.289853\n",
      "Total training time: 0.24 seconds.\n",
      "-- Epoch 6\n",
      "Norm: 145.57, NNZs: 91, Bias: 10.713176, T: 201324, Avg. loss: 381.182610\n",
      "Total training time: 0.29 seconds.\n",
      "-- Epoch 7\n",
      "Norm: 159.24, NNZs: 89, Bias: 11.580075, T: 234878, Avg. loss: 379.770730\n",
      "Total training time: 0.34 seconds.\n",
      "-- Epoch 8\n",
      "Norm: 169.07, NNZs: 88, Bias: 11.203743, T: 268432, Avg. loss: 379.888171\n",
      "Total training time: 0.39 seconds.\n",
      "-- Epoch 9\n",
      "Norm: 181.72, NNZs: 82, Bias: 9.649461, T: 301986, Avg. loss: 379.913517\n",
      "Total training time: 0.45 seconds.\n",
      "-- Epoch 10\n",
      "Norm: 182.71, NNZs: 88, Bias: 9.344277, T: 335540, Avg. loss: 368.879308\n",
      "Total training time: 0.49 seconds.\n",
      "-- Epoch 11\n",
      "Norm: 184.09, NNZs: 91, Bias: 9.083320, T: 369094, Avg. loss: 368.274509\n",
      "Total training time: 0.54 seconds.\n",
      "-- Epoch 12\n",
      "Norm: 184.89, NNZs: 90, Bias: 9.030339, T: 402648, Avg. loss: 368.229178\n",
      "Total training time: 0.59 seconds.\n",
      "-- Epoch 13\n",
      "Norm: 186.39, NNZs: 90, Bias: 9.296425, T: 436202, Avg. loss: 367.865191\n",
      "Total training time: 0.64 seconds.\n",
      "-- Epoch 14\n",
      "Norm: 186.68, NNZs: 89, Bias: 7.843022, T: 469756, Avg. loss: 367.901310\n",
      "Total training time: 0.69 seconds.\n",
      "-- Epoch 15\n",
      "Norm: 187.01, NNZs: 90, Bias: 8.107717, T: 503310, Avg. loss: 365.594250\n",
      "Total training time: 0.74 seconds.\n",
      "-- Epoch 16\n",
      "Norm: 187.29, NNZs: 91, Bias: 8.220274, T: 536864, Avg. loss: 365.434465\n",
      "Total training time: 0.79 seconds.\n",
      "-- Epoch 17\n",
      "Norm: 187.62, NNZs: 91, Bias: 8.601658, T: 570418, Avg. loss: 365.414526\n",
      "Total training time: 0.83 seconds.\n",
      "-- Epoch 18\n",
      "Norm: 187.82, NNZs: 91, Bias: 8.227441, T: 603972, Avg. loss: 365.436318\n",
      "Total training time: 0.88 seconds.\n",
      "-- Epoch 19\n"
     ]
    },
    {
     "name": "stdout",
     "output_type": "stream",
     "text": [
      "Norm: 188.00, NNZs: 91, Bias: 8.302140, T: 637526, Avg. loss: 365.436644\n",
      "Total training time: 0.92 seconds.\n",
      "-- Epoch 20\n",
      "Norm: 188.06, NNZs: 91, Bias: 8.364302, T: 671080, Avg. loss: 364.871105\n",
      "Total training time: 0.97 seconds.\n",
      "-- Epoch 21\n",
      "Norm: 188.10, NNZs: 91, Bias: 8.345459, T: 704634, Avg. loss: 364.838833\n",
      "Total training time: 1.01 seconds.\n",
      "-- Epoch 22\n",
      "Norm: 188.14, NNZs: 91, Bias: 8.314775, T: 738188, Avg. loss: 364.834307\n",
      "Total training time: 1.06 seconds.\n",
      "-- Epoch 23\n",
      "Norm: 188.19, NNZs: 91, Bias: 8.391299, T: 771742, Avg. loss: 364.828910\n",
      "Total training time: 1.11 seconds.\n",
      "-- Epoch 24\n",
      "Norm: 188.23, NNZs: 91, Bias: 8.285237, T: 805296, Avg. loss: 364.818252\n",
      "Total training time: 1.15 seconds.\n",
      "-- Epoch 25\n",
      "Norm: 188.25, NNZs: 91, Bias: 8.347862, T: 838850, Avg. loss: 364.693750\n",
      "Total training time: 1.20 seconds.\n",
      "-- Epoch 26\n",
      "Norm: 188.26, NNZs: 91, Bias: 8.337147, T: 872404, Avg. loss: 364.684548\n",
      "Total training time: 1.24 seconds.\n",
      "-- Epoch 27\n",
      "Norm: 188.27, NNZs: 91, Bias: 8.360517, T: 905958, Avg. loss: 364.683042\n",
      "Total training time: 1.29 seconds.\n",
      "-- Epoch 28\n",
      "Norm: 188.28, NNZs: 91, Bias: 8.376214, T: 939512, Avg. loss: 364.676593\n",
      "Total training time: 1.33 seconds.\n",
      "-- Epoch 29\n",
      "Norm: 188.28, NNZs: 91, Bias: 8.311960, T: 973066, Avg. loss: 364.680410\n",
      "Total training time: 1.38 seconds.\n",
      "-- Epoch 30\n",
      "Norm: 188.28, NNZs: 91, Bias: 8.324525, T: 1006620, Avg. loss: 364.657932\n",
      "Total training time: 1.42 seconds.\n",
      "-- Epoch 31\n",
      "Norm: 188.29, NNZs: 91, Bias: 8.330637, T: 1040174, Avg. loss: 364.654796\n",
      "Total training time: 1.47 seconds.\n",
      "-- Epoch 32\n",
      "Norm: 188.29, NNZs: 91, Bias: 8.334677, T: 1073728, Avg. loss: 364.653366\n",
      "Total training time: 1.51 seconds.\n",
      "-- Epoch 33\n",
      "Norm: 188.29, NNZs: 91, Bias: 8.338794, T: 1107282, Avg. loss: 364.652789\n",
      "Total training time: 1.56 seconds.\n",
      "-- Epoch 34\n",
      "Norm: 188.29, NNZs: 91, Bias: 8.342703, T: 1140836, Avg. loss: 364.652021\n",
      "Total training time: 1.60 seconds.\n",
      "-- Epoch 35\n",
      "Norm: 188.29, NNZs: 91, Bias: 8.342457, T: 1174390, Avg. loss: 364.645580\n",
      "Total training time: 1.65 seconds.\n",
      "-- Epoch 36\n",
      "Norm: 188.29, NNZs: 91, Bias: 8.342164, T: 1207944, Avg. loss: 364.645542\n",
      "Total training time: 1.69 seconds.\n",
      "-- Epoch 37\n",
      "Norm: 188.29, NNZs: 91, Bias: 8.341767, T: 1241498, Avg. loss: 364.645490\n",
      "Total training time: 1.73 seconds.\n",
      "-- Epoch 38\n",
      "Norm: 188.29, NNZs: 91, Bias: 8.341747, T: 1275052, Avg. loss: 364.645499\n",
      "Total training time: 1.78 seconds.\n",
      "-- Epoch 39\n",
      "Norm: 188.29, NNZs: 91, Bias: 8.341609, T: 1308606, Avg. loss: 364.645507\n",
      "Total training time: 1.82 seconds.\n",
      "Convergence after 39 epochs took 1.83 seconds\n",
      "Cross-validation scores: [0.17111681 0.17163238 0.16173404 0.15181446 0.15799624]\n",
      "CV Score 0.1661194385800019\n",
      "Mean CV Score : 0.16354036866265922\n",
      "train rmse 30.207787716419304\n",
      "train r2:  0.1661194385800019\n",
      "test rmse 31.354375362063315\n",
      "test r2:  0.16310606225156155\n",
      "best partams {'sgd_reg__alpha': 0.0005, 'sgd_reg__l1_ratio': 0.5, 'sgd_reg__learning_rate': 'adaptive', 'sgd_reg__penalty': 'l1', 'sgd_reg__tol': 0.0001}\n"
     ]
    }
   ],
   "source": [
    "from sklearn.preprocessing import MinMaxScaler\n",
    "\n",
    "reg_sgd_pipe = Pipeline([\n",
    "    ('scaler',MinMaxScaler()),\n",
    "    ('sgd_reg',SGDRegressor(max_iter=100,verbose=11,early_stopping=True,validation_fraction=0.2))\n",
    "])\n",
    "\n",
    "param_sgd = {'sgd_reg__learning_rate':['invscaling','adaptive'],\n",
    "            'sgd_reg__penalty':['l2', 'l1', 'elasticnet'],\n",
    "             'sgd_reg__alpha':[0.0001,0.0005,0.001],\n",
    "             'sgd_reg__l1_ratio':[0.15,0.20,0.40,0.50,0.60],\n",
    "             'sgd_reg__tol':[1e-4,1e-3]\n",
    "            }\n",
    "grid_sgd = GridSearchCV(reg_sgd_pipe,param_sgd,cv=5,n_jobs=-1,return_train_score=True)\n",
    "\n",
    "grid_sgd.fit(X_train,y_train)\n",
    "\n",
    "X_train_preds = grid_sgd.predict(X_train)\n",
    "X_test_preds = grid_sgd.predict(X_test)\n",
    "\n",
    "\n",
    "\n",
    "scores = cross_val_score(grid_sgd, X_train, y_train)\n",
    "print(\"Cross-validation scores: {}\".format(scores))\n",
    "\n",
    "print(\"CV Score\",grid_sgd.score(X_train, y_train))\n",
    "\n",
    "print(\"Mean CV Score :\",grid_sgd.best_score_)\n",
    "\n",
    "print('train rmse',sqrt(mean_squared_error(y_train,X_train_preds)))\n",
    "print(\"train r2: \", r2_score(y_train,X_train_preds))\n",
    "\n",
    "print('test rmse',sqrt(mean_squared_error(y_test,X_test_preds)))\n",
    "print(\"test r2: \", r2_score(y_test,X_test_preds))\n",
    "\n",
    "print('best partams', grid_sgd.best_params_)"
   ]
  },
  {
   "cell_type": "code",
   "execution_count": 755,
   "metadata": {},
   "outputs": [
    {
     "name": "stdout",
     "output_type": "stream",
     "text": [
      "best params  {'ridge_reg__alpha': 0.001}\n",
      "Cross-validation scores: [0.17267337 0.17349531 0.16524642 0.14646206 0.15886419]\n",
      "Cv score  0.16336144479033818\n",
      "train rmse 30.18106743994525\n",
      "train r2:  0.16759400300728466\n",
      "test rmse 31.327485813824357\n",
      "test r2:  0.16454088913302967\n",
      "Ridge Test Performance:  0.16454088913302967\n"
     ]
    }
   ],
   "source": [
    "from sklearn.model_selection import GridSearchCV\n",
    "from sklearn.linear_model import Ridge\n",
    "from sklearn.preprocessing import StandardScaler\n",
    "\n",
    "ridge_pipe = Pipeline([\n",
    "        ('scaler',StandardScaler()),\n",
    "        ('ridge_reg',Ridge())])\n",
    "\n",
    "ridge_params = {'ridge_reg__alpha':[0.001, 0.01,0.05, 0.1, 0.25,0.5,1, 10,100,150]}\n",
    "\n",
    "grid_ridge = GridSearchCV(ridge_pipe,ridge_params,cv=5,return_train_score = True)\n",
    "\n",
    "grid_ridge.fit(X_train,y_train)\n",
    "\n",
    "X_train_preds = grid_ridge.predict(X_train)\n",
    "X_test_preds = grid_ridge.predict(X_test)\n",
    "\n",
    "\n",
    "print('best params ',grid_ridge.best_params_)\n",
    "scores = cross_val_score(grid_ridge, X_train, y_train)\n",
    "print(\"Cross-validation scores: {}\".format(scores))\n",
    "print('Cv score ',grid_ridge.best_score_)\n",
    "\n",
    "print('train rmse',sqrt(mean_squared_error(y_train,X_train_preds)))\n",
    "print(\"train r2: \", r2_score(y_train,X_train_preds))\n",
    "\n",
    "print('test rmse',sqrt(mean_squared_error(y_test,X_test_preds)))\n",
    "print(\"test r2: \", r2_score(y_test,X_test_preds))\n",
    "print(\"Ridge Test Performance: \", grid_ridge.score(X_test,y_test))\n"
   ]
  },
  {
   "cell_type": "code",
   "execution_count": 756,
   "metadata": {},
   "outputs": [
    {
     "name": "stdout",
     "output_type": "stream",
     "text": [
      "CV Score 0.16305691432488886\n",
      "Train RMSE 30.181170562235852\n",
      "Test RMSE 31.328960007636415\n",
      "Test Score/R-Square 0.1644622580141789\n"
     ]
    }
   ],
   "source": [
    "from sklearn.linear_model import Lasso\n",
    "from sklearn.model_selection import GridSearchCV\n",
    "\n",
    "lasso = Lasso(selection='random',max_iter=10000)\n",
    "\n",
    "param_lasso = {'alpha':[0.001, 0.01,0.05, 0.1, 0.25,0.5,1, 10,100,150]}\n",
    "\n",
    "grid_lasso = GridSearchCV(lasso,param_lasso,cv=10, return_train_score = True)\n",
    "\n",
    "grid_lasso.fit(X_train,y_train)\n",
    "\n",
    "X_train_preds = grid_lasso.predict(X_train)\n",
    "X_test_preds = grid_lasso.predict(X_test)\n",
    "\n",
    "print('CV Score',grid_lasso.best_score_)\n",
    "print('Train RMSE',sqrt(mean_squared_error(y_train,X_train_preds)))\n",
    "print('Test RMSE',sqrt(mean_squared_error(y_test,X_test_preds)))\n",
    "print('Test Score/R-Square',grid_lasso.score(X_test,y_test))"
   ]
  },
  {
   "cell_type": "code",
   "execution_count": 757,
   "metadata": {},
   "outputs": [
    {
     "data": {
      "text/plain": [
       "'\\nfrom sklearn.neighbors import KNeighborsRegressor\\n\\nknn_pipe = Pipeline([\\n    (\\'scaler\\',StandardScaler()),\\n    (\\'knn_reg\\',KNeighborsRegressor(algorithm=\\'auto\\'))\\n])\\n\\nknn_params = {\\'knn_reg__weights\\':[\\'uniform\\',\\'distance\\'],\\n             \\'knn_reg__leaf_size\\': [5,10,20,30],\\n             \\'knn_reg__n_neighbors\\': [5,10,15],\\n             \\'knn_reg__p\\':[1,2,3]}\\n\\nknn_reg_grid = GridSearchCV(knn_pipe,knn_params,cv=5,return_train_score = True)\\n\\nknn_reg_grid.fit(X_train,y_train)\\n\\nX_train_preds = knn_reg_grid.predict(X_train)\\nX_test_preds = knn_reg_grid.predict(X_test)\\n\\nprint(\"CV score \",knn_reg_grid.best_score_)\\nprint(\"Best Params \",knn_reg_grid.best_params_)\\n\\nprint(\"train RMSE\",sqrt(mean_squared_error(y_train,X_train_preds)))\\nprint(\"train R2/score\",r2_score(y_train,X_train_preds))\\n\\nprint(\"test RMSE\",sqrt(mean_squared_error(y_test,X_test_preds)))\\nprint(\"test R2/score\",r2_score(y_test,X_test_preds))\\n'"
      ]
     },
     "execution_count": 757,
     "metadata": {},
     "output_type": "execute_result"
    }
   ],
   "source": [
    "#Took too long to run\n",
    "'''\n",
    "from sklearn.neighbors import KNeighborsRegressor\n",
    "\n",
    "knn_pipe = Pipeline([\n",
    "    ('scaler',StandardScaler()),\n",
    "    ('knn_reg',KNeighborsRegressor(algorithm='auto'))\n",
    "])\n",
    "\n",
    "knn_params = {'knn_reg__weights':['uniform','distance'],\n",
    "             'knn_reg__leaf_size': [5,10,20,30],\n",
    "             'knn_reg__n_neighbors': [5,10,15],\n",
    "             'knn_reg__p':[1,2,3]}\n",
    "\n",
    "knn_reg_grid = GridSearchCV(knn_pipe,knn_params,cv=5,return_train_score = True)\n",
    "\n",
    "knn_reg_grid.fit(X_train,y_train)\n",
    "\n",
    "X_train_preds = knn_reg_grid.predict(X_train)\n",
    "X_test_preds = knn_reg_grid.predict(X_test)\n",
    "\n",
    "print(\"CV score \",knn_reg_grid.best_score_)\n",
    "print(\"Best Params \",knn_reg_grid.best_params_)\n",
    "\n",
    "print(\"train RMSE\",sqrt(mean_squared_error(y_train,X_train_preds)))\n",
    "print(\"train R2/score\",r2_score(y_train,X_train_preds))\n",
    "\n",
    "print(\"test RMSE\",sqrt(mean_squared_error(y_test,X_test_preds)))\n",
    "print(\"test R2/score\",r2_score(y_test,X_test_preds))\n",
    "'''\n",
    "\n"
   ]
  },
  {
   "cell_type": "code",
   "execution_count": 759,
   "metadata": {},
   "outputs": [
    {
     "name": "stdout",
     "output_type": "stream",
     "text": [
      "CV score  -0.03791402824122949\n",
      "Best Params  {'dtree_reg__criterion': 'mse', 'dtree_reg__max_depth': 20, 'dtree_reg__max_features': 'auto', 'dtree_reg__min_samples_leaf': 8, 'dtree_reg__min_samples_split': 4, 'dtree_reg__splitter': 'best'}\n",
      "train RMSE 25.49078047786185\n",
      "train R2/score 0.4062108267959845\n",
      "test RMSE 34.436203806362805\n",
      "test R2/score -0.009496120801335106\n"
     ]
    }
   ],
   "source": [
    "from sklearn.tree import DecisionTreeRegressor\n",
    "\n",
    "dreg_pipe = Pipeline([\n",
    "    ('dtree_reg',DecisionTreeRegressor())\n",
    "])\n",
    "\n",
    "dreg_params = {\n",
    "    'dtree_reg__criterion':['mse'],\n",
    "    'dtree_reg__splitter':['best'],\n",
    "    'dtree_reg__max_depth':[20,30],\n",
    "    'dtree_reg__min_samples_split':[4,8,12],\n",
    "    'dtree_reg__min_samples_leaf' :[2,4,8],\n",
    "    'dtree_reg__max_features':['auto']\n",
    "}\n",
    "\n",
    "dtree_reg_grid = GridSearchCV(dreg_pipe,dreg_params,cv=5,return_train_score = True)\n",
    "\n",
    "dtree_reg_grid.fit(X_train,y_train)\n",
    "\n",
    "X_train_preds = dtree_reg_grid.predict(X_train)\n",
    "X_test_preds = dtree_reg_grid.predict(X_test)\n",
    "\n",
    "print(\"CV score \",dtree_reg_grid.best_score_)\n",
    "print(\"Best Params \",dtree_reg_grid.best_params_)\n",
    "\n",
    "print(\"train RMSE\",sqrt(mean_squared_error(y_train,X_train_preds)))\n",
    "print(\"train R2/score\",r2_score(y_train,X_train_preds))\n",
    "\n",
    "print(\"test RMSE\",sqrt(mean_squared_error(y_test,X_test_preds)))\n",
    "print(\"test R2/score\",r2_score(y_test,X_test_preds))"
   ]
  },
  {
   "cell_type": "code",
   "execution_count": null,
   "metadata": {},
   "outputs": [],
   "source": [
    "from sklearn.svm import SVR\n",
    "\n",
    "svm_reg_pipe = Pipeline([\n",
    "    ('svm_reg',SVR())\n",
    "])\n",
    "\n",
    "svm_reg_params = {\n",
    "    'svm_reg__kernel':['linear','poly','rbf','sigmoid'],\n",
    "    'svm_reg__degree':[3,4,5],\n",
    "    'svm_reg__gamma': ['auto','scale'],\n",
    "    'svm_reg__coef0':[2.0,4.0,10.0,15.0]\n",
    "}\n",
    "\n",
    "svm_reg_grid = GridSearchCV(svm_reg_pipe,svm_reg_params,cv=5,return_train_score = True)\n",
    "\n",
    "svm_reg_grid.fit(X_train,y_train)\n",
    "\n",
    "X_train_preds = svm_reg_grid.predict(X_train)\n",
    "X_test_preds = svm_reg_grid.predict(X_test)\n",
    "\n",
    "print(\"CV score \",svm_reg_grid.best_score_)\n",
    "print(\"Best Params \",svm_reg_grid.best_params_)\n",
    "\n",
    "print(\"train RMSE\",sqrt(mean_squared_error(y_train,X_train_preds)))\n",
    "print(\"train R2/score\",r2_score(y_train,X_train_preds))\n",
    "\n",
    "print(\"test RMSE\",sqrt(mean_squared_error(y_test,X_test_preds)))\n",
    "print(\"test R2/score\",r2_score(y_test,X_test_preds))\n"
   ]
  },
  {
   "cell_type": "code",
   "execution_count": null,
   "metadata": {},
   "outputs": [],
   "source": [
    "#took too long to run\n",
    "\n",
    "\n",
    "model_parm_gd = [\n",
    "    \n",
    "    #{'regressor': [LinearRegression()]},\n",
    "    \n",
    "    {   'Poly__degree':range(1,2),\n",
    "       'regressor': [LinearRegression()]},\n",
    "    {   'Poly__degree':range(1,3),\n",
    "        'regressor':[SGDRegressor(max_iter=1000,verbose=11,early_stopping=True,validation_fraction=0.2)],\n",
    "        'regressor__learning_rate':['invscaling','adaptive'],\n",
    "        'regressor__penalty':['l2', 'l1', 'elasticnet'],\n",
    "        'regressor__alpha':[0.0001,0.0005,0.001],\n",
    "        'regressor__l1_ratio':[0.15,0.20,0.40,0.50,0.60],\n",
    "        'regressor__tol':[1e-4,1e-3]\n",
    "    }\n",
    " \n",
    "]\n",
    "\n",
    "    { 'regressor': [Ridge()],\n",
    "     'Poly__degree':range(1,3),\n",
    "     'regressor__alpha':[10, 50,100],\n",
    "    'regressor__solver':['auto']},\n",
    "    \n",
    "    { 'Poly__degree':range(1,3),\n",
    "     'regressor': [Lasso()],\n",
    "      'regressor__alpha':[1, 10,50]},\n",
    "\n",
    "\n",
    "grid_search_house_pipe = GridSearchCV(model_gs, model_parm_gd,cv=5)\n",
    "grid_search_house_pipe.fit(X_train,y_train)\n",
    "\n",
    "\n",
    "# let's get the predictions\n",
    "X_train_preds = grid_search_house_pipe.predict(X_train)\n",
    "X_test_preds = grid_search_house_pipe.predict(X_test)\n",
    "\n",
    "\n",
    "from sklearn.metrics import mean_squared_error,r2_score\n",
    "from math import sqrt\n",
    "\n",
    "print(\"Best Mean Cross-validation score: {:.2f}\".format(grid_search_house_pipe.best_score_))\n",
    "print(grid_search_house_pipe.best_params_)\n",
    "\n",
    "\n",
    "\n",
    "print('train mse: {}'.format(mean_squared_error(y_train, X_train_preds)))\n",
    "print('train rmse: {}'.format(sqrt(mean_squared_error(y_train, X_train_preds))))\n",
    "print('train r2: {}'.format(r2_score(y_train, X_train_preds)))\n",
    "print()\n",
    "print('test mse: {}'.format(mean_squared_error(y_test, X_test_preds)))\n",
    "print('test rmse: {}'.format(sqrt(mean_squared_error(y_test, X_test_preds))))\n",
    "print('test r2: {}'.format(r2_score(y_test, X_test_preds)))\n"
   ]
  },
  {
   "cell_type": "code",
   "execution_count": null,
   "metadata": {},
   "outputs": [],
   "source": []
  },
  {
   "cell_type": "code",
   "execution_count": null,
   "metadata": {},
   "outputs": [],
   "source": []
  },
  {
   "cell_type": "code",
   "execution_count": null,
   "metadata": {},
   "outputs": [],
   "source": []
  }
 ],
 "metadata": {
  "kernelspec": {
   "display_name": "Python 3",
   "language": "python",
   "name": "python3"
  },
  "language_info": {
   "codemirror_mode": {
    "name": "ipython",
    "version": 3
   },
   "file_extension": ".py",
   "mimetype": "text/x-python",
   "name": "python",
   "nbconvert_exporter": "python",
   "pygments_lexer": "ipython3",
   "version": "3.7.6"
  },
  "toc": {
   "base_numbering": 1,
   "nav_menu": {},
   "number_sections": true,
   "sideBar": true,
   "skip_h1_title": false,
   "title_cell": "Table of Contents",
   "title_sidebar": "Contents",
   "toc_cell": false,
   "toc_position": {},
   "toc_section_display": true,
   "toc_window_display": false
  },
  "varInspector": {
   "cols": {
    "lenName": 16,
    "lenType": 16,
    "lenVar": 40
   },
   "kernels_config": {
    "python": {
     "delete_cmd_postfix": "",
     "delete_cmd_prefix": "del ",
     "library": "var_list.py",
     "varRefreshCmd": "print(var_dic_list())"
    },
    "r": {
     "delete_cmd_postfix": ") ",
     "delete_cmd_prefix": "rm(",
     "library": "var_list.r",
     "varRefreshCmd": "cat(var_dic_list()) "
    }
   },
   "types_to_exclude": [
    "module",
    "function",
    "builtin_function_or_method",
    "instance",
    "_Feature"
   ],
   "window_display": false
  }
 },
 "nbformat": 4,
 "nbformat_minor": 4
}
