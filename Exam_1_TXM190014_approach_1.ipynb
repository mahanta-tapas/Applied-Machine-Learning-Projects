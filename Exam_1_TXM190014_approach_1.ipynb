{
 "cells": [
  {
   "cell_type": "markdown",
   "metadata": {},
   "source": [
    "# Results\n",
    "\n",
    "## Linear Regression \n",
    "CV Score: 0.165 \n",
    "Test Score: 0.16454088984181903\n",
    "\n",
    "## Polynomial Regression\n",
    "CV Score: 0.165 \n",
    "Test Score: 0.1645408413852154\n",
    "\n",
    "## SGD Regression\n",
    "CV Score: 0.1634937630453061\n",
    "Test Score: 0.16291008822896602\n",
    "\n",
    "## Ridge Regression\n",
    "CV Score: 0.16336144479033818\n",
    "Test Score: 0.16454088913302967\n",
    "\n",
    "## Lasso Regression\n",
    "CV Score: 0.16305691570212932\n",
    "Test Score: 0.16446225897094277\n",
    "\n",
    "## Dtree Regression\n",
    "CV Score:\n",
    "Test Score:\n",
    "\n",
    "## SVR \n",
    "CV Score:\n",
    "Test Score:"
   ]
  },
  {
   "cell_type": "code",
   "execution_count": 1,
   "metadata": {
    "ExecuteTime": {
     "end_time": "2020-04-12T04:52:31.940164Z",
     "start_time": "2020-04-12T04:52:31.189983Z"
    }
   },
   "outputs": [],
   "source": [
    "import numpy as np\n",
    "import pandas as pd"
   ]
  },
  {
   "cell_type": "code",
   "execution_count": 2,
   "metadata": {
    "ExecuteTime": {
     "end_time": "2020-04-12T04:52:34.310808Z",
     "start_time": "2020-04-12T04:52:33.086820Z"
    }
   },
   "outputs": [
    {
     "name": "stdout",
     "output_type": "stream",
     "text": [
      "Requirement already satisfied: xlrd in c:\\users\\hxs104000\\anaconda3\\envs\\buan6341_2020\\lib\\site-packages (1.2.0)Note: you may need to restart the kernel to use updated packages.\n",
      "\n"
     ]
    }
   ],
   "source": [
    "pip install xlrd"
   ]
  },
  {
   "cell_type": "code",
   "execution_count": 3,
   "metadata": {
    "ExecuteTime": {
     "end_time": "2020-04-12T04:52:52.677560Z",
     "start_time": "2020-04-12T04:52:35.197368Z"
    }
   },
   "outputs": [],
   "source": [
    "data = pd.read_excel(\"Patent Data Variables.xlsx\")\n"
   ]
  },
  {
   "cell_type": "code",
   "execution_count": 4,
   "metadata": {
    "ExecuteTime": {
     "end_time": "2020-04-12T04:52:52.737310Z",
     "start_time": "2020-04-12T04:52:52.720357Z"
    }
   },
   "outputs": [
    {
     "name": "stdout",
     "output_type": "stream",
     "text": [
      "<class 'pandas.core.frame.DataFrame'>\n",
      "RangeIndex: 65535 entries, 0 to 65534\n",
      "Data columns (total 25 columns):\n",
      "pat        65535 non-null int64\n",
      "fwd        65535 non-null int64\n",
      "lag_d      65535 non-null int64\n",
      "lag_y      65535 non-null int64\n",
      "noc        65535 non-null int64\n",
      "gy         65535 non-null int64\n",
      "ay         65535 non-null int64\n",
      "noi        65535 non-null int64\n",
      "UMC        65535 non-null int64\n",
      "firm       65535 non-null int64\n",
      "MSA        65535 non-null int64\n",
      "tbm        65535 non-null int64\n",
      "tbru       65535 non-null float64\n",
      "PAG        65535 non-null float64\n",
      "npr        65535 non-null int64\n",
      "fpr        65535 non-null int64\n",
      "FT         65535 non-null int64\n",
      "Cent       65535 non-null float64\n",
      "EXP_Y      65535 non-null float64\n",
      "DT         65535 non-null float64\n",
      "IT         65535 non-null float64\n",
      "RT         65535 non-null float64\n",
      "3rd_PT     65535 non-null float64\n",
      "Rnd_Int    65535 non-null float64\n",
      "FS         38808 non-null float64\n",
      "dtypes: float64(10), int64(15)\n",
      "memory usage: 12.5 MB\n"
     ]
    }
   ],
   "source": [
    "data.info()"
   ]
  },
  {
   "cell_type": "code",
   "execution_count": 5,
   "metadata": {
    "ExecuteTime": {
     "end_time": "2020-04-12T04:52:52.783187Z",
     "start_time": "2020-04-12T04:52:52.770222Z"
    }
   },
   "outputs": [],
   "source": [
    "data.drop(columns=['lag_y'],inplace=True)"
   ]
  },
  {
   "cell_type": "code",
   "execution_count": 6,
   "metadata": {
    "ExecuteTime": {
     "end_time": "2020-04-12T04:52:52.837056Z",
     "start_time": "2020-04-12T04:52:52.833056Z"
    }
   },
   "outputs": [],
   "source": [
    "#data['log_fwd'] = data['fwd'].apply(lambda x: np.log(x+0.001))\n",
    "#cap_right = ['lag_d','noc','tbm','tbru']\n",
    "#data['lag_d'] = data['lag_d'].apply(lambda x: np.log(x+0.001))\n",
    "#data['noc'] = data['noc'].apply(lambda x: np.log(x+0.001))\n",
    "#data['tbm'] = data['tbm'].apply(lambda x: np.log(x+0.001))\n",
    "#data['tbru'] = data['tbru'].apply(lambda x: np.log(x+0.001))"
   ]
  },
  {
   "cell_type": "code",
   "execution_count": 7,
   "metadata": {
    "ExecuteTime": {
     "end_time": "2020-04-12T04:52:53.365970Z",
     "start_time": "2020-04-12T04:52:52.874940Z"
    }
   },
   "outputs": [
    {
     "data": {
      "text/plain": [
       "((52428, 23), (13107, 23))"
      ]
     },
     "execution_count": 7,
     "metadata": {},
     "output_type": "execute_result"
    }
   ],
   "source": [
    "from sklearn.model_selection import train_test_split\n",
    "'''\n",
    "X_train, X_test, y_train, y_test = train_test_split(data.drop(['log_fwd','fwd','ay','gy'], axis=1),\n",
    "                                                    data['log_fwd'],\n",
    "                                                    test_size=0.2,\n",
    "                                                    random_state=0)\n",
    "'''\n",
    "\n",
    "X_train, X_test, y_train, y_test = train_test_split(data.drop(['fwd'], axis=1),\n",
    "                                                    data['fwd'],\n",
    "                                                    test_size=0.2,\n",
    "                                                    random_state=0)\n",
    "X_train.shape, X_test.shape"
   ]
  },
  {
   "cell_type": "code",
   "execution_count": 8,
   "metadata": {
    "ExecuteTime": {
     "end_time": "2020-04-12T04:52:53.441767Z",
     "start_time": "2020-04-12T04:52:53.437809Z"
    }
   },
   "outputs": [],
   "source": [
    "#categorical=['ay','gy','firm','UMC','MSA','FT']\n",
    "categorical=['firm','UMC','MSA','FT']"
   ]
  },
  {
   "cell_type": "code",
   "execution_count": 9,
   "metadata": {
    "ExecuteTime": {
     "end_time": "2020-04-12T04:52:53.516584Z",
     "start_time": "2020-04-12T04:52:53.510618Z"
    }
   },
   "outputs": [
    {
     "data": {
      "text/plain": [
       "\"\\nimport matplotlib.pyplot as plt\\n\\nvar = 'npr'\\n\\ndisc = EqualFrequencyDiscretiser(q=25, variables =var)\\ndisc.fit(X_train)\\ntrain_t = disc.transform(X_train)\\npd.concat([train_t, y_train], axis=1).groupby(var)['fwd'].mean().plot()\\nprint(disc.binner_dict_)\\nplt.ylabel('mean of fwd')\\n\""
      ]
     },
     "execution_count": 9,
     "metadata": {},
     "output_type": "execute_result"
    }
   ],
   "source": [
    "#npr 20/25\n",
    "#Cent 20\n",
    "#IT 25\n",
    "'''\n",
    "import matplotlib.pyplot as plt\n",
    "\n",
    "var = 'npr'\n",
    "\n",
    "disc = EqualFrequencyDiscretiser(q=25, variables =var)\n",
    "disc.fit(X_train)\n",
    "train_t = disc.transform(X_train)\n",
    "pd.concat([train_t, y_train], axis=1).groupby(var)['fwd'].mean().plot()\n",
    "print(disc.binner_dict_)\n",
    "plt.ylabel('mean of fwd')\n",
    "'''\n"
   ]
  },
  {
   "cell_type": "code",
   "execution_count": 10,
   "metadata": {
    "ExecuteTime": {
     "end_time": "2020-04-12T04:52:53.596354Z",
     "start_time": "2020-04-12T04:52:53.591365Z"
    }
   },
   "outputs": [
    {
     "data": {
      "text/plain": [
       "\"\\nimport matplotlib.pyplot as plt \\nvar ='fpr'\\n\\ndisc = EqualWidthDiscretiser(bins=15, variables =var)\\ndisc.fit(X_train)\\ntrain_t = disc.transform(X_train)\\npd.concat([train_t, y_train], axis=1).groupby(var)['fwd'].mean().plot()\\nplt.ylabel('mean of fwd')\\n\""
      ]
     },
     "execution_count": 10,
     "metadata": {},
     "output_type": "execute_result"
    }
   ],
   "source": [
    "#fpr\n",
    "'''\n",
    "import matplotlib.pyplot as plt \n",
    "var ='fpr'\n",
    "\n",
    "disc = EqualWidthDiscretiser(bins=15, variables =var)\n",
    "disc.fit(X_train)\n",
    "train_t = disc.transform(X_train)\n",
    "pd.concat([train_t, y_train], axis=1).groupby(var)['fwd'].mean().plot()\n",
    "plt.ylabel('mean of fwd')\n",
    "'''\n"
   ]
  },
  {
   "cell_type": "code",
   "execution_count": 11,
   "metadata": {
    "ExecuteTime": {
     "end_time": "2020-04-12T04:52:54.006742Z",
     "start_time": "2020-04-12T04:52:53.676169Z"
    }
   },
   "outputs": [],
   "source": [
    "import seaborn as sns\n",
    "import scipy.stats as stats\n",
    "from math import sqrt\n",
    "import pandas as pd\n",
    "import numpy as np\n",
    "import matplotlib.pyplot as plt\n",
    "\n",
    "\n",
    "def diagnostic_plots(df, variable):\n",
    "    # function takes a dataframe (df) and\n",
    "    # the variable of interest as arguments\n",
    "\n",
    "    # define figure size\n",
    "    plt.figure(figsize=(16, 4))\n",
    "\n",
    "    # histogram\n",
    "    plt.subplot(1, 3, 1)\n",
    "    sns.distplot(df[variable], bins=30)\n",
    "    plt.title('Histogram')\n",
    "\n",
    "    # Q-Q plot\n",
    "    plt.subplot(1, 3, 2)\n",
    "    stats.probplot(df[variable], dist=\"norm\", plot=plt)\n",
    "    plt.ylabel('Variable quantiles')\n",
    "\n",
    "    # boxplot\n",
    "    plt.subplot(1, 3, 3)\n",
    "    sns.boxplot(y=df[variable])\n",
    "    plt.title('Boxplot')\n",
    "\n",
    "    plt.show()"
   ]
  },
  {
   "cell_type": "code",
   "execution_count": 12,
   "metadata": {
    "ExecuteTime": {
     "end_time": "2020-04-12T04:52:54.740740Z",
     "start_time": "2020-04-12T04:52:54.074526Z"
    }
   },
   "outputs": [
    {
     "data": {
      "image/png": "[encoded data removed]",
      "text/plain": [
       "<Figure size 1152x288 with 3 Axes>"
      ]
     },
     "metadata": {
      "needs_background": "light"
     },
     "output_type": "display_data"
    }
   ],
   "source": [
    "from feature_engine.outlier_removers import Winsorizer\n",
    "cap_right = ['lag_d','noc','tbm']\n",
    "#'npr','fpr','Cent','RT','3rd_PT']\n",
    "cap_left = ['tbru']\n",
    "#ouliers = ['npr','fpr','Cent','IT','RT','DT']\n",
    "\n",
    "#gaussian,skewed,quantiles\n",
    "#lag_d - gaussian right\n",
    "\n",
    "winsorizer = Winsorizer(distribution='gaussian', # choose skewed for IQR rule boundaries or gaussian for mean and std\n",
    "                          tail='left', # cap left, right or both tails \n",
    "                          fold=3,\n",
    "                          variables=cap_left)\n",
    "\n",
    "winsorizer.fit(X_train)\n",
    "winsorizer.left_tail_caps_\n",
    "winsorizer.right_tail_caps_\n",
    "X_train_t = winsorizer.transform(X_train)\n",
    "X_test_t = winsorizer.transform(X_test)\n",
    "for variable in cap_left:\n",
    "    diagnostic_plots(X_train_t, variable)"
   ]
  },
  {
   "cell_type": "code",
   "execution_count": 13,
   "metadata": {
    "ExecuteTime": {
     "end_time": "2020-04-12T04:52:58.143031Z",
     "start_time": "2020-04-12T04:52:58.109119Z"
    }
   },
   "outputs": [
    {
     "data": {
      "text/html": [
       "<div>\n",
       "<style scoped>\n",
       "    .dataframe tbody tr th:only-of-type {\n",
       "        vertical-align: middle;\n",
       "    }\n",
       "\n",
       "    .dataframe tbody tr th {\n",
       "        vertical-align: top;\n",
       "    }\n",
       "\n",
       "    .dataframe thead th {\n",
       "        text-align: right;\n",
       "    }\n",
       "</style>\n",
       "<table border=\"1\" class=\"dataframe\">\n",
       "  <thead>\n",
       "    <tr style=\"text-align: right;\">\n",
       "      <th></th>\n",
       "      <th>lag_d</th>\n",
       "      <th>noc</th>\n",
       "      <th>tbm</th>\n",
       "    </tr>\n",
       "  </thead>\n",
       "  <tbody>\n",
       "    <tr>\n",
       "      <th>count</th>\n",
       "      <td>65535.000000</td>\n",
       "      <td>65535.000000</td>\n",
       "      <td>65535.000000</td>\n",
       "    </tr>\n",
       "    <tr>\n",
       "      <th>mean</th>\n",
       "      <td>923.934127</td>\n",
       "      <td>18.856489</td>\n",
       "      <td>11.376257</td>\n",
       "    </tr>\n",
       "    <tr>\n",
       "      <th>std</th>\n",
       "      <td>364.032954</td>\n",
       "      <td>15.708926</td>\n",
       "      <td>15.674491</td>\n",
       "    </tr>\n",
       "    <tr>\n",
       "      <th>min</th>\n",
       "      <td>0.000000</td>\n",
       "      <td>1.000000</td>\n",
       "      <td>0.000000</td>\n",
       "    </tr>\n",
       "    <tr>\n",
       "      <th>25%</th>\n",
       "      <td>691.500000</td>\n",
       "      <td>9.000000</td>\n",
       "      <td>5.000000</td>\n",
       "    </tr>\n",
       "    <tr>\n",
       "      <th>50%</th>\n",
       "      <td>888.000000</td>\n",
       "      <td>16.000000</td>\n",
       "      <td>8.000000</td>\n",
       "    </tr>\n",
       "    <tr>\n",
       "      <th>75%</th>\n",
       "      <td>1100.000000</td>\n",
       "      <td>24.000000</td>\n",
       "      <td>13.000000</td>\n",
       "    </tr>\n",
       "    <tr>\n",
       "      <th>max</th>\n",
       "      <td>5285.000000</td>\n",
       "      <td>375.000000</td>\n",
       "      <td>745.000000</td>\n",
       "    </tr>\n",
       "  </tbody>\n",
       "</table>\n",
       "</div>"
      ],
      "text/plain": [
       "              lag_d           noc           tbm\n",
       "count  65535.000000  65535.000000  65535.000000\n",
       "mean     923.934127     18.856489     11.376257\n",
       "std      364.032954     15.708926     15.674491\n",
       "min        0.000000      1.000000      0.000000\n",
       "25%      691.500000      9.000000      5.000000\n",
       "50%      888.000000     16.000000      8.000000\n",
       "75%     1100.000000     24.000000     13.000000\n",
       "max     5285.000000    375.000000    745.000000"
      ]
     },
     "execution_count": 13,
     "metadata": {},
     "output_type": "execute_result"
    }
   ],
   "source": [
    "data[cap_right].describe()"
   ]
  },
  {
   "cell_type": "code",
   "execution_count": 14,
   "metadata": {
    "ExecuteTime": {
     "end_time": "2020-04-12T04:52:59.357167Z",
     "start_time": "2020-04-12T04:52:59.316248Z"
    }
   },
   "outputs": [],
   "source": [
    "X_train[categorical] = X_train[categorical].astype('O')\n",
    "X_test[categorical] = X_test[categorical].astype('O')\n",
    "discrete = ['npr','fpr','Cent','IT']\n",
    "drop_var = ['lag_y', 'fwd', 'log_fwd']\n",
    "continuous=list(set(list(data.columns))-set(categorical) - set(discrete) -set(drop_var))\n",
    "#X_train[dicrete] = X_train[dicrete].astype('O')\n",
    "#X_test[dicrete] = X_test[dicrete].astype('O')"
   ]
  },
  {
   "cell_type": "code",
   "execution_count": 15,
   "metadata": {
    "ExecuteTime": {
     "end_time": "2020-04-12T04:53:04.084127Z",
     "start_time": "2020-04-12T04:53:03.986849Z"
    }
   },
   "outputs": [],
   "source": [
    "# import relevant modules for feature engineering\n",
    "from sklearn.pipeline import Pipeline\n",
    "from feature_engine import missing_data_imputers as mdi\n",
    "from feature_engine import categorical_encoders as ce\n",
    "from sklearn.linear_model import Ridge,Lasso\n",
    "from sklearn.model_selection import GridSearchCV\n",
    "from feature_engine.outlier_removers import Winsorizer\n",
    "from sklearn.preprocessing import FunctionTransformer\n",
    "from feature_engine.variable_transformers import LogTransformer\n",
    "from feature_engine.missing_data_imputers import AddNaNBinaryImputer\n",
    "from feature_engine.missing_data_imputers import EndTailImputer\n",
    "from sklearn.impute import SimpleImputer\n",
    "from feature_engine.discretisers import EqualFrequencyDiscretiser\n",
    "from feature_engine.discretisers import EqualWidthDiscretiser\n"
   ]
  },
  {
   "cell_type": "code",
   "execution_count": 16,
   "metadata": {
    "ExecuteTime": {
     "end_time": "2020-04-12T04:53:05.079842Z",
     "start_time": "2020-04-12T04:53:05.075873Z"
    }
   },
   "outputs": [],
   "source": [
    "## First approach - add constant to cap_right before your original transformer"
   ]
  },
  {
   "cell_type": "code",
   "execution_count": 17,
   "metadata": {
    "ExecuteTime": {
     "end_time": "2020-04-12T04:53:07.245829Z",
     "start_time": "2020-04-12T04:53:07.227843Z"
    }
   },
   "outputs": [],
   "source": [
    "for var in cap_right:\n",
    "    X_train[var] = X_train[var]+0.01\n",
    "    X_test[var] = X_test[var]+0.01  \n",
    "    "
   ]
  },
  {
   "cell_type": "code",
   "execution_count": 18,
   "metadata": {
    "ExecuteTime": {
     "end_time": "2020-04-12T04:53:08.135991Z",
     "start_time": "2020-04-12T04:53:08.133028Z"
    }
   },
   "outputs": [],
   "source": [
    "#log_transfomrer= log_add_const(cap_right)"
   ]
  },
  {
   "cell_type": "code",
   "execution_count": 19,
   "metadata": {
    "ExecuteTime": {
     "end_time": "2020-04-12T04:53:09.085942Z",
     "start_time": "2020-04-12T04:53:09.075970Z"
    }
   },
   "outputs": [],
   "source": [
    "patent_preprocess = Pipeline([\n",
    "    ('imputer_num', mdi.MeanMedianImputer(imputation_method='median',variables=['FS'])),\n",
    "    ('equal_freq_disc1',EqualFrequencyDiscretiser(q=20, variables =['npr','Cent'])),\n",
    "    ('equal_freq_disc2',EqualFrequencyDiscretiser(q=25, variables =['IT'])),\n",
    "    ('equal_dist_disc',EqualWidthDiscretiser(bins=15, variables =['fpr'])),\n",
    "    ('capping_right',Winsorizer(distribution='gaussian',tail='right',fold=3,variables=cap_right)),\n",
    "    ('capping_left',Winsorizer(distribution='gaussian',tail='left',fold=3,variables=cap_left)),\n",
    "     ('log_transform',LogTransformer(variables = cap_right)),\n",
    "    # categorical encoding \n",
    "     ('rare_label_enc', ce.RareLabelCategoricalEncoder(tol=0.01,n_categories=6, variables=categorical )),\n",
    "    #('categorical_enc', ce.OrdinalCategoricalEncoder(encoding_method='ordered', variables=categorical)),\n",
    "    ('One_hot', ce.OneHotCategoricalEncoder(variables = categorical)),\n",
    "     \n",
    "])"
   ]
  },
  {
   "cell_type": "code",
   "execution_count": 20,
   "metadata": {
    "ExecuteTime": {
     "end_time": "2020-04-12T04:53:10.365031Z",
     "start_time": "2020-04-12T04:53:10.101708Z"
    }
   },
   "outputs": [
    {
     "data": {
      "text/plain": [
       "Pipeline(memory=None,\n",
       "         steps=[('imputer_num',\n",
       "                 MeanMedianImputer(imputation_method='median',\n",
       "                                   variables=['FS'])),\n",
       "                ('equal_freq_disc1',\n",
       "                 EqualFrequencyDiscretiser(q=20, return_object=False,\n",
       "                                           variables=['npr', 'Cent'])),\n",
       "                ('equal_freq_disc2',\n",
       "                 EqualFrequencyDiscretiser(q=25, return_object=False,\n",
       "                                           variables=['IT'])),\n",
       "                ('equal_dist_disc',\n",
       "                 EqualWidthDiscretiser(bins=15, return...\n",
       "                 Winsorizer(distribution='gaussian', fold=3, tail='left',\n",
       "                            variables=['tbru'])),\n",
       "                ('log_transform',\n",
       "                 LogTransformer(variables=['lag_d', 'noc', 'tbm'])),\n",
       "                ('rare_label_enc',\n",
       "                 RareLabelCategoricalEncoder(n_categories=6, tol=0.01,\n",
       "                                             variables=['firm', 'UMC', 'MSA',\n",
       "                                                        'FT'])),\n",
       "                ('One_hot',\n",
       "                 OneHotCategoricalEncoder(drop_last=False, top_categories=None,\n",
       "                                          variables=['firm', 'UMC', 'MSA',\n",
       "                                                     'FT']))],\n",
       "         verbose=False)"
      ]
     },
     "execution_count": 20,
     "metadata": {},
     "output_type": "execute_result"
    }
   ],
   "source": [
    "patent_preprocess.fit(X_train,y_train)"
   ]
  },
  {
   "cell_type": "code",
   "execution_count": 21,
   "metadata": {
    "ExecuteTime": {
     "end_time": "2020-04-12T04:53:13.921445Z",
     "start_time": "2020-04-12T04:53:13.260241Z"
    }
   },
   "outputs": [],
   "source": [
    "# Apply Transformations\n",
    "X_train=patent_preprocess.transform(X_train)\n",
    "X_test=patent_preprocess.transform(X_test)"
   ]
  },
  {
   "cell_type": "code",
   "execution_count": 22,
   "metadata": {
    "ExecuteTime": {
     "end_time": "2020-04-12T04:53:14.232858Z",
     "start_time": "2020-04-12T04:53:14.228870Z"
    }
   },
   "outputs": [],
   "source": [
    "from sklearn.linear_model import LinearRegression\n",
    "from sklearn.linear_model import SGDRegressor\n",
    "from sklearn.preprocessing import PolynomialFeatures\n"
   ]
  },
  {
   "cell_type": "code",
   "execution_count": 23,
   "metadata": {
    "ExecuteTime": {
     "end_time": "2020-04-12T04:53:17.313315Z",
     "start_time": "2020-04-12T04:53:17.309324Z"
    }
   },
   "outputs": [],
   "source": [
    "lr= LinearRegression()"
   ]
  },
  {
   "cell_type": "code",
   "execution_count": 24,
   "metadata": {
    "ExecuteTime": {
     "end_time": "2020-04-12T04:53:18.168866Z",
     "start_time": "2020-04-12T04:53:18.146910Z"
    }
   },
   "outputs": [],
   "source": [
    "percentage_null_values= X_train.isnull().mean()\n",
    "for key,value in percentage_null_values.items():\n",
    "    if value >0:\n",
    "        print(key,\":\",value)"
   ]
  },
  {
   "cell_type": "code",
   "execution_count": 25,
   "metadata": {
    "ExecuteTime": {
     "end_time": "2020-04-12T04:53:19.251071Z",
     "start_time": "2020-04-12T04:53:19.044624Z"
    }
   },
   "outputs": [
    {
     "data": {
      "text/plain": [
       "LinearRegression(copy_X=True, fit_intercept=True, n_jobs=None, normalize=False)"
      ]
     },
     "execution_count": 25,
     "metadata": {},
     "output_type": "execute_result"
    }
   ],
   "source": [
    "lr.fit(X_train,y_train)"
   ]
  },
  {
   "cell_type": "code",
   "execution_count": 26,
   "metadata": {
    "ExecuteTime": {
     "end_time": "2020-04-12T04:53:21.320785Z",
     "start_time": "2020-04-12T04:53:20.307502Z"
    }
   },
   "outputs": [
    {
     "name": "stdout",
     "output_type": "stream",
     "text": [
      "Cross-validation scores: [0.16422551 0.16899737 0.15998867 0.14266537 0.15467932]\n",
      "Average cross-validation score: 0.16\n"
     ]
    }
   ],
   "source": [
    "from sklearn.model_selection import cross_val_score\n",
    "scores = cross_val_score(lr, X_train, y_train)\n",
    "print(\"Cross-validation scores: {}\".format(scores))\n",
    "print(\"Average cross-validation score: {:.2f}\".format(scores.mean()))\n"
   ]
  },
  {
   "cell_type": "code",
   "execution_count": 27,
   "metadata": {
    "ExecuteTime": {
     "end_time": "2020-04-12T04:53:24.422506Z",
     "start_time": "2020-04-12T04:53:24.371645Z"
    }
   },
   "outputs": [
    {
     "data": {
      "text/plain": [
       "0.16251328349877026"
      ]
     },
     "execution_count": 27,
     "metadata": {},
     "output_type": "execute_result"
    }
   ],
   "source": [
    "lr.score(X_train,y_train)"
   ]
  },
  {
   "cell_type": "code",
   "execution_count": 28,
   "metadata": {
    "ExecuteTime": {
     "end_time": "2020-04-12T04:53:25.383619Z",
     "start_time": "2020-04-12T04:53:25.364652Z"
    }
   },
   "outputs": [
    {
     "data": {
      "text/plain": [
       "0.1610364990597778"
      ]
     },
     "execution_count": 28,
     "metadata": {},
     "output_type": "execute_result"
    }
   ],
   "source": [
    "lr.score(X_test,y_test)"
   ]
  },
  {
   "cell_type": "code",
   "execution_count": 52,
   "metadata": {},
   "outputs": [],
   "source": [
    "'''\n",
    "def add_const(X):\n",
    "    X['noc'] = X['noc'].apply(lambda x: np.log(x+0.001))\n",
    "    return X\n",
    "'''"
   ]
  },
  {
   "cell_type": "markdown",
   "metadata": {},
   "source": [
    "Taking Log first and then do polynomial Transformations"
   ]
  },
  {
   "cell_type": "code",
   "execution_count": 29,
   "metadata": {
    "ExecuteTime": {
     "end_time": "2020-04-12T04:53:31.005024Z",
     "start_time": "2020-04-12T04:53:30.996042Z"
    }
   },
   "outputs": [],
   "source": [
    "from sklearn.compose import ColumnTransformer\n",
    "model_gs1 = Pipeline([ ('log_trans', ColumnTransformer(transformers=[\n",
    "                     ('np_log1p', FunctionTransformer(np.log1p, validate=True), ['noc']),   \n",
    "                     ], remainder='passthrough')),\n",
    "    \n",
    "    \n",
    "                     (\"Poly\",PolynomialFeatures()),\n",
    "                     \n",
    "\n",
    "\n",
    "                     (\"regressor\", LinearRegression())])\n"
   ]
  },
  {
   "cell_type": "code",
   "execution_count": 30,
   "metadata": {
    "ExecuteTime": {
     "end_time": "2020-04-12T04:53:31.953380Z",
     "start_time": "2020-04-12T04:53:31.948401Z"
    }
   },
   "outputs": [],
   "source": [
    "\n",
    "model_parm_gd = [\n",
    "    \n",
    "    #{'regressor': [LinearRegression()]},\n",
    "    \n",
    "    {   'Poly__degree':range(1,3),\n",
    "        'regressor': [LinearRegression()]},\n",
    "]"
   ]
  },
  {
   "cell_type": "code",
   "execution_count": 31,
   "metadata": {
    "ExecuteTime": {
     "end_time": "2020-04-12T04:59:48.421684Z",
     "start_time": "2020-04-12T04:53:33.195228Z"
    }
   },
   "outputs": [
    {
     "name": "stdout",
     "output_type": "stream",
     "text": [
      "Best Mean Cross-validation score: 0.15\n",
      "{'Poly__degree': 1, 'regressor': LinearRegression(copy_X=True, fit_intercept=True, n_jobs=None, normalize=False)}\n",
      "train mse: 919.9366495265203\n",
      "train rmse: 30.330457456598314\n",
      "train r2: 0.15933313502270974\n",
      "\n",
      "test mse: 988.9558150749846\n",
      "test rmse: 31.447667879748803\n",
      "test r2: 0.15811842680687305\n"
     ]
    }
   ],
   "source": [
    "grid_search_house_pipe = GridSearchCV(model_gs1, model_parm_gd,cv=5)\n",
    "grid_search_house_pipe.fit(X_train,y_train)\n",
    "\n",
    "X_train_preds = grid_search_house_pipe.predict(X_train)\n",
    "X_test_preds = grid_search_house_pipe.predict(X_test)\n",
    "\n",
    "\n",
    "from sklearn.metrics import mean_squared_error,r2_score\n",
    "from math import sqrt\n",
    "\n",
    "print(\"Best Mean Cross-validation score: {:.2f}\".format(grid_search_house_pipe.best_score_))\n",
    "print(grid_search_house_pipe.best_params_)\n",
    "\n",
    "\n",
    "\n",
    "print('train mse: {}'.format(mean_squared_error(y_train, X_train_preds)))\n",
    "print('train rmse: {}'.format(sqrt(mean_squared_error(y_train, X_train_preds))))\n",
    "print('train r2: {}'.format(r2_score(y_train, X_train_preds)))\n",
    "print()\n",
    "print('test mse: {}'.format(mean_squared_error(y_test, X_test_preds)))\n",
    "print('test rmse: {}'.format(sqrt(mean_squared_error(y_test, X_test_preds))))\n",
    "print('test r2: {}'.format(r2_score(y_test, X_test_preds)))\n"
   ]
  },
  {
   "cell_type": "code",
   "execution_count": 721,
   "metadata": {},
   "outputs": [
    {
     "name": "stdout",
     "output_type": "stream",
     "text": [
      "-- Epoch 1\n",
      "Norm: 76.61, NNZs: 94, Bias: 20.499529, T: 41942, Avg. loss: 383.960198\n",
      "Total training time: 0.03 seconds.\n",
      "-- Epoch 2\n",
      "Norm: 96.42, NNZs: 88, Bias: 14.838074, T: 83884, Avg. loss: 380.249650\n",
      "Total training time: 0.08 seconds.\n",
      "-- Epoch 3\n",
      "Norm: 113.83, NNZs: 83, Bias: 14.944467, T: 125826, Avg. loss: 378.460660\n",
      "Total training time: 0.12 seconds.\n",
      "-- Epoch 4\n",
      "Norm: 130.78, NNZs: 85, Bias: 12.203923, T: 167768, Avg. loss: 378.005803\n",
      "Total training time: 0.15 seconds.\n",
      "-- Epoch 5\n",
      "Norm: 148.87, NNZs: 84, Bias: 13.045256, T: 209710, Avg. loss: 377.623638\n",
      "Total training time: 0.19 seconds.\n",
      "-- Epoch 6\n",
      "Norm: 162.22, NNZs: 86, Bias: 8.130476, T: 251652, Avg. loss: 377.219246\n",
      "Total training time: 0.24 seconds.\n",
      "-- Epoch 7\n",
      "Norm: 177.97, NNZs: 83, Bias: 11.633820, T: 293594, Avg. loss: 377.484671\n",
      "Total training time: 0.29 seconds.\n",
      "-- Epoch 8\n",
      "Norm: 178.68, NNZs: 86, Bias: 10.173612, T: 335536, Avg. loss: 365.377039\n",
      "Total training time: 0.33 seconds.\n",
      "-- Epoch 9\n",
      "Norm: 180.43, NNZs: 85, Bias: 9.808836, T: 377478, Avg. loss: 364.843005\n",
      "Total training time: 0.37 seconds.\n",
      "-- Epoch 10\n",
      "Norm: 182.20, NNZs: 86, Bias: 11.191030, T: 419420, Avg. loss: 364.737081\n",
      "Total training time: 0.41 seconds.\n",
      "-- Epoch 11\n",
      "Norm: 183.64, NNZs: 86, Bias: 9.212983, T: 461362, Avg. loss: 364.723212\n",
      "Total training time: 0.45 seconds.\n",
      "-- Epoch 12\n",
      "Norm: 184.57, NNZs: 86, Bias: 8.205597, T: 503304, Avg. loss: 364.754238\n",
      "Total training time: 0.50 seconds.\n",
      "-- Epoch 13\n",
      "Norm: 184.82, NNZs: 88, Bias: 8.467689, T: 545246, Avg. loss: 362.189670\n",
      "Total training time: 0.54 seconds.\n",
      "-- Epoch 14\n",
      "Norm: 185.12, NNZs: 87, Bias: 8.402012, T: 587188, Avg. loss: 362.200351\n",
      "Total training time: 0.57 seconds.\n",
      "-- Epoch 15\n",
      "Norm: 185.38, NNZs: 88, Bias: 7.997341, T: 629130, Avg. loss: 362.006701\n",
      "Total training time: 0.61 seconds.\n",
      "-- Epoch 16\n",
      "Norm: 185.80, NNZs: 88, Bias: 8.524730, T: 671072, Avg. loss: 362.080306\n",
      "Total training time: 0.65 seconds.\n",
      "-- Epoch 17\n",
      "Norm: 185.95, NNZs: 88, Bias: 8.556212, T: 713014, Avg. loss: 362.122919\n",
      "Total training time: 0.69 seconds.\n",
      "-- Epoch 18\n",
      "Norm: 185.99, NNZs: 88, Bias: 8.403618, T: 754956, Avg. loss: 361.515211\n",
      "Total training time: 0.73 seconds.\n",
      "-- Epoch 19\n",
      "Norm: 186.03, NNZs: 88, Bias: 8.357630, T: 796898, Avg. loss: 361.511404\n",
      "Total training time: 0.77 seconds.\n",
      "-- Epoch 20\n",
      "Norm: 186.08, NNZs: 88, Bias: 8.357431, T: 838840, Avg. loss: 361.481701\n",
      "Total training time: 0.81 seconds.\n",
      "-- Epoch 21\n",
      "Norm: 186.13, NNZs: 88, Bias: 8.329525, T: 880782, Avg. loss: 361.487540\n",
      "Total training time: 0.84 seconds.\n",
      "-- Epoch 22\n",
      "Norm: 186.18, NNZs: 90, Bias: 8.315979, T: 922724, Avg. loss: 361.481393\n",
      "Total training time: 0.88 seconds.\n",
      "-- Epoch 23\n",
      "Norm: 186.19, NNZs: 90, Bias: 8.317338, T: 964666, Avg. loss: 361.351242\n",
      "Total training time: 0.93 seconds.\n",
      "-- Epoch 24\n",
      "Norm: 186.19, NNZs: 90, Bias: 8.272337, T: 1006608, Avg. loss: 361.321737\n",
      "Total training time: 0.97 seconds.\n",
      "-- Epoch 25\n",
      "Norm: 186.21, NNZs: 90, Bias: 8.314219, T: 1048550, Avg. loss: 361.348162\n",
      "Total training time: 1.00 seconds.\n",
      "-- Epoch 26\n",
      "Norm: 186.22, NNZs: 90, Bias: 8.338564, T: 1090492, Avg. loss: 361.349995\n",
      "Total training time: 1.04 seconds.\n",
      "-- Epoch 27\n",
      "Norm: 186.23, NNZs: 90, Bias: 8.314114, T: 1132434, Avg. loss: 361.341013\n",
      "Total training time: 1.08 seconds.\n",
      "-- Epoch 28\n",
      "Norm: 186.23, NNZs: 90, Bias: 8.327719, T: 1174376, Avg. loss: 361.317473\n",
      "Total training time: 1.12 seconds.\n",
      "-- Epoch 29\n",
      "Norm: 186.24, NNZs: 90, Bias: 8.331554, T: 1216318, Avg. loss: 361.315743\n",
      "Total training time: 1.16 seconds.\n",
      "-- Epoch 30\n",
      "Norm: 186.24, NNZs: 90, Bias: 8.336383, T: 1258260, Avg. loss: 361.314873\n",
      "Total training time: 1.20 seconds.\n",
      "-- Epoch 31\n",
      "Norm: 186.24, NNZs: 90, Bias: 8.335433, T: 1300202, Avg. loss: 361.315492\n",
      "Total training time: 1.24 seconds.\n",
      "-- Epoch 32\n",
      "Norm: 186.24, NNZs: 90, Bias: 8.338575, T: 1342144, Avg. loss: 361.314779\n",
      "Total training time: 1.27 seconds.\n",
      "-- Epoch 33\n",
      "Norm: 186.24, NNZs: 90, Bias: 8.338133, T: 1384086, Avg. loss: 361.308075\n",
      "Total training time: 1.31 seconds.\n",
      "-- Epoch 34\n",
      "Norm: 186.24, NNZs: 90, Bias: 8.337708, T: 1426028, Avg. loss: 361.308042\n",
      "Total training time: 1.35 seconds.\n",
      "-- Epoch 35\n",
      "Norm: 186.24, NNZs: 90, Bias: 8.337260, T: 1467970, Avg. loss: 361.308006\n",
      "Total training time: 1.39 seconds.\n",
      "-- Epoch 36\n",
      "Norm: 186.24, NNZs: 90, Bias: 8.336867, T: 1509912, Avg. loss: 361.307985\n",
      "Total training time: 1.43 seconds.\n",
      "-- Epoch 37\n",
      "Norm: 186.24, NNZs: 90, Bias: 8.336509, T: 1551854, Avg. loss: 361.307958\n",
      "Total training time: 1.47 seconds.\n",
      "Convergence after 37 epochs took 1.47 seconds\n",
      "-- Epoch 1\n",
      "Norm: 73.02, NNZs: 92, Bias: 17.250731, T: 33553, Avg. loss: 376.647886\n",
      "Total training time: 0.03 seconds.\n",
      "-- Epoch 2\n",
      "Norm: 88.07, NNZs: 94, Bias: 14.879376, T: 67106, Avg. loss: 371.603003\n",
      "Total training time: 0.07 seconds.\n",
      "-- Epoch 3\n",
      "Norm: 96.02, NNZs: 91, Bias: 11.892699, T: 100659, Avg. loss: 370.746614\n",
      "Total training time: 0.11 seconds.\n",
      "-- Epoch 4\n",
      "Norm: 108.88, NNZs: 94, Bias: 15.927164, T: 134212, Avg. loss: 369.549355\n",
      "Total training time: 0.14 seconds.\n",
      "-- Epoch 5\n",
      "Norm: 118.89, NNZs: 92, Bias: 12.519109, T: 167765, Avg. loss: 369.372567\n",
      "Total training time: 0.18 seconds.\n",
      "-- Epoch 6\n",
      "Norm: 124.66, NNZs: 91, Bias: 12.132500, T: 201318, Avg. loss: 369.899302\n",
      "Total training time: 0.23 seconds.\n",
      "-- Epoch 7\n",
      "Norm: 135.36, NNZs: 91, Bias: 11.868880, T: 234871, Avg. loss: 368.097360\n",
      "Total training time: 0.27 seconds.\n",
      "-- Epoch 8\n",
      "Norm: 143.19, NNZs: 92, Bias: 11.977582, T: 268424, Avg. loss: 368.367925\n",
      "Total training time: 0.31 seconds.\n",
      "-- Epoch 9\n",
      "Norm: 143.72, NNZs: 92, Bias: 10.886445, T: 301977, Avg. loss: 357.337089\n",
      "Total training time: 0.35 seconds.\n",
      "-- Epoch 10\n",
      "Norm: 145.60, NNZs: 92, Bias: 11.162828, T: 335530, Avg. loss: 356.509569\n",
      "Total training time: 0.39 seconds.\n",
      "-- Epoch 11\n",
      "Norm: 146.91, NNZs: 93, Bias: 11.221248, T: 369083, Avg. loss: 356.440477\n",
      "Total training time: 0.42 seconds.\n",
      "-- Epoch 12\n",
      "Norm: 147.81, NNZs: 91, Bias: 9.650825, T: 402636, Avg. loss: 356.481565\n",
      "Total training time: 0.46 seconds.\n",
      "-- Epoch 13\n",
      "Norm: 148.73, NNZs: 94, Bias: 10.674016, T: 436189, Avg. loss: 356.256831\n",
      "Total training time: 0.51 seconds.\n",
      "-- Epoch 14\n",
      "Norm: 149.22, NNZs: 94, Bias: 10.674754, T: 469742, Avg. loss: 353.978038\n",
      "Total training time: 0.54 seconds.\n",
      "-- Epoch 15\n",
      "Norm: 149.49, NNZs: 94, Bias: 10.613434, T: 503295, Avg. loss: 353.853243\n",
      "Total training time: 0.58 seconds.\n",
      "-- Epoch 16\n",
      "Norm: 149.68, NNZs: 95, Bias: 10.363076, T: 536848, Avg. loss: 353.824342\n",
      "Total training time: 0.63 seconds.\n",
      "-- Epoch 17\n",
      "Norm: 149.89, NNZs: 95, Bias: 10.685737, T: 570401, Avg. loss: 353.795080\n",
      "Total training time: 0.67 seconds.\n",
      "-- Epoch 18\n",
      "Norm: 150.17, NNZs: 94, Bias: 10.625249, T: 603954, Avg. loss: 353.863386\n",
      "Total training time: 0.71 seconds.\n",
      "-- Epoch 19\n",
      "Norm: 150.20, NNZs: 94, Bias: 10.364485, T: 637507, Avg. loss: 353.218880\n",
      "Total training time: 0.75 seconds.\n",
      "-- Epoch 20\n",
      "Norm: 150.25, NNZs: 95, Bias: 10.352717, T: 671060, Avg. loss: 353.243331\n",
      "Total training time: 0.78 seconds.\n",
      "-- Epoch 21\n",
      "Norm: 150.29, NNZs: 95, Bias: 10.290827, T: 704613, Avg. loss: 353.181447\n",
      "Total training time: 0.82 seconds.\n",
      "-- Epoch 22\n",
      "Norm: 150.35, NNZs: 95, Bias: 10.408595, T: 738166, Avg. loss: 353.209786\n",
      "Total training time: 0.86 seconds.\n",
      "-- Epoch 23\n",
      "Norm: 150.40, NNZs: 95, Bias: 10.424832, T: 771719, Avg. loss: 353.203673\n",
      "Total training time: 0.89 seconds.\n",
      "-- Epoch 24\n",
      "Norm: 150.40, NNZs: 95, Bias: 10.364346, T: 805272, Avg. loss: 353.079071\n",
      "Total training time: 0.93 seconds.\n",
      "-- Epoch 25\n",
      "Norm: 150.41, NNZs: 95, Bias: 10.346518, T: 838825, Avg. loss: 353.082306\n",
      "Total training time: 0.97 seconds.\n",
      "-- Epoch 26\n",
      "Norm: 150.42, NNZs: 95, Bias: 10.388922, T: 872378, Avg. loss: 353.090820\n",
      "Total training time: 1.01 seconds.\n",
      "-- Epoch 27\n",
      "Norm: 150.44, NNZs: 95, Bias: 10.404191, T: 905931, Avg. loss: 353.084724\n",
      "Total training time: 1.04 seconds.\n",
      "-- Epoch 28\n",
      "Norm: 150.45, NNZs: 95, Bias: 10.434179, T: 939484, Avg. loss: 353.061137\n",
      "Total training time: 1.09 seconds.\n",
      "-- Epoch 29\n",
      "Norm: 150.45, NNZs: 95, Bias: 10.418285, T: 973037, Avg. loss: 353.065449\n",
      "Total training time: 1.12 seconds.\n",
      "-- Epoch 30\n",
      "Norm: 150.45, NNZs: 95, Bias: 10.403058, T: 1006590, Avg. loss: 353.057287\n",
      "Total training time: 1.16 seconds.\n",
      "-- Epoch 31\n",
      "Norm: 150.45, NNZs: 95, Bias: 10.396502, T: 1040143, Avg. loss: 353.053914\n",
      "Total training time: 1.19 seconds.\n",
      "-- Epoch 32\n",
      "Norm: 150.45, NNZs: 95, Bias: 10.397483, T: 1073696, Avg. loss: 353.051182\n",
      "Total training time: 1.23 seconds.\n",
      "-- Epoch 33\n",
      "Norm: 150.45, NNZs: 95, Bias: 10.393723, T: 1107249, Avg. loss: 353.052903\n",
      "Total training time: 1.27 seconds.\n",
      "-- Epoch 34\n",
      "Norm: 150.45, NNZs: 95, Bias: 10.392987, T: 1140802, Avg. loss: 353.045502\n",
      "Total training time: 1.32 seconds.\n",
      "-- Epoch 35\n",
      "Norm: 150.46, NNZs: 95, Bias: 10.392153, T: 1174355, Avg. loss: 353.045408\n",
      "Total training time: 1.35 seconds.\n",
      "-- Epoch 36\n",
      "Norm: 150.46, NNZs: 95, Bias: 10.391347, T: 1207908, Avg. loss: 353.045303\n",
      "Total training time: 1.39 seconds.\n",
      "-- Epoch 37\n",
      "Norm: 150.46, NNZs: 95, Bias: 10.390766, T: 1241461, Avg. loss: 353.045199\n",
      "Total training time: 1.43 seconds.\n",
      "-- Epoch 38\n",
      "Norm: 150.46, NNZs: 95, Bias: 10.390036, T: 1275014, Avg. loss: 353.045128\n",
      "Total training time: 1.46 seconds.\n",
      "Convergence after 38 epochs took 1.47 seconds\n",
      "-- Epoch 1\n",
      "Norm: 72.72, NNZs: 96, Bias: 18.198659, T: 33553, Avg. loss: 387.846943\n",
      "Total training time: 0.03 seconds.\n",
      "-- Epoch 2\n",
      "Norm: 86.29, NNZs: 95, Bias: 16.939219, T: 67106, Avg. loss: 383.644334\n",
      "Total training time: 0.07 seconds.\n",
      "-- Epoch 3\n",
      "Norm: 97.48, NNZs: 95, Bias: 16.066057, T: 100659, Avg. loss: 383.235436\n",
      "Total training time: 0.11 seconds.\n",
      "-- Epoch 4\n",
      "Norm: 106.81, NNZs: 96, Bias: 14.564020, T: 134212, Avg. loss: 381.721436\n",
      "Total training time: 0.15 seconds.\n",
      "-- Epoch 5\n",
      "Norm: 118.79, NNZs: 92, Bias: 12.463018, T: 167765, Avg. loss: 381.749178\n",
      "Total training time: 0.19 seconds.\n",
      "-- Epoch 6\n",
      "Norm: 124.16, NNZs: 89, Bias: 14.386705, T: 201318, Avg. loss: 380.617511\n",
      "Total training time: 0.23 seconds.\n",
      "-- Epoch 7\n",
      "Norm: 134.06, NNZs: 93, Bias: 9.648000, T: 234871, Avg. loss: 380.169116\n",
      "Total training time: 0.27 seconds.\n",
      "-- Epoch 8\n",
      "Norm: 141.74, NNZs: 95, Bias: 9.979754, T: 268424, Avg. loss: 381.536046\n",
      "Total training time: 0.30 seconds.\n",
      "-- Epoch 9\n",
      "Norm: 152.62, NNZs: 91, Bias: 11.444203, T: 301977, Avg. loss: 380.830792\n",
      "Total training time: 0.34 seconds.\n",
      "-- Epoch 10\n",
      "Norm: 151.80, NNZs: 90, Bias: 9.445035, T: 335530, Avg. loss: 368.637569\n",
      "Total training time: 0.38 seconds.\n",
      "-- Epoch 11\n",
      "Norm: 152.78, NNZs: 93, Bias: 10.124018, T: 369083, Avg. loss: 367.667883\n",
      "Total training time: 0.42 seconds.\n",
      "-- Epoch 12\n",
      "Norm: 153.64, NNZs: 92, Bias: 9.845858, T: 402636, Avg. loss: 368.048968\n",
      "Total training time: 0.46 seconds.\n",
      "-- Epoch 13\n",
      "Norm: 154.32, NNZs: 93, Bias: 9.479655, T: 436189, Avg. loss: 368.093250\n",
      "Total training time: 0.50 seconds.\n",
      "-- Epoch 14\n",
      "Norm: 155.97, NNZs: 93, Bias: 10.055567, T: 469742, Avg. loss: 368.270233\n",
      "Total training time: 0.53 seconds.\n",
      "-- Epoch 15\n",
      "Norm: 155.92, NNZs: 96, Bias: 9.243963, T: 503295, Avg. loss: 365.442831\n",
      "Total training time: 0.57 seconds.\n",
      "-- Epoch 16\n",
      "Norm: 155.93, NNZs: 96, Bias: 9.135602, T: 536848, Avg. loss: 365.331603\n",
      "Total training time: 0.60 seconds.\n",
      "-- Epoch 17\n",
      "Norm: 156.15, NNZs: 96, Bias: 9.069923, T: 570401, Avg. loss: 365.302792\n",
      "Total training time: 0.63 seconds.\n",
      "-- Epoch 18\n",
      "Norm: 156.31, NNZs: 95, Bias: 9.302078, T: 603954, Avg. loss: 365.330429\n",
      "Total training time: 0.67 seconds.\n",
      "-- Epoch 19\n",
      "Norm: 156.54, NNZs: 95, Bias: 9.499897, T: 637507, Avg. loss: 365.381097\n",
      "Total training time: 0.70 seconds.\n",
      "-- Epoch 20\n",
      "Norm: 156.53, NNZs: 95, Bias: 9.207484, T: 671060, Avg. loss: 364.732837\n",
      "Total training time: 0.74 seconds.\n",
      "-- Epoch 21\n",
      "Norm: 156.54, NNZs: 95, Bias: 9.158374, T: 704613, Avg. loss: 364.657931\n",
      "Total training time: 0.77 seconds.\n",
      "-- Epoch 22\n",
      "Norm: 156.58, NNZs: 95, Bias: 9.257191, T: 738166, Avg. loss: 364.707129\n",
      "Total training time: 0.80 seconds.\n",
      "-- Epoch 23\n",
      "Norm: 156.61, NNZs: 95, Bias: 9.292927, T: 771719, Avg. loss: 364.686991\n",
      "Total training time: 0.84 seconds.\n",
      "-- Epoch 24\n",
      "Norm: 156.64, NNZs: 95, Bias: 9.218441, T: 805272, Avg. loss: 364.678649\n",
      "Total training time: 0.87 seconds.\n",
      "-- Epoch 25\n",
      "Norm: 156.65, NNZs: 95, Bias: 9.242308, T: 838825, Avg. loss: 364.548565\n",
      "Total training time: 0.91 seconds.\n",
      "-- Epoch 26\n",
      "Norm: 156.65, NNZs: 95, Bias: 9.202118, T: 872378, Avg. loss: 364.545995\n",
      "Total training time: 0.94 seconds.\n",
      "-- Epoch 27\n",
      "Norm: 156.66, NNZs: 95, Bias: 9.252102, T: 905931, Avg. loss: 364.546505\n",
      "Total training time: 0.98 seconds.\n",
      "-- Epoch 28\n",
      "Norm: 156.67, NNZs: 95, Bias: 9.263862, T: 939484, Avg. loss: 364.528180\n",
      "Total training time: 1.01 seconds.\n",
      "-- Epoch 29\n",
      "Norm: 156.67, NNZs: 95, Bias: 9.219182, T: 973037, Avg. loss: 364.543814\n",
      "Total training time: 1.04 seconds.\n",
      "-- Epoch 30\n",
      "Norm: 156.67, NNZs: 95, Bias: 9.219848, T: 1006590, Avg. loss: 364.515826\n",
      "Total training time: 1.08 seconds.\n",
      "-- Epoch 31\n",
      "Norm: 156.67, NNZs: 95, Bias: 9.221174, T: 1040143, Avg. loss: 364.515229\n",
      "Total training time: 1.11 seconds.\n",
      "-- Epoch 32\n",
      "Norm: 156.67, NNZs: 95, Bias: 9.220248, T: 1073696, Avg. loss: 364.515697\n",
      "Total training time: 1.15 seconds.\n",
      "-- Epoch 33\n",
      "Norm: 156.67, NNZs: 95, Bias: 9.221244, T: 1107249, Avg. loss: 364.515678\n",
      "Total training time: 1.18 seconds.\n",
      "-- Epoch 34\n",
      "Norm: 156.68, NNZs: 95, Bias: 9.224189, T: 1140802, Avg. loss: 364.514838\n",
      "Total training time: 1.23 seconds.\n",
      "-- Epoch 35\n",
      "Norm: 156.68, NNZs: 95, Bias: 9.223799, T: 1174355, Avg. loss: 364.508341\n",
      "Total training time: 1.27 seconds.\n",
      "-- Epoch 36\n",
      "Norm: 156.68, NNZs: 95, Bias: 9.223366, T: 1207908, Avg. loss: 364.508336\n",
      "Total training time: 1.31 seconds.\n",
      "-- Epoch 37\n",
      "Norm: 156.68, NNZs: 95, Bias: 9.222888, T: 1241461, Avg. loss: 364.508289\n",
      "Total training time: 1.35 seconds.\n",
      "-- Epoch 38\n",
      "Norm: 156.68, NNZs: 95, Bias: 9.222683, T: 1275014, Avg. loss: 364.508241\n",
      "Total training time: 1.39 seconds.\n",
      "-- Epoch 39\n",
      "Norm: 156.68, NNZs: 95, Bias: 9.222412, T: 1308567, Avg. loss: 364.508246\n",
      "Total training time: 1.42 seconds.\n",
      "Convergence after 39 epochs took 1.43 seconds\n",
      "-- Epoch 1\n",
      "Norm: 75.49, NNZs: 95, Bias: 19.123524, T: 33553, Avg. loss: 391.972556\n",
      "Total training time: 0.04 seconds.\n",
      "-- Epoch 2\n",
      "Norm: 83.85, NNZs: 93, Bias: 16.717675, T: 67106, Avg. loss: 387.028298\n",
      "Total training time: 0.10 seconds.\n",
      "-- Epoch 3\n",
      "Norm: 94.14, NNZs: 92, Bias: 15.862322, T: 100659, Avg. loss: 385.849334\n",
      "Total training time: 0.16 seconds.\n",
      "-- Epoch 4\n",
      "Norm: 104.63, NNZs: 93, Bias: 12.903615, T: 134212, Avg. loss: 386.109507\n",
      "Total training time: 0.21 seconds.\n",
      "-- Epoch 5\n",
      "Norm: 116.87, NNZs: 94, Bias: 13.777486, T: 167765, Avg. loss: 384.275936\n",
      "Total training time: 0.27 seconds.\n",
      "-- Epoch 6\n",
      "Norm: 124.23, NNZs: 95, Bias: 14.407731, T: 201318, Avg. loss: 385.604936\n",
      "Total training time: 0.32 seconds.\n",
      "-- Epoch 7\n",
      "Norm: 133.82, NNZs: 93, Bias: 12.523448, T: 234871, Avg. loss: 383.955577\n",
      "Total training time: 0.38 seconds.\n",
      "-- Epoch 8\n",
      "Norm: 139.40, NNZs: 92, Bias: 12.294420, T: 268424, Avg. loss: 384.520392\n",
      "Total training time: 0.43 seconds.\n",
      "-- Epoch 9\n",
      "Norm: 151.76, NNZs: 95, Bias: 13.535396, T: 301977, Avg. loss: 384.332106\n",
      "Total training time: 0.49 seconds.\n",
      "-- Epoch 10\n",
      "Norm: 151.23, NNZs: 92, Bias: 12.076279, T: 335530, Avg. loss: 372.363174\n",
      "Total training time: 0.55 seconds.\n",
      "-- Epoch 11\n",
      "Norm: 151.81, NNZs: 95, Bias: 12.282295, T: 369083, Avg. loss: 371.125420\n",
      "Total training time: 0.60 seconds.\n",
      "-- Epoch 12\n",
      "Norm: 153.01, NNZs: 93, Bias: 10.657754, T: 402636, Avg. loss: 371.444612\n",
      "Total training time: 0.64 seconds.\n",
      "-- Epoch 13\n",
      "Norm: 153.89, NNZs: 94, Bias: 10.766542, T: 436189, Avg. loss: 371.355453\n",
      "Total training time: 0.69 seconds.\n",
      "-- Epoch 14\n",
      "Norm: 155.17, NNZs: 95, Bias: 10.884764, T: 469742, Avg. loss: 371.319124\n",
      "Total training time: 0.73 seconds.\n",
      "-- Epoch 15\n",
      "Norm: 155.42, NNZs: 95, Bias: 11.218213, T: 503295, Avg. loss: 368.780598\n",
      "Total training time: 0.78 seconds.\n",
      "-- Epoch 16\n",
      "Norm: 155.64, NNZs: 95, Bias: 10.829449, T: 536848, Avg. loss: 368.849911\n",
      "Total training time: 0.82 seconds.\n",
      "-- Epoch 17\n",
      "Norm: 155.90, NNZs: 93, Bias: 10.961376, T: 570401, Avg. loss: 368.610211\n",
      "Total training time: 0.87 seconds.\n",
      "-- Epoch 18\n",
      "Norm: 156.13, NNZs: 94, Bias: 10.633198, T: 603954, Avg. loss: 368.726796\n",
      "Total training time: 0.92 seconds.\n",
      "-- Epoch 19\n",
      "Norm: 156.38, NNZs: 95, Bias: 11.173534, T: 637507, Avg. loss: 368.701073\n",
      "Total training time: 0.96 seconds.\n",
      "-- Epoch 20\n",
      "Norm: 156.39, NNZs: 95, Bias: 10.873557, T: 671060, Avg. loss: 368.190572\n",
      "Total training time: 1.01 seconds.\n",
      "-- Epoch 21\n",
      "Norm: 156.41, NNZs: 94, Bias: 10.634703, T: 704613, Avg. loss: 368.053068\n",
      "Total training time: 1.06 seconds.\n",
      "-- Epoch 22\n",
      "Norm: 156.47, NNZs: 95, Bias: 10.741418, T: 738166, Avg. loss: 368.147547\n",
      "Total training time: 1.11 seconds.\n",
      "-- Epoch 23\n",
      "Norm: 156.52, NNZs: 95, Bias: 10.858815, T: 771719, Avg. loss: 368.110641\n",
      "Total training time: 1.17 seconds.\n",
      "-- Epoch 24\n",
      "Norm: 156.55, NNZs: 95, Bias: 10.699307, T: 805272, Avg. loss: 368.125931\n",
      "Total training time: 1.23 seconds.\n",
      "-- Epoch 25\n",
      "Norm: 156.56, NNZs: 95, Bias: 10.724853, T: 838825, Avg. loss: 367.987092\n",
      "Total training time: 1.27 seconds.\n",
      "-- Epoch 26\n",
      "Norm: 156.57, NNZs: 95, Bias: 10.749854, T: 872378, Avg. loss: 367.979565\n",
      "Total training time: 1.31 seconds.\n",
      "-- Epoch 27\n",
      "Norm: 156.57, NNZs: 95, Bias: 10.758892, T: 905931, Avg. loss: 367.980681\n",
      "Total training time: 1.36 seconds.\n",
      "-- Epoch 28\n",
      "Norm: 156.58, NNZs: 95, Bias: 10.760038, T: 939484, Avg. loss: 367.982770\n",
      "Total training time: 1.41 seconds.\n",
      "-- Epoch 29\n",
      "Norm: 156.59, NNZs: 95, Bias: 10.746640, T: 973037, Avg. loss: 367.982702\n",
      "Total training time: 1.45 seconds.\n",
      "-- Epoch 30\n",
      "Norm: 156.59, NNZs: 95, Bias: 10.751249, T: 1006590, Avg. loss: 367.947333\n",
      "Total training time: 1.49 seconds.\n",
      "-- Epoch 31\n",
      "Norm: 156.59, NNZs: 95, Bias: 10.751440, T: 1040143, Avg. loss: 367.947577\n",
      "Total training time: 1.53 seconds.\n",
      "-- Epoch 32\n",
      "Norm: 156.59, NNZs: 95, Bias: 10.750948, T: 1073696, Avg. loss: 367.947262\n",
      "Total training time: 1.58 seconds.\n",
      "-- Epoch 33\n",
      "Norm: 156.60, NNZs: 95, Bias: 10.750582, T: 1107249, Avg. loss: 367.947365\n",
      "Total training time: 1.63 seconds.\n",
      "-- Epoch 34\n",
      "Norm: 156.60, NNZs: 95, Bias: 10.748681, T: 1140802, Avg. loss: 367.946638\n",
      "Total training time: 1.67 seconds.\n",
      "-- Epoch 35\n",
      "Norm: 156.60, NNZs: 95, Bias: 10.749098, T: 1174355, Avg. loss: 367.939929\n",
      "Total training time: 1.71 seconds.\n",
      "-- Epoch 36\n",
      "Norm: 156.60, NNZs: 95, Bias: 10.749395, T: 1207908, Avg. loss: 367.939884\n",
      "Total training time: 1.76 seconds.\n",
      "-- Epoch 37\n",
      "Norm: 156.60, NNZs: 95, Bias: 10.749661, T: 1241461, Avg. loss: 367.939851\n",
      "Total training time: 1.81 seconds.\n",
      "-- Epoch 38\n",
      "Norm: 156.60, NNZs: 95, Bias: 10.749946, T: 1275014, Avg. loss: 367.939826\n",
      "Total training time: 1.86 seconds.\n",
      "-- Epoch 39\n",
      "Norm: 156.60, NNZs: 95, Bias: 10.750231, T: 1308567, Avg. loss: 367.939801\n",
      "Total training time: 1.90 seconds.\n",
      "Convergence after 39 epochs took 1.91 seconds\n",
      "-- Epoch 1\n",
      "Norm: 78.72, NNZs: 96, Bias: 18.003076, T: 33554, Avg. loss: 383.576859\n",
      "Total training time: 0.03 seconds.\n",
      "-- Epoch 2\n",
      "Norm: 88.32, NNZs: 95, Bias: 14.276149, T: 67108, Avg. loss: 378.944697\n",
      "Total training time: 0.07 seconds.\n",
      "-- Epoch 3\n",
      "Norm: 102.82, NNZs: 93, Bias: 18.308978, T: 100662, Avg. loss: 378.336907\n",
      "Total training time: 0.11 seconds.\n",
      "-- Epoch 4\n",
      "Norm: 112.26, NNZs: 93, Bias: 14.133814, T: 134216, Avg. loss: 377.639955\n",
      "Total training time: 0.15 seconds.\n",
      "-- Epoch 5\n",
      "Norm: 121.44, NNZs: 94, Bias: 13.250958, T: 167770, Avg. loss: 377.435345\n",
      "Total training time: 0.19 seconds.\n",
      "-- Epoch 6\n",
      "Norm: 130.19, NNZs: 94, Bias: 10.277324, T: 201324, Avg. loss: 376.675840\n",
      "Total training time: 0.24 seconds.\n",
      "-- Epoch 7\n",
      "Norm: 132.04, NNZs: 96, Bias: 11.432536, T: 234878, Avg. loss: 364.763780\n",
      "Total training time: 0.29 seconds.\n",
      "-- Epoch 8\n",
      "Norm: 133.85, NNZs: 96, Bias: 11.694088, T: 268432, Avg. loss: 363.901795\n",
      "Total training time: 0.33 seconds.\n",
      "-- Epoch 9\n",
      "Norm: 135.37, NNZs: 93, Bias: 10.434521, T: 301986, Avg. loss: 363.892171\n",
      "Total training time: 0.36 seconds.\n",
      "-- Epoch 10\n",
      "Norm: 137.08, NNZs: 94, Bias: 10.426328, T: 335540, Avg. loss: 363.870800\n",
      "Total training time: 0.40 seconds.\n",
      "-- Epoch 11\n",
      "Norm: 138.64, NNZs: 90, Bias: 11.495997, T: 369094, Avg. loss: 364.118359\n",
      "Total training time: 0.44 seconds.\n",
      "-- Epoch 12\n",
      "Norm: 138.79, NNZs: 93, Bias: 11.212050, T: 402648, Avg. loss: 361.458175\n",
      "Total training time: 0.49 seconds.\n",
      "-- Epoch 13\n",
      "Norm: 138.96, NNZs: 92, Bias: 10.956865, T: 436202, Avg. loss: 361.374782\n",
      "Total training time: 0.53 seconds.\n",
      "-- Epoch 14\n",
      "Norm: 139.19, NNZs: 94, Bias: 10.914466, T: 469756, Avg. loss: 361.299927\n",
      "Total training time: 0.57 seconds.\n",
      "-- Epoch 15\n",
      "Norm: 139.57, NNZs: 94, Bias: 11.066311, T: 503310, Avg. loss: 361.243296\n",
      "Total training time: 0.61 seconds.\n",
      "-- Epoch 16\n",
      "Norm: 139.82, NNZs: 94, Bias: 11.112441, T: 536864, Avg. loss: 361.260067\n",
      "Total training time: 0.65 seconds.\n",
      "-- Epoch 17\n",
      "Norm: 139.87, NNZs: 94, Bias: 10.955216, T: 570418, Avg. loss: 360.715558\n",
      "Total training time: 0.70 seconds.\n",
      "-- Epoch 18\n",
      "Norm: 139.94, NNZs: 94, Bias: 11.050549, T: 603972, Avg. loss: 360.681015\n",
      "Total training time: 0.73 seconds.\n",
      "-- Epoch 19\n",
      "Norm: 140.00, NNZs: 94, Bias: 10.939253, T: 637526, Avg. loss: 360.684688\n",
      "Total training time: 0.77 seconds.\n",
      "-- Epoch 20\n",
      "Norm: 140.04, NNZs: 94, Bias: 10.888934, T: 671080, Avg. loss: 360.646260\n",
      "Total training time: 0.81 seconds.\n",
      "-- Epoch 21\n",
      "Norm: 140.11, NNZs: 94, Bias: 11.009440, T: 704634, Avg. loss: 360.667009\n",
      "Total training time: 0.85 seconds.\n",
      "-- Epoch 22\n",
      "Norm: 140.11, NNZs: 94, Bias: 10.931351, T: 738188, Avg. loss: 360.550549\n",
      "Total training time: 0.89 seconds.\n",
      "-- Epoch 23\n",
      "Norm: 140.12, NNZs: 94, Bias: 10.893916, T: 771742, Avg. loss: 360.527999\n",
      "Total training time: 0.93 seconds.\n",
      "-- Epoch 24\n",
      "Norm: 140.13, NNZs: 94, Bias: 10.880890, T: 805296, Avg. loss: 360.526998\n",
      "Total training time: 0.96 seconds.\n",
      "-- Epoch 25\n",
      "Norm: 140.14, NNZs: 94, Bias: 10.931173, T: 838850, Avg. loss: 360.518591\n",
      "Total training time: 1.00 seconds.\n",
      "-- Epoch 26\n",
      "Norm: 140.15, NNZs: 94, Bias: 10.906618, T: 872404, Avg. loss: 360.529777\n",
      "Total training time: 1.04 seconds.\n",
      "-- Epoch 27\n",
      "Norm: 140.15, NNZs: 94, Bias: 10.905550, T: 905958, Avg. loss: 360.492916\n",
      "Total training time: 1.08 seconds.\n",
      "-- Epoch 28\n",
      "Norm: 140.16, NNZs: 94, Bias: 10.904187, T: 939512, Avg. loss: 360.492928\n",
      "Total training time: 1.12 seconds.\n",
      "-- Epoch 29\n",
      "Norm: 140.16, NNZs: 94, Bias: 10.904888, T: 973066, Avg. loss: 360.492510\n",
      "Total training time: 1.16 seconds.\n",
      "-- Epoch 30\n",
      "Norm: 140.16, NNZs: 94, Bias: 10.905469, T: 1006620, Avg. loss: 360.492547\n",
      "Total training time: 1.20 seconds.\n",
      "-- Epoch 31\n",
      "Norm: 140.16, NNZs: 94, Bias: 10.904532, T: 1040174, Avg. loss: 360.492538\n",
      "Total training time: 1.23 seconds.\n",
      "-- Epoch 32\n",
      "Norm: 140.16, NNZs: 94, Bias: 10.904133, T: 1073728, Avg. loss: 360.485301\n",
      "Total training time: 1.27 seconds.\n",
      "-- Epoch 33\n",
      "Norm: 140.16, NNZs: 94, Bias: 10.903884, T: 1107282, Avg. loss: 360.485257\n",
      "Total training time: 1.31 seconds.\n",
      "-- Epoch 34\n",
      "Norm: 140.16, NNZs: 94, Bias: 10.903542, T: 1140836, Avg. loss: 360.485243\n",
      "Total training time: 1.35 seconds.\n",
      "-- Epoch 35\n",
      "Norm: 140.16, NNZs: 94, Bias: 10.903185, T: 1174390, Avg. loss: 360.485203\n",
      "Total training time: 1.39 seconds.\n",
      "-- Epoch 36\n",
      "Norm: 140.16, NNZs: 94, Bias: 10.902922, T: 1207944, Avg. loss: 360.485182\n",
      "Total training time: 1.43 seconds.\n",
      "Convergence after 36 epochs took 1.44 seconds\n",
      "-- Epoch 1\n",
      "Norm: 75.31, NNZs: 92, Bias: 18.207934, T: 33554, Avg. loss: 394.265440\n",
      "Total training time: 0.03 seconds.\n",
      "-- Epoch 2\n",
      "Norm: 92.74, NNZs: 87, Bias: 18.537781, T: 67108, Avg. loss: 389.113669\n",
      "Total training time: 0.07 seconds.\n",
      "-- Epoch 3\n",
      "Norm: 106.52, NNZs: 85, Bias: 16.340377, T: 100662, Avg. loss: 387.599215\n",
      "Total training time: 0.10 seconds.\n",
      "-- Epoch 4\n",
      "Norm: 120.35, NNZs: 90, Bias: 15.663747, T: 134216, Avg. loss: 387.434826\n",
      "Total training time: 0.14 seconds.\n",
      "-- Epoch 5\n",
      "Norm: 134.58, NNZs: 80, Bias: 12.687988, T: 167770, Avg. loss: 386.697156\n",
      "Total training time: 0.18 seconds.\n",
      "-- Epoch 6\n",
      "Norm: 147.50, NNZs: 85, Bias: 10.841740, T: 201324, Avg. loss: 386.479848\n",
      "Total training time: 0.22 seconds.\n",
      "-- Epoch 7\n",
      "Norm: 160.93, NNZs: 82, Bias: 9.152440, T: 234878, Avg. loss: 385.501073\n",
      "Total training time: 0.26 seconds.\n",
      "-- Epoch 8\n",
      "Norm: 173.89, NNZs: 82, Bias: 10.085577, T: 268432, Avg. loss: 385.396956\n",
      "Total training time: 0.29 seconds.\n",
      "-- Epoch 9\n",
      "Norm: 183.49, NNZs: 83, Bias: 11.005813, T: 301986, Avg. loss: 384.753723\n",
      "Total training time: 0.32 seconds.\n",
      "-- Epoch 10\n",
      "Norm: 195.13, NNZs: 87, Bias: 10.272000, T: 335540, Avg. loss: 384.359615\n",
      "Total training time: 0.36 seconds.\n",
      "-- Epoch 11\n",
      "Norm: 205.09, NNZs: 81, Bias: 11.263599, T: 369094, Avg. loss: 385.225120\n",
      "Total training time: 0.40 seconds.\n",
      "-- Epoch 12\n",
      "Norm: 214.55, NNZs: 82, Bias: 8.629087, T: 402648, Avg. loss: 384.700779\n",
      "Total training time: 0.44 seconds.\n",
      "-- Epoch 13\n",
      "Norm: 221.25, NNZs: 81, Bias: 6.829715, T: 436202, Avg. loss: 384.924059\n",
      "Total training time: 0.47 seconds.\n",
      "-- Epoch 14\n",
      "Norm: 230.18, NNZs: 81, Bias: 6.205925, T: 469756, Avg. loss: 384.154501\n",
      "Total training time: 0.51 seconds.\n",
      "-- Epoch 15\n",
      "Norm: 230.04, NNZs: 86, Bias: 6.543983, T: 503310, Avg. loss: 373.037756\n",
      "Total training time: 0.54 seconds.\n",
      "-- Epoch 16\n",
      "Norm: 230.92, NNZs: 85, Bias: 7.141930, T: 536864, Avg. loss: 372.807281\n",
      "Total training time: 0.57 seconds.\n",
      "-- Epoch 17\n",
      "Norm: 231.69, NNZs: 86, Bias: 5.430459, T: 570418, Avg. loss: 372.439009\n",
      "Total training time: 0.61 seconds.\n",
      "-- Epoch 18\n",
      "Norm: 232.80, NNZs: 89, Bias: 7.240275, T: 603972, Avg. loss: 372.772639\n",
      "Total training time: 0.64 seconds.\n",
      "-- Epoch 19\n",
      "Norm: 233.12, NNZs: 88, Bias: 6.448600, T: 637526, Avg. loss: 372.534526\n",
      "Total training time: 0.68 seconds.\n",
      "-- Epoch 20\n",
      "Norm: 233.28, NNZs: 88, Bias: 6.532150, T: 671080, Avg. loss: 370.076225\n",
      "Total training time: 0.71 seconds.\n",
      "-- Epoch 21\n",
      "Norm: 233.39, NNZs: 88, Bias: 6.666527, T: 704634, Avg. loss: 370.024144\n",
      "Total training time: 0.75 seconds.\n",
      "-- Epoch 22\n",
      "Norm: 233.48, NNZs: 88, Bias: 6.566873, T: 738188, Avg. loss: 369.974999\n",
      "Total training time: 0.78 seconds.\n",
      "-- Epoch 23\n",
      "Norm: 233.54, NNZs: 88, Bias: 6.351674, T: 771742, Avg. loss: 369.963901\n",
      "Total training time: 0.81 seconds.\n",
      "-- Epoch 24\n",
      "Norm: 233.75, NNZs: 88, Bias: 6.538263, T: 805296, Avg. loss: 369.847742\n",
      "Total training time: 0.84 seconds.\n",
      "-- Epoch 25\n",
      "Norm: 233.73, NNZs: 88, Bias: 6.360980, T: 838850, Avg. loss: 369.347907\n",
      "Total training time: 0.88 seconds.\n",
      "-- Epoch 26\n",
      "Norm: 233.76, NNZs: 88, Bias: 6.497449, T: 872404, Avg. loss: 369.344241\n",
      "Total training time: 0.91 seconds.\n",
      "-- Epoch 27\n",
      "Norm: 233.78, NNZs: 88, Bias: 6.512050, T: 905958, Avg. loss: 369.336118\n",
      "Total training time: 0.94 seconds.\n",
      "-- Epoch 28\n",
      "Norm: 233.80, NNZs: 88, Bias: 6.573601, T: 939512, Avg. loss: 369.270169\n",
      "Total training time: 0.97 seconds.\n",
      "-- Epoch 29\n",
      "Norm: 233.81, NNZs: 88, Bias: 6.441665, T: 973066, Avg. loss: 369.342113\n",
      "Total training time: 1.01 seconds.\n",
      "-- Epoch 30\n",
      "Norm: 233.81, NNZs: 88, Bias: 6.411919, T: 1006620, Avg. loss: 369.185190\n",
      "Total training time: 1.04 seconds.\n",
      "-- Epoch 31\n",
      "Norm: 233.82, NNZs: 89, Bias: 6.449085, T: 1040174, Avg. loss: 369.185455\n",
      "Total training time: 1.08 seconds.\n",
      "-- Epoch 32\n",
      "Norm: 233.82, NNZs: 89, Bias: 6.424521, T: 1073728, Avg. loss: 369.186921\n",
      "Total training time: 1.11 seconds.\n",
      "-- Epoch 33\n",
      "Norm: 233.82, NNZs: 89, Bias: 6.394697, T: 1107282, Avg. loss: 369.174732\n",
      "Total training time: 1.14 seconds.\n",
      "-- Epoch 34\n",
      "Norm: 233.83, NNZs: 89, Bias: 6.444144, T: 1140836, Avg. loss: 369.184522\n",
      "Total training time: 1.18 seconds.\n",
      "-- Epoch 35\n",
      "Norm: 233.83, NNZs: 89, Bias: 6.434899, T: 1174390, Avg. loss: 369.151550\n",
      "Total training time: 1.21 seconds.\n",
      "-- Epoch 36\n",
      "Norm: 233.83, NNZs: 89, Bias: 6.431178, T: 1207944, Avg. loss: 369.150937\n",
      "Total training time: 1.24 seconds.\n",
      "-- Epoch 37\n",
      "Norm: 233.83, NNZs: 89, Bias: 6.428631, T: 1241498, Avg. loss: 369.150597\n",
      "Total training time: 1.27 seconds.\n",
      "-- Epoch 38\n",
      "Norm: 233.83, NNZs: 89, Bias: 6.430219, T: 1275052, Avg. loss: 369.150477\n",
      "Total training time: 1.31 seconds.\n",
      "-- Epoch 39\n",
      "Norm: 233.83, NNZs: 89, Bias: 6.430810, T: 1308606, Avg. loss: 369.150422\n",
      "Total training time: 1.34 seconds.\n",
      "-- Epoch 40\n",
      "Norm: 233.83, NNZs: 89, Bias: 6.430472, T: 1342160, Avg. loss: 369.143224\n",
      "Total training time: 1.37 seconds.\n",
      "-- Epoch 41\n",
      "Norm: 233.83, NNZs: 89, Bias: 6.430082, T: 1375714, Avg. loss: 369.143192\n",
      "Total training time: 1.41 seconds.\n",
      "-- Epoch 42\n",
      "Norm: 233.83, NNZs: 89, Bias: 6.429797, T: 1409268, Avg. loss: 369.143177\n",
      "Total training time: 1.44 seconds.\n",
      "-- Epoch 43\n",
      "Norm: 233.83, NNZs: 89, Bias: 6.429424, T: 1442822, Avg. loss: 369.143143\n",
      "Total training time: 1.47 seconds.\n",
      "-- Epoch 44\n",
      "Norm: 233.83, NNZs: 89, Bias: 6.429277, T: 1476376, Avg. loss: 369.143139\n",
      "Total training time: 1.50 seconds.\n",
      "Convergence after 44 epochs took 1.51 seconds\n",
      "Cross-validation scores: [0.17043736 0.17151593 0.16205179 0.15014211 0.1582156 ]\n",
      "CV Score 0.16607446159771033\n",
      "Mean CV Score : 0.1634937630453061\n",
      "train rmse 30.208602363549907\n",
      "train r2:  0.16607446159771033\n",
      "test rmse 31.358046247411213\n",
      "test r2:  0.16291008822896602\n",
      "best partams {'sgd_reg__alpha': 0.0005, 'sgd_reg__l1_ratio': 0.5, 'sgd_reg__learning_rate': 'adaptive', 'sgd_reg__penalty': 'l1', 'sgd_reg__tol': 0.001}\n"
     ]
    }
   ],
   "source": [
    "from sklearn.preprocessing import MinMaxScaler\n",
    "\n",
    "reg_sgd_pipe = Pipeline([\n",
    "    ('scaler',MinMaxScaler()),\n",
    "    ('sgd_reg',SGDRegressor(max_iter=100,verbose=11,early_stopping=True,validation_fraction=0.2))\n",
    "])\n",
    "\n",
    "param_sgd = {'sgd_reg__learning_rate':['invscaling','adaptive'],\n",
    "            'sgd_reg__penalty':['l2', 'l1', 'elasticnet'],\n",
    "             'sgd_reg__alpha':[0.0001,0.0005,0.001],\n",
    "             'sgd_reg__l1_ratio':[0.15,0.20,0.40,0.50,0.60],\n",
    "             'sgd_reg__tol':[1e-4,1e-3]\n",
    "            }\n",
    "grid_sgd = GridSearchCV(reg_sgd_pipe,param_sgd,cv=5,n_jobs=-1,return_train_score=True)\n",
    "\n",
    "grid_sgd.fit(X_train,y_train)\n",
    "\n",
    "X_train_preds = grid_sgd.predict(X_train)\n",
    "X_test_preds = grid_sgd.predict(X_test)\n",
    "\n",
    "\n",
    "\n",
    "scores = cross_val_score(grid_sgd, X_train, y_train)\n",
    "print(\"Cross-validation scores: {}\".format(scores))\n",
    "\n",
    "print(\"CV Score\",grid_sgd.score(X_train, y_train))\n",
    "\n",
    "print(\"Mean CV Score :\",grid_sgd.best_score_)\n",
    "\n",
    "print('train rmse',sqrt(mean_squared_error(y_train,X_train_preds)))\n",
    "print(\"train r2: \", r2_score(y_train,X_train_preds))\n",
    "\n",
    "print('test rmse',sqrt(mean_squared_error(y_test,X_test_preds)))\n",
    "print(\"test r2: \", r2_score(y_test,X_test_preds))\n",
    "\n",
    "print('best partams', grid_sgd.best_params_)"
   ]
  },
  {
   "cell_type": "code",
   "execution_count": 722,
   "metadata": {},
   "outputs": [
    {
     "name": "stdout",
     "output_type": "stream",
     "text": [
      "best params  {'ridge_reg__alpha': 0.001}\n",
      "Cross-validation scores: [0.17267337 0.17349531 0.16524642 0.14646206 0.15886419]\n",
      "Cv score  0.16336144479033818\n",
      "train rmse 30.18106743994525\n",
      "train r2:  0.16759400300728466\n",
      "test rmse 31.327485813824357\n",
      "test r2:  0.16454088913302967\n",
      "Ridge Test Performance:  0.16454088913302967\n"
     ]
    }
   ],
   "source": [
    "from sklearn.model_selection import GridSearchCV\n",
    "from sklearn.linear_model import Ridge\n",
    "from sklearn.preprocessing import StandardScaler\n",
    "\n",
    "ridge_pipe = Pipeline([\n",
    "        ('scaler',StandardScaler()),\n",
    "        ('ridge_reg',Ridge())])\n",
    "\n",
    "ridge_params = {'ridge_reg__alpha':[0.001, 0.01,0.05, 0.1, 0.25,0.5,1, 10,100,150]}\n",
    "\n",
    "grid_ridge = GridSearchCV(ridge_pipe,ridge_params,cv=5,return_train_score = True)\n",
    "\n",
    "grid_ridge.fit(X_train,y_train)\n",
    "\n",
    "X_train_preds = grid_ridge.predict(X_train)\n",
    "X_test_preds = grid_ridge.predict(X_test)\n",
    "\n",
    "\n",
    "print('best params ',grid_ridge.best_params_)\n",
    "scores = cross_val_score(grid_ridge, X_train, y_train)\n",
    "print(\"Cross-validation scores: {}\".format(scores))\n",
    "print('Cv score ',grid_ridge.best_score_)\n",
    "\n",
    "print('train rmse',sqrt(mean_squared_error(y_train,X_train_preds)))\n",
    "print(\"train r2: \", r2_score(y_train,X_train_preds))\n",
    "\n",
    "print('test rmse',sqrt(mean_squared_error(y_test,X_test_preds)))\n",
    "print(\"test r2: \", r2_score(y_test,X_test_preds))\n",
    "print(\"Ridge Test Performance: \", grid_ridge.score(X_test,y_test))\n"
   ]
  },
  {
   "cell_type": "code",
   "execution_count": 723,
   "metadata": {},
   "outputs": [
    {
     "name": "stdout",
     "output_type": "stream",
     "text": [
      "CV Score 0.16305691570212932\n",
      "Train RMSE 30.18117056219686\n",
      "Test RMSE 31.32895998969921\n",
      "Test Score/R-Square 0.16446225897094277\n"
     ]
    }
   ],
   "source": [
    "from sklearn.linear_model import Lasso\n",
    "from sklearn.model_selection import GridSearchCV\n",
    "\n",
    "lasso = Lasso(selection='random',max_iter=10000)\n",
    "\n",
    "param_lasso = {'alpha':[0.001, 0.01,0.05, 0.1, 0.25,0.5,1, 10,100,150]}\n",
    "\n",
    "grid_lasso = GridSearchCV(lasso,param_lasso,cv=10, return_train_score = True)\n",
    "\n",
    "grid_lasso.fit(X_train,y_train)\n",
    "\n",
    "X_train_preds = grid_lasso.predict(X_train)\n",
    "X_test_preds = grid_lasso.predict(X_test)\n",
    "\n",
    "print('CV Score',grid_lasso.best_score_)\n",
    "print('Train RMSE',sqrt(mean_squared_error(y_train,X_train_preds)))\n",
    "print('Test RMSE',sqrt(mean_squared_error(y_test,X_test_preds)))\n",
    "print('Test Score/R-Square',grid_lasso.score(X_test,y_test))"
   ]
  },
  {
   "cell_type": "code",
   "execution_count": 724,
   "metadata": {},
   "outputs": [
    {
     "data": {
      "text/plain": [
       "'\\nfrom sklearn.neighbors import KNeighborsRegressor\\n\\nknn_pipe = Pipeline([\\n    (\\'scaler\\',StandardScaler()),\\n    (\\'knn_reg\\',KNeighborsRegressor(algorithm=\\'auto\\'))\\n])\\n\\nknn_params = {\\'knn_reg__weights\\':[\\'uniform\\',\\'distance\\'],\\n             \\'knn_reg__leaf_size\\': [5,10,20,30],\\n             \\'knn_reg__n_neighbors\\': [5,10,15],\\n             \\'knn_reg__p\\':[1,2,3]}\\n\\nknn_reg_grid = GridSearchCV(knn_pipe,knn_params,cv=5,return_train_score = True)\\n\\nknn_reg_grid.fit(X_train,y_train)\\n\\nX_train_preds = knn_reg_grid.predict(X_train)\\nX_test_preds = knn_reg_grid.predict(X_test)\\n\\nprint(\"CV score \",knn_reg_grid.best_score_)\\nprint(\"Best Params \",knn_reg_grid.best_params_)\\n\\nprint(\"train RMSE\",sqrt(mean_squared_error(y_train,X_train_preds)))\\nprint(\"train R2/score\",r2_score(y_train,X_train_preds))\\n\\nprint(\"test RMSE\",sqrt(mean_squared_error(y_test,X_test_preds)))\\nprint(\"test R2/score\",r2_score(y_test,X_test_preds))\\n'"
      ]
     },
     "execution_count": 724,
     "metadata": {},
     "output_type": "execute_result"
    }
   ],
   "source": [
    "#Took too long to run\n",
    "'''\n",
    "from sklearn.neighbors import KNeighborsRegressor\n",
    "\n",
    "knn_pipe = Pipeline([\n",
    "    ('scaler',StandardScaler()),\n",
    "    ('knn_reg',KNeighborsRegressor(algorithm='auto'))\n",
    "])\n",
    "\n",
    "knn_params = {'knn_reg__weights':['uniform','distance'],\n",
    "             'knn_reg__leaf_size': [5,10,20,30],\n",
    "             'knn_reg__n_neighbors': [5,10,15],\n",
    "             'knn_reg__p':[1,2,3]}\n",
    "\n",
    "knn_reg_grid = GridSearchCV(knn_pipe,knn_params,cv=5,return_train_score = True)\n",
    "\n",
    "knn_reg_grid.fit(X_train,y_train)\n",
    "\n",
    "X_train_preds = knn_reg_grid.predict(X_train)\n",
    "X_test_preds = knn_reg_grid.predict(X_test)\n",
    "\n",
    "print(\"CV score \",knn_reg_grid.best_score_)\n",
    "print(\"Best Params \",knn_reg_grid.best_params_)\n",
    "\n",
    "print(\"train RMSE\",sqrt(mean_squared_error(y_train,X_train_preds)))\n",
    "print(\"train R2/score\",r2_score(y_train,X_train_preds))\n",
    "\n",
    "print(\"test RMSE\",sqrt(mean_squared_error(y_test,X_test_preds)))\n",
    "print(\"test R2/score\",r2_score(y_test,X_test_preds))\n",
    "'''\n",
    "\n"
   ]
  },
  {
   "cell_type": "code",
   "execution_count": null,
   "metadata": {},
   "outputs": [],
   "source": [
    "from sklearn.tree import DecisionTreeRegressor\n",
    "\n",
    "dreg_pipe = Pipeline([\n",
    "    ('dtree_reg',DecisionTreeRegressor())\n",
    "])\n",
    "\n",
    "dreg_params = {\n",
    "    'dtree_reg__criterion':['mse','friedman_mse','mae'],\n",
    "    'dtree_reg__splitter':['random','best'],\n",
    "    'dtree_reg__max_depth':[20,30],\n",
    "    'dtree_reg__min_samples_split':[4,8,12,16],\n",
    "    'dtree_reg__min_samples_leaf' :[2,4,8],\n",
    "    'dtree_reg__max_features':['auto','sqrt']\n",
    "}\n",
    "\n",
    "dtree_reg_grid = GridSearchCV(dreg_pipe,dreg_params,cv=5,return_train_score = True)\n",
    "\n",
    "dtree_reg_grid.fit(X_train,y_train)\n",
    "\n",
    "X_train_preds = dtree_reg_grid.predict(X_train)\n",
    "X_test_preds = dtree_reg_grid.predict(X_test)\n",
    "\n",
    "print(\"CV score \",dtree_reg_grid.best_score_)\n",
    "print(\"Best Params \",dtree_reg_grid.best_params_)\n",
    "\n",
    "print(\"train RMSE\",sqrt(mean_squared_error(y_train,X_train_preds)))\n",
    "print(\"train R2/score\",r2_score(y_train,X_train_preds))\n",
    "\n",
    "print(\"test RMSE\",sqrt(mean_squared_error(y_test,X_test_preds)))\n",
    "print(\"test R2/score\",r2_score(y_test,X_test_preds))"
   ]
  },
  {
   "cell_type": "code",
   "execution_count": null,
   "metadata": {},
   "outputs": [],
   "source": [
    "from sklearn.svm import SVR\n",
    "\n",
    "svm_reg_pipe = Pipeline([\n",
    "    ('svm_reg',SVR())\n",
    "])\n",
    "\n",
    "svm_reg_params = {\n",
    "    'svm_reg__kernel':['linear','poly','rbf','sigmoid'],\n",
    "    'svm_reg__degree':[3,4,5],\n",
    "    'svm_reg__gamma': ['auto','scale'],\n",
    "    'svm_reg__coef0':[2.0,4.0,10.0,15.0]\n",
    "}\n",
    "\n",
    "svm_reg_grid = GridSearchCV(svm_reg_pipe,svm_reg_params,cv=5,return_train_score = True)\n",
    "\n",
    "svm_reg_grid.fit(X_train,y_train)\n",
    "\n",
    "X_train_preds = svm_reg_grid.predict(X_train)\n",
    "X_test_preds = svm_reg_grid.predict(X_test)\n",
    "\n",
    "print(\"CV score \",svm_reg_grid.best_score_)\n",
    "print(\"Best Params \",svm_reg_grid.best_params_)\n",
    "\n",
    "print(\"train RMSE\",sqrt(mean_squared_error(y_train,X_train_preds)))\n",
    "print(\"train R2/score\",r2_score(y_train,X_train_preds))\n",
    "\n",
    "print(\"test RMSE\",sqrt(mean_squared_error(y_test,X_test_preds)))\n",
    "print(\"test R2/score\",r2_score(y_test,X_test_preds))\n"
   ]
  },
  {
   "cell_type": "code",
   "execution_count": null,
   "metadata": {},
   "outputs": [],
   "source": [
    "#took too long to run\n",
    "\n",
    "'''\n",
    "model_parm_gd = [\n",
    "    \n",
    "    #{'regressor': [LinearRegression()]},\n",
    "    \n",
    "    {   'Poly__degree':range(1,2),\n",
    "       'regressor': [LinearRegression()]},\n",
    "    {   'Poly__degree':range(1,3),\n",
    "        'regressor':[SGDRegressor(max_iter=1000,verbose=11,early_stopping=True,validation_fraction=0.2)],\n",
    "        'regressor__learning_rate':['invscaling','adaptive'],\n",
    "        'regressor__penalty':['l2', 'l1', 'elasticnet'],\n",
    "        'regressor__alpha':[0.0001,0.0005,0.001],\n",
    "        'regressor__l1_ratio':[0.15,0.20,0.40,0.50,0.60],\n",
    "        'regressor__tol':[1e-4,1e-3]\n",
    "    }\n",
    " \n",
    "]\n",
    "\n",
    "    { 'regressor': [Ridge()],\n",
    "     'Poly__degree':range(1,3),\n",
    "     'regressor__alpha':[10, 50,100],\n",
    "    'regressor__solver':['auto']},\n",
    "    \n",
    "    { 'Poly__degree':range(1,3),\n",
    "     'regressor': [Lasso()],\n",
    "      'regressor__alpha':[1, 10,50]},\n",
    "\n",
    "\n",
    "grid_search_house_pipe = GridSearchCV(model_gs, model_parm_gd,cv=5)\n",
    "grid_search_house_pipe.fit(X_train,y_train)\n",
    "\n",
    "\n",
    "# let's get the predictions\n",
    "X_train_preds = grid_search_house_pipe.predict(X_train)\n",
    "X_test_preds = grid_search_house_pipe.predict(X_test)\n",
    "\n",
    "\n",
    "from sklearn.metrics import mean_squared_error,r2_score\n",
    "from math import sqrt\n",
    "\n",
    "print(\"Best Mean Cross-validation score: {:.2f}\".format(grid_search_house_pipe.best_score_))\n",
    "print(grid_search_house_pipe.best_params_)\n",
    "\n",
    "\n",
    "\n",
    "print('train mse: {}'.format(mean_squared_error(y_train, X_train_preds)))\n",
    "print('train rmse: {}'.format(sqrt(mean_squared_error(y_train, X_train_preds))))\n",
    "print('train r2: {}'.format(r2_score(y_train, X_train_preds)))\n",
    "print()\n",
    "print('test mse: {}'.format(mean_squared_error(y_test, X_test_preds)))\n",
    "print('test rmse: {}'.format(sqrt(mean_squared_error(y_test, X_test_preds))))\n",
    "print('test r2: {}'.format(r2_score(y_test, X_test_preds)))\n",
    "'''"
   ]
  },
  {
   "cell_type": "code",
   "execution_count": null,
   "metadata": {},
   "outputs": [],
   "source": []
  },
  {
   "cell_type": "code",
   "execution_count": null,
   "metadata": {},
   "outputs": [],
   "source": []
  },
  {
   "cell_type": "code",
   "execution_count": null,
   "metadata": {},
   "outputs": [],
   "source": []
  }
 ],
 "metadata": {
  "kernelspec": {
   "display_name": "Python 3",
   "language": "python",
   "name": "python3"
  },
  "language_info": {
   "codemirror_mode": {
    "name": "ipython",
    "version": 3
   },
   "file_extension": ".py",
   "mimetype": "text/x-python",
   "name": "python",
   "nbconvert_exporter": "python",
   "pygments_lexer": "ipython3",
   "version": "3.7.6"
  },
  "toc": {
   "base_numbering": 1,
   "nav_menu": {},
   "number_sections": true,
   "sideBar": true,
   "skip_h1_title": false,
   "title_cell": "Table of Contents",
   "title_sidebar": "Contents",
   "toc_cell": false,
   "toc_position": {},
   "toc_section_display": true,
   "toc_window_display": false
  },
  "varInspector": {
   "cols": {
    "lenName": 16,
    "lenType": 16,
    "lenVar": 40
   },
   "kernels_config": {
    "python": {
     "delete_cmd_postfix": "",
     "delete_cmd_prefix": "del ",
     "library": "var_list.py",
     "varRefreshCmd": "print(var_dic_list())"
    },
    "r": {
     "delete_cmd_postfix": ") ",
     "delete_cmd_prefix": "rm(",
     "library": "var_list.r",
     "varRefreshCmd": "cat(var_dic_list()) "
    }
   },
   "types_to_exclude": [
    "module",
    "function",
    "builtin_function_or_method",
    "instance",
    "_Feature"
   ],
   "window_display": false
  }
 },
 "nbformat": 4,
 "nbformat_minor": 4
}
