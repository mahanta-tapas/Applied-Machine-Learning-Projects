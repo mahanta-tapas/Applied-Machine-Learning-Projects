{
 "cells": [
  {
   "cell_type": "markdown",
   "metadata": {},
   "source": [
    "# Results\n",
    "\n",
    "## Linear Regression \n",
    "CV Score: 0.165 \n",
    "Test Score: 0.16454088984181903\n",
    "\n",
    "## Polynomial Regression\n",
    "CV Score: 0.165 \n",
    "Test Score: 0.1645408413852154\n",
    "\n",
    "## SGD Regression\n",
    "CV Score: 0.1634937630453061\n",
    "Test Score: 0.16291008822896602\n",
    "\n",
    "## Ridge Regression\n",
    "CV Score: 0.16336144479033818\n",
    "Test Score: 0.16454088913302967\n",
    "\n",
    "## Lasso Regression\n",
    "CV Score: 0.16305691570212932\n",
    "Test Score: 0.16446225897094277\n",
    "\n",
    "## Dtree Regression\n",
    "CV Score:\n",
    "Test Score:\n",
    "\n",
    "## SVR \n",
    "CV Score:\n",
    "Test Score:"
   ]
  },
  {
   "cell_type": "code",
   "execution_count": 164,
   "metadata": {
    "ExecuteTime": {
     "end_time": "2020-04-04T02:34:21.429870Z",
     "start_time": "2020-04-04T02:34:20.622671Z"
    }
   },
   "outputs": [],
   "source": [
    "import numpy as np\n",
    "import pandas as pd"
   ]
  },
  {
   "cell_type": "code",
   "execution_count": 165,
   "metadata": {
    "ExecuteTime": {
     "end_time": "2020-04-03T20:46:30.397649Z",
     "start_time": "2020-04-03T20:46:27.288402Z"
    }
   },
   "outputs": [
    {
     "name": "stdout",
     "output_type": "stream",
     "text": [
      "Requirement already satisfied: xlrd in /opt/anaconda3/envs/buan6341/lib/python3.7/site-packages (1.2.0)\n",
      "Note: you may need to restart the kernel to use updated packages.\n"
     ]
    }
   ],
   "source": [
    "pip install xlrd"
   ]
  },
  {
   "cell_type": "code",
   "execution_count": 166,
   "metadata": {
    "ExecuteTime": {
     "end_time": "2020-04-04T02:34:40.873218Z",
     "start_time": "2020-04-04T02:34:24.398201Z"
    }
   },
   "outputs": [],
   "source": [
    "train_df = pd.read_csv('/Users/tapas/Downloads/Oil/predict-citations-for-us-patents/train.csv')\n",
    "X_train = train_df.drop(['fwd'],axis=1)\n",
    "y_train = train_df['fwd']\n"
   ]
  },
  {
   "cell_type": "code",
   "execution_count": 167,
   "metadata": {
    "ExecuteTime": {
     "end_time": "2020-04-04T02:34:42.986040Z",
     "start_time": "2020-04-04T02:34:42.966092Z"
    }
   },
   "outputs": [],
   "source": [
    "X_test = pd.read_csv('/Users/tapas/Downloads/Oil/predict-citations-for-us-patents/test.csv')\n"
   ]
  },
  {
   "cell_type": "code",
   "execution_count": 168,
   "metadata": {},
   "outputs": [
    {
     "data": {
      "text/html": [
       "<div>\n",
       "<style scoped>\n",
       "    .dataframe tbody tr th:only-of-type {\n",
       "        vertical-align: middle;\n",
       "    }\n",
       "\n",
       "    .dataframe tbody tr th {\n",
       "        vertical-align: top;\n",
       "    }\n",
       "\n",
       "    .dataframe thead th {\n",
       "        text-align: right;\n",
       "    }\n",
       "</style>\n",
       "<table border=\"1\" class=\"dataframe\">\n",
       "  <thead>\n",
       "    <tr style=\"text-align: right;\">\n",
       "      <th></th>\n",
       "      <th>Id</th>\n",
       "      <th>lag_d</th>\n",
       "      <th>noc</th>\n",
       "      <th>gy</th>\n",
       "      <th>ay</th>\n",
       "      <th>noi</th>\n",
       "      <th>UMC</th>\n",
       "      <th>firm</th>\n",
       "      <th>MSA</th>\n",
       "      <th>tbm</th>\n",
       "      <th>tbru</th>\n",
       "      <th>PAG</th>\n",
       "      <th>npr</th>\n",
       "      <th>fpr</th>\n",
       "      <th>FT</th>\n",
       "      <th>FS</th>\n",
       "    </tr>\n",
       "  </thead>\n",
       "  <tbody>\n",
       "    <tr>\n",
       "      <th>0</th>\n",
       "      <td>1</td>\n",
       "      <td>669</td>\n",
       "      <td>21</td>\n",
       "      <td>1998</td>\n",
       "      <td>1996</td>\n",
       "      <td>2</td>\n",
       "      <td>707</td>\n",
       "      <td>280070</td>\n",
       "      <td>261</td>\n",
       "      <td>13</td>\n",
       "      <td>0.60357</td>\n",
       "      <td>5366339.923</td>\n",
       "      <td>6</td>\n",
       "      <td>0</td>\n",
       "      <td>2</td>\n",
       "      <td>225.0</td>\n",
       "    </tr>\n",
       "    <tr>\n",
       "      <th>1</th>\n",
       "      <td>2</td>\n",
       "      <td>301</td>\n",
       "      <td>18</td>\n",
       "      <td>1990</td>\n",
       "      <td>1989</td>\n",
       "      <td>2</td>\n",
       "      <td>348</td>\n",
       "      <td>789656</td>\n",
       "      <td>538</td>\n",
       "      <td>1</td>\n",
       "      <td>0.00000</td>\n",
       "      <td>4719510.000</td>\n",
       "      <td>1</td>\n",
       "      <td>0</td>\n",
       "      <td>2</td>\n",
       "      <td>310.0</td>\n",
       "    </tr>\n",
       "    <tr>\n",
       "      <th>2</th>\n",
       "      <td>3</td>\n",
       "      <td>1016</td>\n",
       "      <td>23</td>\n",
       "      <td>1997</td>\n",
       "      <td>1994</td>\n",
       "      <td>5</td>\n",
       "      <td>725</td>\n",
       "      <td>499570</td>\n",
       "      <td>13</td>\n",
       "      <td>6</td>\n",
       "      <td>0.61112</td>\n",
       "      <td>4893738.000</td>\n",
       "      <td>0</td>\n",
       "      <td>0</td>\n",
       "      <td>2</td>\n",
       "      <td>3.0</td>\n",
       "    </tr>\n",
       "    <tr>\n",
       "      <th>3</th>\n",
       "      <td>4</td>\n",
       "      <td>929</td>\n",
       "      <td>32</td>\n",
       "      <td>1997</td>\n",
       "      <td>1994</td>\n",
       "      <td>3</td>\n",
       "      <td>315</td>\n",
       "      <td>654319</td>\n",
       "      <td>553</td>\n",
       "      <td>4</td>\n",
       "      <td>0.37500</td>\n",
       "      <td>4817136.250</td>\n",
       "      <td>0</td>\n",
       "      <td>5</td>\n",
       "      <td>3</td>\n",
       "      <td>64.0</td>\n",
       "    </tr>\n",
       "    <tr>\n",
       "      <th>4</th>\n",
       "      <td>5</td>\n",
       "      <td>1233</td>\n",
       "      <td>20</td>\n",
       "      <td>1999</td>\n",
       "      <td>1996</td>\n",
       "      <td>2</td>\n",
       "      <td>710</td>\n",
       "      <td>551495</td>\n",
       "      <td>261</td>\n",
       "      <td>2</td>\n",
       "      <td>0.00000</td>\n",
       "      <td>5135114.000</td>\n",
       "      <td>0</td>\n",
       "      <td>0</td>\n",
       "      <td>2</td>\n",
       "      <td>14.0</td>\n",
       "    </tr>\n",
       "  </tbody>\n",
       "</table>\n",
       "</div>"
      ],
      "text/plain": [
       "   Id  lag_d  noc    gy    ay  noi  UMC    firm  MSA  tbm     tbru  \\\n",
       "0   1    669   21  1998  1996    2  707  280070  261   13  0.60357   \n",
       "1   2    301   18  1990  1989    2  348  789656  538    1  0.00000   \n",
       "2   3   1016   23  1997  1994    5  725  499570   13    6  0.61112   \n",
       "3   4    929   32  1997  1994    3  315  654319  553    4  0.37500   \n",
       "4   5   1233   20  1999  1996    2  710  551495  261    2  0.00000   \n",
       "\n",
       "           PAG  npr  fpr  FT     FS  \n",
       "0  5366339.923    6    0   2  225.0  \n",
       "1  4719510.000    1    0   2  310.0  \n",
       "2  4893738.000    0    0   2    3.0  \n",
       "3  4817136.250    0    5   3   64.0  \n",
       "4  5135114.000    0    0   2   14.0  "
      ]
     },
     "execution_count": 168,
     "metadata": {},
     "output_type": "execute_result"
    }
   ],
   "source": [
    "X_train.head()"
   ]
  },
  {
   "cell_type": "code",
   "execution_count": null,
   "metadata": {
    "ExecuteTime": {
     "end_time": "2020-04-04T02:34:46.779523Z",
     "start_time": "2020-04-04T02:34:46.765564Z"
    }
   },
   "outputs": [],
   "source": []
  },
  {
   "cell_type": "code",
   "execution_count": 169,
   "metadata": {},
   "outputs": [],
   "source": [
    "#data['log_fwd'] = data['fwd'].apply(lambda x: np.log(x+0.001))\n",
    "#cap_right = ['lag_d','noc','tbm','tbru']\n",
    "#data['lag_d'] = data['lag_d'].apply(lambda x: np.log(x+0.001))\n",
    "#data['noc'] = data['noc'].apply(lambda x: np.log(x+0.001))\n",
    "#data['tbm'] = data['tbm'].apply(lambda x: np.log(x+0.001))\n",
    "#data['tbru'] = data['tbru'].apply(lambda x: np.log(x+0.001))"
   ]
  },
  {
   "cell_type": "code",
   "execution_count": 170,
   "metadata": {
    "ExecuteTime": {
     "end_time": "2020-04-04T02:34:50.051446Z",
     "start_time": "2020-04-04T02:34:49.542701Z"
    }
   },
   "outputs": [
    {
     "data": {
      "text/plain": [
       "\"\\nX_train, X_test, y_train, y_test = train_test_split(data.drop(['fwd'], axis=1),\\n                                                    data['fwd'],\\n                                                    test_size=0.2,\\n                                                    random_state=0)\\nX_train.shape, X_test.shape\\n\""
      ]
     },
     "execution_count": 170,
     "metadata": {},
     "output_type": "execute_result"
    }
   ],
   "source": [
    "from sklearn.model_selection import train_test_split\n",
    "'''\n",
    "X_train, X_test, y_train, y_test = train_test_split(data.drop(['fwd'], axis=1),\n",
    "                                                    data['fwd'],\n",
    "                                                    test_size=0.2,\n",
    "                                                    random_state=0)\n",
    "X_train.shape, X_test.shape\n",
    "'''\n",
    "\n"
   ]
  },
  {
   "cell_type": "code",
   "execution_count": 171,
   "metadata": {
    "ExecuteTime": {
     "end_time": "2020-04-04T02:34:52.258858Z",
     "start_time": "2020-04-04T02:34:52.254868Z"
    }
   },
   "outputs": [],
   "source": [
    "#categorical=['ay','gy','firm','UMC','MSA','FT']\n",
    "categorical=['firm','UMC','MSA','FT']"
   ]
  },
  {
   "cell_type": "code",
   "execution_count": 172,
   "metadata": {},
   "outputs": [
    {
     "data": {
      "text/plain": [
       "\"\\nimport matplotlib.pyplot as plt\\n\\nvar = 'npr'\\n\\ndisc = EqualFrequencyDiscretiser(q=25, variables =var)\\ndisc.fit(X_train)\\ntrain_t = disc.transform(X_train)\\npd.concat([train_t, y_train], axis=1).groupby(var)['fwd'].mean().plot()\\nprint(disc.binner_dict_)\\nplt.ylabel('mean of fwd')\\n\""
      ]
     },
     "execution_count": 172,
     "metadata": {},
     "output_type": "execute_result"
    }
   ],
   "source": [
    "#npr 20/25\n",
    "#Cent 20\n",
    "#IT 25\n",
    "'''\n",
    "import matplotlib.pyplot as plt\n",
    "\n",
    "var = 'npr'\n",
    "\n",
    "disc = EqualFrequencyDiscretiser(q=25, variables =var)\n",
    "disc.fit(X_train)\n",
    "train_t = disc.transform(X_train)\n",
    "pd.concat([train_t, y_train], axis=1).groupby(var)['fwd'].mean().plot()\n",
    "print(disc.binner_dict_)\n",
    "plt.ylabel('mean of fwd')\n",
    "'''\n"
   ]
  },
  {
   "cell_type": "code",
   "execution_count": 173,
   "metadata": {},
   "outputs": [
    {
     "data": {
      "text/plain": [
       "\"\\nimport matplotlib.pyplot as plt \\nvar ='fpr'\\n\\ndisc = EqualWidthDiscretiser(bins=15, variables =var)\\ndisc.fit(X_train)\\ntrain_t = disc.transform(X_train)\\npd.concat([train_t, y_train], axis=1).groupby(var)['fwd'].mean().plot()\\nplt.ylabel('mean of fwd')\\n\""
      ]
     },
     "execution_count": 173,
     "metadata": {},
     "output_type": "execute_result"
    }
   ],
   "source": [
    "#fpr\n",
    "'''\n",
    "import matplotlib.pyplot as plt \n",
    "var ='fpr'\n",
    "\n",
    "disc = EqualWidthDiscretiser(bins=15, variables =var)\n",
    "disc.fit(X_train)\n",
    "train_t = disc.transform(X_train)\n",
    "pd.concat([train_t, y_train], axis=1).groupby(var)['fwd'].mean().plot()\n",
    "plt.ylabel('mean of fwd')\n",
    "'''\n"
   ]
  },
  {
   "cell_type": "code",
   "execution_count": 174,
   "metadata": {},
   "outputs": [],
   "source": [
    "import seaborn as sns\n",
    "import scipy.stats as stats\n",
    "from math import sqrt\n",
    "import pandas as pd\n",
    "import numpy as np\n",
    "import matplotlib.pyplot as plt\n",
    "\n",
    "\n",
    "def diagnostic_plots(df, variable):\n",
    "    # function takes a dataframe (df) and\n",
    "    # the variable of interest as arguments\n",
    "\n",
    "    # define figure size\n",
    "    plt.figure(figsize=(16, 4))\n",
    "\n",
    "    # histogram\n",
    "    plt.subplot(1, 3, 1)\n",
    "    sns.distplot(df[variable], bins=30)\n",
    "    plt.title('Histogram')\n",
    "\n",
    "    # Q-Q plot\n",
    "    plt.subplot(1, 3, 2)\n",
    "    stats.probplot(df[variable], dist=\"norm\", plot=plt)\n",
    "    plt.ylabel('Variable quantiles')\n",
    "\n",
    "    # boxplot\n",
    "    plt.subplot(1, 3, 3)\n",
    "    sns.boxplot(y=df[variable])\n",
    "    plt.title('Boxplot')\n",
    "\n",
    "    plt.show()"
   ]
  },
  {
   "cell_type": "code",
   "execution_count": 175,
   "metadata": {},
   "outputs": [
    {
     "data": {
      "image/png": "[encoded data removed]",
      "text/plain": [
       "<Figure size 1152x288 with 3 Axes>"
      ]
     },
     "metadata": {
      "needs_background": "light"
     },
     "output_type": "display_data"
    }
   ],
   "source": [
    "from feature_engine.outlier_removers import Winsorizer\n",
    "cap_right = ['lag_d','noc','tbm']\n",
    "#'npr','fpr','Cent','RT','3rd_PT']\n",
    "cap_left = ['tbru']\n",
    "#ouliers = ['npr','fpr','Cent','IT','RT','DT']\n",
    "\n",
    "#gaussian,skewed,quantiles\n",
    "#lag_d - gaussian right\n",
    "\n",
    "winsorizer = Winsorizer(distribution='gaussian', # choose skewed for IQR rule boundaries or gaussian for mean and std\n",
    "                          tail='left', # cap left, right or both tails \n",
    "                          fold=3,\n",
    "                          variables=cap_left)\n",
    "\n",
    "winsorizer.fit(X_train)\n",
    "winsorizer.left_tail_caps_\n",
    "winsorizer.right_tail_caps_\n",
    "X_train_t = winsorizer.transform(X_train)\n",
    "X_test_t = winsorizer.transform(X_test)\n",
    "for variable in cap_left:\n",
    "    diagnostic_plots(X_train_t, variable)"
   ]
  },
  {
   "cell_type": "code",
   "execution_count": null,
   "metadata": {},
   "outputs": [],
   "source": []
  },
  {
   "cell_type": "code",
   "execution_count": null,
   "metadata": {
    "ExecuteTime": {
     "end_time": "2020-04-04T02:34:55.250309Z",
     "start_time": "2020-04-04T02:34:55.246319Z"
    }
   },
   "outputs": [],
   "source": []
  },
  {
   "cell_type": "code",
   "execution_count": 176,
   "metadata": {
    "ExecuteTime": {
     "end_time": "2020-04-04T02:35:03.300925Z",
     "start_time": "2020-04-04T02:35:03.247003Z"
    }
   },
   "outputs": [],
   "source": [
    "X_train[categorical] = X_train[categorical].astype('O')\n",
    "X_test[categorical] = X_test[categorical].astype('O')\n",
    "discrete = ['npr','fpr']\n",
    "continuous=list(set(list(X_train.columns))-set(categorical) - set(discrete))\n"
   ]
  },
  {
   "cell_type": "code",
   "execution_count": 177,
   "metadata": {},
   "outputs": [
    {
     "data": {
      "text/plain": [
       "['noc', 'lag_d', 'PAG', 'tbm', 'FS', 'ay', 'tbru', 'Id', 'noi', 'gy']"
      ]
     },
     "execution_count": 177,
     "metadata": {},
     "output_type": "execute_result"
    }
   ],
   "source": [
    "continuous"
   ]
  },
  {
   "cell_type": "code",
   "execution_count": 178,
   "metadata": {},
   "outputs": [
    {
     "data": {
      "text/plain": [
       "['npr', 'fpr']"
      ]
     },
     "execution_count": 178,
     "metadata": {},
     "output_type": "execute_result"
    }
   ],
   "source": [
    "discrete"
   ]
  },
  {
   "cell_type": "code",
   "execution_count": 179,
   "metadata": {},
   "outputs": [
    {
     "data": {
      "text/plain": [
       "['firm', 'UMC', 'MSA', 'FT']"
      ]
     },
     "execution_count": 179,
     "metadata": {},
     "output_type": "execute_result"
    }
   ],
   "source": [
    "categorical"
   ]
  },
  {
   "cell_type": "code",
   "execution_count": 180,
   "metadata": {},
   "outputs": [
    {
     "data": {
      "text/plain": [
       "['tbru']"
      ]
     },
     "execution_count": 180,
     "metadata": {},
     "output_type": "execute_result"
    }
   ],
   "source": [
    "cap_left"
   ]
  },
  {
   "cell_type": "code",
   "execution_count": 181,
   "metadata": {},
   "outputs": [
    {
     "data": {
      "text/plain": [
       "['lag_d', 'noc', 'tbm']"
      ]
     },
     "execution_count": 181,
     "metadata": {},
     "output_type": "execute_result"
    }
   ],
   "source": [
    "cap_right"
   ]
  },
  {
   "cell_type": "code",
   "execution_count": 182,
   "metadata": {
    "ExecuteTime": {
     "end_time": "2020-04-04T02:35:26.937981Z",
     "start_time": "2020-04-04T02:35:26.927008Z"
    }
   },
   "outputs": [],
   "source": [
    "# import relevant modules for feature engineering\n",
    "from sklearn.pipeline import Pipeline\n",
    "from feature_engine import missing_data_imputers as mdi\n",
    "from feature_engine import categorical_encoders as ce\n",
    "from sklearn.linear_model import Ridge,Lasso\n",
    "from sklearn.model_selection import GridSearchCV\n",
    "from feature_engine.outlier_removers import Winsorizer\n",
    "from sklearn.preprocessing import FunctionTransformer\n",
    "from feature_engine.variable_transformers import LogTransformer\n",
    "from feature_engine.missing_data_imputers import AddNaNBinaryImputer\n",
    "from feature_engine.missing_data_imputers import EndTailImputer\n",
    "from sklearn.impute import SimpleImputer\n",
    "from feature_engine.discretisers import EqualFrequencyDiscretiser\n",
    "from feature_engine.discretisers import EqualWidthDiscretiser\n",
    "from sklearn.base import BaseEstimator, TransformerMixin\n",
    "\n"
   ]
  },
  {
   "cell_type": "code",
   "execution_count": 183,
   "metadata": {},
   "outputs": [],
   "source": [
    "class log_add_const(BaseEstimator,TransformerMixin):\n",
    "    def __init__(self,feature_names):\n",
    "        self.feature_names = feature_names\n",
    "        \n",
    "    def fit(self,X,y = None):\n",
    "        return self\n",
    "    \n",
    "    def transform(self,X,y = None):\n",
    "        for var in self.feature_names:\n",
    "            X[var] = np.log(X[var]+0.001)\n",
    "        return X\n"
   ]
  },
  {
   "cell_type": "code",
   "execution_count": 184,
   "metadata": {
    "ExecuteTime": {
     "end_time": "2020-04-04T02:35:29.522153Z",
     "start_time": "2020-04-04T02:35:29.517133Z"
    }
   },
   "outputs": [
    {
     "data": {
      "text/plain": [
       "\"\\npatent_preprocess = Pipeline([\\n    \\n    ('imputer_cat', mdi.CategoricalVariableImputer(variables=categorical)),\\n    ('imputer_num', mdi.MeanMedianImputer(imputation_method='median',variables=['FS'])),\\n    ('capping_right',Winsorizer(distribution='gaussian',tail='right',fold=3,variables=cap_right)),\\n    ('capping_left',Winsorizer(distribution='gaussian',tail='left',fold=3,variables=cap_left)),\\n    ('capping_both',Winsorizer(distribution='gaussian',tail='both',fold=3,variables=continuous)),\\n    ('log_transform',LogTransformer(variables = cap_right)),\\n    ('equal_freq_disc1',EqualFrequencyDiscretiser(q=20, variables =['npr','Cent'])),\\n    ('equal_freq_disc2',EqualFrequencyDiscretiser(q=25, variables =['IT'])),\\n    ('equal_dist_disc',EqualWidthDiscretiser(bins=15, variables =['fpr'])),\\n    \\n    ('rare_label_enc', ce.RareLabelCategoricalEncoder(tol=0.01,n_categories=6, variables=categorical )),\\n    ('One_hot', ce.OneHotCategoricalEncoder(variables=categorical)),\\n    ('missing_val_imputer',SimpleImputer(strategy='most_frequent')),\\n    #('categorical_enc', ce.OrdinalCategoricalEncoder(encoding_method='ordered', variables=categorical)),\\n\\n\\n   \\n    # categorical encoding \\n     \\n])\\n\""
      ]
     },
     "execution_count": 184,
     "metadata": {},
     "output_type": "execute_result"
    }
   ],
   "source": [
    "'''\n",
    "patent_preprocess = Pipeline([\n",
    "    \n",
    "    ('imputer_cat', mdi.CategoricalVariableImputer(variables=categorical)),\n",
    "    ('imputer_num', mdi.MeanMedianImputer(imputation_method='median',variables=['FS'])),\n",
    "    ('capping_right',Winsorizer(distribution='gaussian',tail='right',fold=3,variables=cap_right)),\n",
    "    ('capping_left',Winsorizer(distribution='gaussian',tail='left',fold=3,variables=cap_left)),\n",
    "    ('capping_both',Winsorizer(distribution='gaussian',tail='both',fold=3,variables=continuous)),\n",
    "    ('log_transform',LogTransformer(variables = cap_right)),\n",
    "    ('equal_freq_disc1',EqualFrequencyDiscretiser(q=20, variables =['npr','Cent'])),\n",
    "    ('equal_freq_disc2',EqualFrequencyDiscretiser(q=25, variables =['IT'])),\n",
    "    ('equal_dist_disc',EqualWidthDiscretiser(bins=15, variables =['fpr'])),\n",
    "    \n",
    "    ('rare_label_enc', ce.RareLabelCategoricalEncoder(tol=0.01,n_categories=6, variables=categorical )),\n",
    "    ('One_hot', ce.OneHotCategoricalEncoder(variables=categorical)),\n",
    "    ('missing_val_imputer',SimpleImputer(strategy='most_frequent')),\n",
    "    #('categorical_enc', ce.OrdinalCategoricalEncoder(encoding_method='ordered', variables=categorical)),\n",
    "\n",
    "\n",
    "   \n",
    "    # categorical encoding \n",
    "     \n",
    "])\n",
    "'''\n"
   ]
  },
  {
   "cell_type": "code",
   "execution_count": 185,
   "metadata": {},
   "outputs": [],
   "source": [
    "patent_preprocess = Pipeline([\n",
    "    ('imputer_num', mdi.MeanMedianImputer(imputation_method='median',variables=['FS'])),\n",
    "    ('equal_freq_disc1',EqualFrequencyDiscretiser(q=20, variables =['npr'])),\n",
    "    ('equal_dist_disc',EqualWidthDiscretiser(bins=15, variables =['fpr'])),\n",
    "    #('capping_right',Winsorizer(distribution='gaussian',tail='right',fold=3,variables=cap_right)),\n",
    "    #('capping_left',Winsorizer(distribution='gaussian',tail='left',fold=3,variables=cap_left)),\n",
    "    ('log_transform',log_add_const(cap_right+cap_left)),\n",
    "    # categorical encoding \n",
    "     ('rare_label_enc', ce.RareLabelCategoricalEncoder(tol=0.01,n_categories=6, variables=categorical )),\n",
    "    #('categorical_enc', ce.OrdinalCategoricalEncoder(encoding_method='ordered', variables=categorical)),\n",
    "    ('One_hot', ce.OneHotCategoricalEncoder(variables = categorical)),\n",
    "     \n",
    "])"
   ]
  },
  {
   "cell_type": "code",
   "execution_count": 186,
   "metadata": {
    "ExecuteTime": {
     "end_time": "2020-04-04T02:35:31.992023Z",
     "start_time": "2020-04-04T02:35:31.853395Z"
    }
   },
   "outputs": [
    {
     "data": {
      "text/plain": [
       "Pipeline(memory=None,\n",
       "         steps=[('imputer_num',\n",
       "                 MeanMedianImputer(imputation_method='median',\n",
       "                                   variables=['FS'])),\n",
       "                ('equal_freq_disc1',\n",
       "                 EqualFrequencyDiscretiser(q=20, return_object=False,\n",
       "                                           variables=['npr'])),\n",
       "                ('equal_dist_disc',\n",
       "                 EqualWidthDiscretiser(bins=15, return_object=False,\n",
       "                                       variables=['fpr'])),\n",
       "                ('log_transform',\n",
       "                 log_add_const(feature_names=['lag_d', 'noc', 'tbm', 'tbru'])),\n",
       "                ('rare_label_enc',\n",
       "                 RareLabelCategoricalEncoder(n_categories=6, tol=0.01,\n",
       "                                             variables=['firm', 'UMC', 'MSA',\n",
       "                                                        'FT'])),\n",
       "                ('One_hot',\n",
       "                 OneHotCategoricalEncoder(drop_last=False, top_categories=None,\n",
       "                                          variables=['firm', 'UMC', 'MSA',\n",
       "                                                     'FT']))],\n",
       "         verbose=False)"
      ]
     },
     "execution_count": 186,
     "metadata": {},
     "output_type": "execute_result"
    }
   ],
   "source": [
    "patent_preprocess.fit(X_train,y_train)"
   ]
  },
  {
   "cell_type": "code",
   "execution_count": 187,
   "metadata": {
    "ExecuteTime": {
     "end_time": "2020-04-04T02:35:35.812597Z",
     "start_time": "2020-04-04T02:35:35.013635Z"
    }
   },
   "outputs": [],
   "source": [
    "# Apply Transformations\n",
    "X_train=patent_preprocess.transform(X_train)\n",
    "X_test=patent_preprocess.transform(X_test)"
   ]
  },
  {
   "cell_type": "code",
   "execution_count": 188,
   "metadata": {
    "ExecuteTime": {
     "end_time": "2020-04-04T02:35:37.566309Z",
     "start_time": "2020-04-04T02:35:37.518253Z"
    }
   },
   "outputs": [],
   "source": [
    "from sklearn.linear_model import LinearRegression\n",
    "from sklearn.linear_model import SGDRegressor\n",
    "from sklearn.preprocessing import PolynomialFeatures\n"
   ]
  },
  {
   "cell_type": "code",
   "execution_count": 189,
   "metadata": {
    "ExecuteTime": {
     "end_time": "2020-04-04T02:35:40.808875Z",
     "start_time": "2020-04-04T02:35:40.805852Z"
    }
   },
   "outputs": [],
   "source": [
    "lr= LinearRegression()"
   ]
  },
  {
   "cell_type": "code",
   "execution_count": 190,
   "metadata": {
    "ExecuteTime": {
     "end_time": "2020-04-04T02:35:43.552801Z",
     "start_time": "2020-04-04T02:35:43.294461Z"
    }
   },
   "outputs": [
    {
     "data": {
      "text/plain": [
       "LinearRegression(copy_X=True, fit_intercept=True, n_jobs=None, normalize=False)"
      ]
     },
     "execution_count": 190,
     "metadata": {},
     "output_type": "execute_result"
    }
   ],
   "source": [
    "lr.fit(X_train,y_train)"
   ]
  },
  {
   "cell_type": "code",
   "execution_count": 191,
   "metadata": {
    "ExecuteTime": {
     "end_time": "2020-04-04T02:35:49.533663Z",
     "start_time": "2020-04-04T02:35:48.230149Z"
    }
   },
   "outputs": [
    {
     "name": "stdout",
     "output_type": "stream",
     "text": [
      "Cross-validation scores: [0.12925021 0.15733037 0.15439412 0.10951434 0.15906031]\n",
      "Average cross-validation score: 0.14\n"
     ]
    }
   ],
   "source": [
    "from sklearn.model_selection import cross_val_score\n",
    "scores = cross_val_score(lr, X_train, y_train)\n",
    "print(\"Cross-validation scores: {}\".format(scores))\n",
    "print(\"Average cross-validation score: {:.2f}\".format(scores.mean()))"
   ]
  },
  {
   "cell_type": "code",
   "execution_count": 192,
   "metadata": {
    "ExecuteTime": {
     "end_time": "2020-04-04T02:35:51.914833Z",
     "start_time": "2020-04-04T02:35:51.853995Z"
    }
   },
   "outputs": [
    {
     "data": {
      "text/plain": [
       "0.16095185031185344"
      ]
     },
     "execution_count": 192,
     "metadata": {},
     "output_type": "execute_result"
    }
   ],
   "source": [
    "lr.score(X_train,y_train)"
   ]
  },
  {
   "cell_type": "code",
   "execution_count": null,
   "metadata": {
    "ExecuteTime": {
     "end_time": "2020-04-04T02:35:54.347486Z",
     "start_time": "2020-04-04T02:35:54.325542Z"
    }
   },
   "outputs": [],
   "source": []
  },
  {
   "cell_type": "code",
   "execution_count": null,
   "metadata": {},
   "outputs": [],
   "source": [
    "def add_const(X):\n",
    "    X['noc'] = X['noc'].apply(lambda x: np.log(x+0.001))\n",
    "    return X"
   ]
  },
  {
   "cell_type": "code",
   "execution_count": null,
   "metadata": {},
   "outputs": [],
   "source": [
    "model_gs = Pipeline([(\"Poly\",PolynomialFeatures()),(\"regressor\", LinearRegression())])\n"
   ]
  },
  {
   "cell_type": "code",
   "execution_count": null,
   "metadata": {},
   "outputs": [],
   "source": [
    "\n",
    "model_parm_gd = [\n",
    "    \n",
    "    #{'regressor': [LinearRegression()]},\n",
    "    \n",
    "    {   'Poly__degree':range(1,3),\n",
    "     'regressor': [LinearRegression()]},\n",
    "]"
   ]
  },
  {
   "cell_type": "code",
   "execution_count": null,
   "metadata": {},
   "outputs": [],
   "source": [
    "grid_search_house_pipe = GridSearchCV(model_gs, model_parm_gd,cv=5)\n",
    "grid_search_house_pipe.fit(X_train,y_train)\n",
    "\n",
    "X_train_preds = grid_search_house_pipe.predict(X_train)\n",
    "X_test_preds = grid_search_house_pipe.predict(X_test)\n",
    "\n",
    "\n",
    "from sklearn.metrics import mean_squared_error,r2_score\n",
    "from math import sqrt\n",
    "\n",
    "print(\"Best Mean Cross-validation score: {:.2f}\".format(grid_search_house_pipe.best_score_))\n",
    "print(grid_search_house_pipe.best_params_)\n",
    "\n",
    "'''\n",
    "print('test mse: {}'.format(mean_squared_error(y_test, X_test_preds)))\n",
    "print('test rmse: {}'.format(sqrt(mean_squared_error(y_test, X_test_preds))))\n",
    "print('test r2: {}'.format(r2_score(y_test, X_test_preds)))\n",
    "'''\n",
    "\n",
    "print('train mse: {}'.format(mean_squared_error(y_train, X_train_preds)))\n",
    "print('train rmse: {}'.format(sqrt(mean_squared_error(y_train, X_train_preds))))\n",
    "print('train r2: {}'.format(r2_score(y_train, X_train_preds)))\n",
    "\n",
    "\n"
   ]
  },
  {
   "cell_type": "code",
   "execution_count": null,
   "metadata": {},
   "outputs": [],
   "source": [
    "len(X_test_preds)\n"
   ]
  },
  {
   "cell_type": "code",
   "execution_count": null,
   "metadata": {},
   "outputs": [],
   "source": [
    "len(X_test)"
   ]
  },
  {
   "cell_type": "code",
   "execution_count": null,
   "metadata": {},
   "outputs": [],
   "source": [
    "X_test['preds'] = X_test_preds"
   ]
  },
  {
   "cell_type": "code",
   "execution_count": null,
   "metadata": {},
   "outputs": [],
   "source": [
    "X_test.head()"
   ]
  },
  {
   "cell_type": "code",
   "execution_count": null,
   "metadata": {},
   "outputs": [],
   "source": [
    "df_out = pd.merge(X_test,pd.DataFrame(X_test_preds),how = 'left',left_index = True, right_index = True)"
   ]
  },
  {
   "cell_type": "code",
   "execution_count": null,
   "metadata": {},
   "outputs": [],
   "source": [
    "df_out.head()"
   ]
  },
  {
   "cell_type": "code",
   "execution_count": null,
   "metadata": {},
   "outputs": [],
   "source": [
    "X_test['preds'] = X_test_preds\n",
    "pd.DataFrame({'Id': X_test['Id'], 'fwd': X_test['preds']}).to_csv('solution_TXM190014.csv', index =False) "
   ]
  },
  {
   "cell_type": "code",
   "execution_count": null,
   "metadata": {},
   "outputs": [],
   "source": [
    "from sklearn.preprocessing import MinMaxScaler\n",
    "\n",
    "reg_sgd_pipe = Pipeline([\n",
    "    ('scaler',MinMaxScaler()),\n",
    "    ('sgd_reg',SGDRegressor(max_iter=100,verbose=11,early_stopping=True,validation_fraction=0.2))\n",
    "])\n",
    "\n",
    "param_sgd = {'sgd_reg__learning_rate':['invscaling','adaptive'],\n",
    "            'sgd_reg__penalty':['l2', 'l1', 'elasticnet'],\n",
    "             'sgd_reg__alpha':[0.0001,0.0005,0.001],\n",
    "             'sgd_reg__l1_ratio':[0.15,0.20,0.40,0.50,0.60],\n",
    "             'sgd_reg__tol':[1e-4,1e-3]\n",
    "            }\n",
    "grid_sgd = GridSearchCV(reg_sgd_pipe,param_sgd,cv=5,n_jobs=-1,return_train_score=True)\n",
    "\n",
    "grid_sgd.fit(X_train,y_train)\n",
    "\n",
    "X_train_preds = grid_sgd.predict(X_train)\n",
    "X_test_preds = grid_sgd.predict(X_test)\n",
    "\n",
    "\n",
    "\n",
    "scores = cross_val_score(grid_sgd, X_train, y_train)\n",
    "print(\"Cross-validation scores: {}\".format(scores))\n",
    "\n",
    "print(\"CV Score\",grid_sgd.score(X_train, y_train))\n",
    "\n",
    "print(\"Mean CV Score :\",grid_sgd.best_score_)\n",
    "\n",
    "print('train rmse',sqrt(mean_squared_error(y_train,X_train_preds)))\n",
    "print(\"train r2: \", r2_score(y_train,X_train_preds))\n",
    "\n",
    "print('test rmse',sqrt(mean_squared_error(y_test,X_test_preds)))\n",
    "print(\"test r2: \", r2_score(y_test,X_test_preds))\n",
    "\n",
    "print('best partams', grid_sgd.best_params_)"
   ]
  },
  {
   "cell_type": "code",
   "execution_count": null,
   "metadata": {},
   "outputs": [],
   "source": [
    "from sklearn.model_selection import GridSearchCV\n",
    "from sklearn.linear_model import Ridge\n",
    "from sklearn.preprocessing import StandardScaler\n",
    "\n",
    "ridge_pipe = Pipeline([\n",
    "        ('scaler',StandardScaler()),\n",
    "        ('ridge_reg',Ridge())])\n",
    "\n",
    "ridge_params = {'ridge_reg__alpha':[0.001, 0.01,0.05, 0.1, 0.25,0.5,1, 10,100,150]}\n",
    "\n",
    "grid_ridge = GridSearchCV(ridge_pipe,ridge_params,cv=5,return_train_score = True)\n",
    "\n",
    "grid_ridge.fit(X_train,y_train)\n",
    "\n",
    "X_train_preds = grid_ridge.predict(X_train)\n",
    "X_test_preds = grid_ridge.predict(X_test)\n",
    "\n",
    "\n",
    "print('best params ',grid_ridge.best_params_)\n",
    "scores = cross_val_score(grid_ridge, X_train, y_train)\n",
    "print(\"Cross-validation scores: {}\".format(scores))\n",
    "print('Cv score ',grid_ridge.best_score_)\n",
    "\n",
    "print('train rmse',sqrt(mean_squared_error(y_train,X_train_preds)))\n",
    "print(\"train r2: \", r2_score(y_train,X_train_preds))\n",
    "\n",
    "print('test rmse',sqrt(mean_squared_error(y_test,X_test_preds)))\n",
    "print(\"test r2: \", r2_score(y_test,X_test_preds))\n",
    "print(\"Ridge Test Performance: \", grid_ridge.score(X_test,y_test))\n"
   ]
  },
  {
   "cell_type": "code",
   "execution_count": 196,
   "metadata": {},
   "outputs": [
    {
     "ename": "ValueError",
     "evalue": "matmul: Input operand 1 has a mismatch in its core dimension 0, with gufunc signature (n?,k),(k,m?)->(n?,m?) (size 88 is different from 89)",
     "output_type": "error",
     "traceback": [
      "\u001b[0;31m---------------------------------------------------------------------------\u001b[0m",
      "\u001b[0;31mValueError\u001b[0m                                Traceback (most recent call last)",
      "\u001b[0;32m<ipython-input-196-f9ebeea53de8>\u001b[0m in \u001b[0;36m<module>\u001b[0;34m\u001b[0m\n\u001b[1;32m     11\u001b[0m \u001b[0;34m\u001b[0m\u001b[0m\n\u001b[1;32m     12\u001b[0m \u001b[0mX_train_preds\u001b[0m \u001b[0;34m=\u001b[0m \u001b[0mgrid_lasso\u001b[0m\u001b[0;34m.\u001b[0m\u001b[0mpredict\u001b[0m\u001b[0;34m(\u001b[0m\u001b[0mX_train\u001b[0m\u001b[0;34m)\u001b[0m\u001b[0;34m\u001b[0m\u001b[0;34m\u001b[0m\u001b[0m\n\u001b[0;32m---> 13\u001b[0;31m \u001b[0mX_test_preds\u001b[0m \u001b[0;34m=\u001b[0m \u001b[0mgrid_lasso\u001b[0m\u001b[0;34m.\u001b[0m\u001b[0mpredict\u001b[0m\u001b[0;34m(\u001b[0m\u001b[0mX_test\u001b[0m\u001b[0;34m)\u001b[0m\u001b[0;34m\u001b[0m\u001b[0;34m\u001b[0m\u001b[0m\n\u001b[0m\u001b[1;32m     14\u001b[0m \u001b[0;34m\u001b[0m\u001b[0m\n\u001b[1;32m     15\u001b[0m \u001b[0mprint\u001b[0m\u001b[0;34m(\u001b[0m\u001b[0;34m'CV Score'\u001b[0m\u001b[0;34m,\u001b[0m\u001b[0mgrid_lasso\u001b[0m\u001b[0;34m.\u001b[0m\u001b[0mbest_score_\u001b[0m\u001b[0;34m)\u001b[0m\u001b[0;34m\u001b[0m\u001b[0;34m\u001b[0m\u001b[0m\n",
      "\u001b[0;32m/opt/anaconda3/envs/buan6341/lib/python3.7/site-packages/sklearn/utils/metaestimators.py\u001b[0m in \u001b[0;36m<lambda>\u001b[0;34m(*args, **kwargs)\u001b[0m\n\u001b[1;32m    114\u001b[0m \u001b[0;34m\u001b[0m\u001b[0m\n\u001b[1;32m    115\u001b[0m         \u001b[0;31m# lambda, but not partial, allows help() to work with update_wrapper\u001b[0m\u001b[0;34m\u001b[0m\u001b[0;34m\u001b[0m\u001b[0;34m\u001b[0m\u001b[0m\n\u001b[0;32m--> 116\u001b[0;31m         \u001b[0mout\u001b[0m \u001b[0;34m=\u001b[0m \u001b[0;32mlambda\u001b[0m \u001b[0;34m*\u001b[0m\u001b[0margs\u001b[0m\u001b[0;34m,\u001b[0m \u001b[0;34m**\u001b[0m\u001b[0mkwargs\u001b[0m\u001b[0;34m:\u001b[0m \u001b[0mself\u001b[0m\u001b[0;34m.\u001b[0m\u001b[0mfn\u001b[0m\u001b[0;34m(\u001b[0m\u001b[0mobj\u001b[0m\u001b[0;34m,\u001b[0m \u001b[0;34m*\u001b[0m\u001b[0margs\u001b[0m\u001b[0;34m,\u001b[0m \u001b[0;34m**\u001b[0m\u001b[0mkwargs\u001b[0m\u001b[0;34m)\u001b[0m\u001b[0;34m\u001b[0m\u001b[0;34m\u001b[0m\u001b[0m\n\u001b[0m\u001b[1;32m    117\u001b[0m         \u001b[0;31m# update the docstring of the returned function\u001b[0m\u001b[0;34m\u001b[0m\u001b[0;34m\u001b[0m\u001b[0;34m\u001b[0m\u001b[0m\n\u001b[1;32m    118\u001b[0m         \u001b[0mupdate_wrapper\u001b[0m\u001b[0;34m(\u001b[0m\u001b[0mout\u001b[0m\u001b[0;34m,\u001b[0m \u001b[0mself\u001b[0m\u001b[0;34m.\u001b[0m\u001b[0mfn\u001b[0m\u001b[0;34m)\u001b[0m\u001b[0;34m\u001b[0m\u001b[0;34m\u001b[0m\u001b[0m\n",
      "\u001b[0;32m/opt/anaconda3/envs/buan6341/lib/python3.7/site-packages/sklearn/model_selection/_search.py\u001b[0m in \u001b[0;36mpredict\u001b[0;34m(self, X)\u001b[0m\n\u001b[1;32m    475\u001b[0m         \"\"\"\n\u001b[1;32m    476\u001b[0m         \u001b[0mself\u001b[0m\u001b[0;34m.\u001b[0m\u001b[0m_check_is_fitted\u001b[0m\u001b[0;34m(\u001b[0m\u001b[0;34m'predict'\u001b[0m\u001b[0;34m)\u001b[0m\u001b[0;34m\u001b[0m\u001b[0;34m\u001b[0m\u001b[0m\n\u001b[0;32m--> 477\u001b[0;31m         \u001b[0;32mreturn\u001b[0m \u001b[0mself\u001b[0m\u001b[0;34m.\u001b[0m\u001b[0mbest_estimator_\u001b[0m\u001b[0;34m.\u001b[0m\u001b[0mpredict\u001b[0m\u001b[0;34m(\u001b[0m\u001b[0mX\u001b[0m\u001b[0;34m)\u001b[0m\u001b[0;34m\u001b[0m\u001b[0;34m\u001b[0m\u001b[0m\n\u001b[0m\u001b[1;32m    478\u001b[0m \u001b[0;34m\u001b[0m\u001b[0m\n\u001b[1;32m    479\u001b[0m     \u001b[0;34m@\u001b[0m\u001b[0mif_delegate_has_method\u001b[0m\u001b[0;34m(\u001b[0m\u001b[0mdelegate\u001b[0m\u001b[0;34m=\u001b[0m\u001b[0;34m(\u001b[0m\u001b[0;34m'best_estimator_'\u001b[0m\u001b[0;34m,\u001b[0m \u001b[0;34m'estimator'\u001b[0m\u001b[0;34m)\u001b[0m\u001b[0;34m)\u001b[0m\u001b[0;34m\u001b[0m\u001b[0;34m\u001b[0m\u001b[0m\n",
      "\u001b[0;32m/opt/anaconda3/envs/buan6341/lib/python3.7/site-packages/sklearn/linear_model/_base.py\u001b[0m in \u001b[0;36mpredict\u001b[0;34m(self, X)\u001b[0m\n\u001b[1;32m    223\u001b[0m             \u001b[0mReturns\u001b[0m \u001b[0mpredicted\u001b[0m \u001b[0mvalues\u001b[0m\u001b[0;34m.\u001b[0m\u001b[0;34m\u001b[0m\u001b[0;34m\u001b[0m\u001b[0m\n\u001b[1;32m    224\u001b[0m         \"\"\"\n\u001b[0;32m--> 225\u001b[0;31m         \u001b[0;32mreturn\u001b[0m \u001b[0mself\u001b[0m\u001b[0;34m.\u001b[0m\u001b[0m_decision_function\u001b[0m\u001b[0;34m(\u001b[0m\u001b[0mX\u001b[0m\u001b[0;34m)\u001b[0m\u001b[0;34m\u001b[0m\u001b[0;34m\u001b[0m\u001b[0m\n\u001b[0m\u001b[1;32m    226\u001b[0m \u001b[0;34m\u001b[0m\u001b[0m\n\u001b[1;32m    227\u001b[0m     \u001b[0m_preprocess_data\u001b[0m \u001b[0;34m=\u001b[0m \u001b[0mstaticmethod\u001b[0m\u001b[0;34m(\u001b[0m\u001b[0m_preprocess_data\u001b[0m\u001b[0;34m)\u001b[0m\u001b[0;34m\u001b[0m\u001b[0;34m\u001b[0m\u001b[0m\n",
      "\u001b[0;32m/opt/anaconda3/envs/buan6341/lib/python3.7/site-packages/sklearn/linear_model/_coordinate_descent.py\u001b[0m in \u001b[0;36m_decision_function\u001b[0;34m(self, X)\u001b[0m\n\u001b[1;32m    792\u001b[0m                                    dense_output=True) + self.intercept_\n\u001b[1;32m    793\u001b[0m         \u001b[0;32melse\u001b[0m\u001b[0;34m:\u001b[0m\u001b[0;34m\u001b[0m\u001b[0;34m\u001b[0m\u001b[0m\n\u001b[0;32m--> 794\u001b[0;31m             \u001b[0;32mreturn\u001b[0m \u001b[0msuper\u001b[0m\u001b[0;34m(\u001b[0m\u001b[0;34m)\u001b[0m\u001b[0;34m.\u001b[0m\u001b[0m_decision_function\u001b[0m\u001b[0;34m(\u001b[0m\u001b[0mX\u001b[0m\u001b[0;34m)\u001b[0m\u001b[0;34m\u001b[0m\u001b[0;34m\u001b[0m\u001b[0m\n\u001b[0m\u001b[1;32m    795\u001b[0m \u001b[0;34m\u001b[0m\u001b[0m\n\u001b[1;32m    796\u001b[0m \u001b[0;34m\u001b[0m\u001b[0m\n",
      "\u001b[0;32m/opt/anaconda3/envs/buan6341/lib/python3.7/site-packages/sklearn/linear_model/_base.py\u001b[0m in \u001b[0;36m_decision_function\u001b[0;34m(self, X)\u001b[0m\n\u001b[1;32m    207\u001b[0m         \u001b[0mX\u001b[0m \u001b[0;34m=\u001b[0m \u001b[0mcheck_array\u001b[0m\u001b[0;34m(\u001b[0m\u001b[0mX\u001b[0m\u001b[0;34m,\u001b[0m \u001b[0maccept_sparse\u001b[0m\u001b[0;34m=\u001b[0m\u001b[0;34m[\u001b[0m\u001b[0;34m'csr'\u001b[0m\u001b[0;34m,\u001b[0m \u001b[0;34m'csc'\u001b[0m\u001b[0;34m,\u001b[0m \u001b[0;34m'coo'\u001b[0m\u001b[0;34m]\u001b[0m\u001b[0;34m)\u001b[0m\u001b[0;34m\u001b[0m\u001b[0;34m\u001b[0m\u001b[0m\n\u001b[1;32m    208\u001b[0m         return safe_sparse_dot(X, self.coef_.T,\n\u001b[0;32m--> 209\u001b[0;31m                                dense_output=True) + self.intercept_\n\u001b[0m\u001b[1;32m    210\u001b[0m \u001b[0;34m\u001b[0m\u001b[0m\n\u001b[1;32m    211\u001b[0m     \u001b[0;32mdef\u001b[0m \u001b[0mpredict\u001b[0m\u001b[0;34m(\u001b[0m\u001b[0mself\u001b[0m\u001b[0;34m,\u001b[0m \u001b[0mX\u001b[0m\u001b[0;34m)\u001b[0m\u001b[0;34m:\u001b[0m\u001b[0;34m\u001b[0m\u001b[0;34m\u001b[0m\u001b[0m\n",
      "\u001b[0;32m/opt/anaconda3/envs/buan6341/lib/python3.7/site-packages/sklearn/utils/extmath.py\u001b[0m in \u001b[0;36msafe_sparse_dot\u001b[0;34m(a, b, dense_output)\u001b[0m\n\u001b[1;32m    149\u001b[0m             \u001b[0mret\u001b[0m \u001b[0;34m=\u001b[0m \u001b[0mnp\u001b[0m\u001b[0;34m.\u001b[0m\u001b[0mdot\u001b[0m\u001b[0;34m(\u001b[0m\u001b[0ma\u001b[0m\u001b[0;34m,\u001b[0m \u001b[0mb\u001b[0m\u001b[0;34m)\u001b[0m\u001b[0;34m\u001b[0m\u001b[0;34m\u001b[0m\u001b[0m\n\u001b[1;32m    150\u001b[0m     \u001b[0;32melse\u001b[0m\u001b[0;34m:\u001b[0m\u001b[0;34m\u001b[0m\u001b[0;34m\u001b[0m\u001b[0m\n\u001b[0;32m--> 151\u001b[0;31m         \u001b[0mret\u001b[0m \u001b[0;34m=\u001b[0m \u001b[0ma\u001b[0m \u001b[0;34m@\u001b[0m \u001b[0mb\u001b[0m\u001b[0;34m\u001b[0m\u001b[0;34m\u001b[0m\u001b[0m\n\u001b[0m\u001b[1;32m    152\u001b[0m \u001b[0;34m\u001b[0m\u001b[0m\n\u001b[1;32m    153\u001b[0m     if (sparse.issparse(a) and sparse.issparse(b)\n",
      "\u001b[0;31mValueError\u001b[0m: matmul: Input operand 1 has a mismatch in its core dimension 0, with gufunc signature (n?,k),(k,m?)->(n?,m?) (size 88 is different from 89)"
     ]
    }
   ],
   "source": [
    "from sklearn.linear_model import Lasso\n",
    "from sklearn.model_selection import GridSearchCV\n",
    "\n",
    "lasso = Lasso(selection='random',max_iter=10000)\n",
    "\n",
    "param_lasso = {'alpha':[0.001, 0.01,0.05, 0.1, 0.25,0.5,1, 10,100,150]}\n",
    "\n",
    "grid_lasso = GridSearchCV(lasso,param_lasso,cv=10, return_train_score = True)\n",
    "\n",
    "grid_lasso.fit(X_train,y_train)\n",
    "\n",
    "X_train_preds = grid_lasso.predict(X_train)\n",
    "X_test_preds = grid_lasso.predict(X_test)\n",
    "\n",
    "print('CV Score',grid_lasso.best_score_)\n",
    "print('Train RMSE',sqrt(mean_squared_error(y_train,X_train_preds)))\n"
   ]
  },
  {
   "cell_type": "code",
   "execution_count": 195,
   "metadata": {},
   "outputs": [],
   "source": [
    "X_test['preds'] = X_test_preds\n",
    "pd.DataFrame({'Id': X_test['Id'], 'fwd': X_test['preds']}).to_csv('solution_TXM190014.csv', index =False) "
   ]
  },
  {
   "cell_type": "code",
   "execution_count": null,
   "metadata": {},
   "outputs": [],
   "source": [
    "#Took too long to run\n",
    "'''\n",
    "from sklearn.neighbors import KNeighborsRegressor\n",
    "\n",
    "knn_pipe = Pipeline([\n",
    "    ('scaler',StandardScaler()),\n",
    "    ('knn_reg',KNeighborsRegressor(algorithm='auto'))\n",
    "])\n",
    "\n",
    "knn_params = {'knn_reg__weights':['uniform','distance'],\n",
    "             'knn_reg__leaf_size': [5,10,20,30],\n",
    "             'knn_reg__n_neighbors': [5,10,15],\n",
    "             'knn_reg__p':[1,2,3]}\n",
    "\n",
    "knn_reg_grid = GridSearchCV(knn_pipe,knn_params,cv=5,return_train_score = True)\n",
    "\n",
    "knn_reg_grid.fit(X_train,y_train)\n",
    "\n",
    "X_train_preds = knn_reg_grid.predict(X_train)\n",
    "X_test_preds = knn_reg_grid.predict(X_test)\n",
    "\n",
    "print(\"CV score \",knn_reg_grid.best_score_)\n",
    "print(\"Best Params \",knn_reg_grid.best_params_)\n",
    "\n",
    "print(\"train RMSE\",sqrt(mean_squared_error(y_train,X_train_preds)))\n",
    "print(\"train R2/score\",r2_score(y_train,X_train_preds))\n",
    "\n",
    "print(\"test RMSE\",sqrt(mean_squared_error(y_test,X_test_preds)))\n",
    "print(\"test R2/score\",r2_score(y_test,X_test_preds))\n",
    "'''\n",
    "\n"
   ]
  },
  {
   "cell_type": "code",
   "execution_count": null,
   "metadata": {},
   "outputs": [],
   "source": [
    "from sklearn.tree import DecisionTreeRegressor\n",
    "\n",
    "dreg_pipe = Pipeline([\n",
    "    ('dtree_reg',DecisionTreeRegressor())\n",
    "])\n",
    "\n",
    "dreg_params = {\n",
    "    'dtree_reg__criterion':['mse','friedman_mse','mae'],\n",
    "    'dtree_reg__splitter':['random','best'],\n",
    "    'dtree_reg__max_depth':[20,30],\n",
    "    'dtree_reg__min_samples_split':[4,8,12,16],\n",
    "    'dtree_reg__min_samples_leaf' :[2,4,8],\n",
    "    'dtree_reg__max_features':['auto','sqrt']\n",
    "}\n",
    "\n",
    "dtree_reg_grid = GridSearchCV(dreg_pipe,dreg_params,cv=5,return_train_score = True)\n",
    "\n",
    "dtree_reg_grid.fit(X_train,y_train)\n",
    "\n",
    "X_train_preds = dtree_reg_grid.predict(X_train)\n",
    "X_test_preds = dtree_reg_grid.predict(X_test)\n",
    "\n",
    "print(\"CV score \",dtree_reg_grid.best_score_)\n",
    "print(\"Best Params \",dtree_reg_grid.best_params_)\n",
    "\n",
    "print(\"train RMSE\",sqrt(mean_squared_error(y_train,X_train_preds)))\n",
    "print(\"train R2/score\",r2_score(y_train,X_train_preds))\n",
    "\n",
    "print(\"test RMSE\",sqrt(mean_squared_error(y_test,X_test_preds)))\n",
    "print(\"test R2/score\",r2_score(y_test,X_test_preds))"
   ]
  },
  {
   "cell_type": "code",
   "execution_count": null,
   "metadata": {},
   "outputs": [],
   "source": [
    "from sklearn.svm import SVR\n",
    "\n",
    "svm_reg_pipe = Pipeline([\n",
    "    ('svm_reg',SVR())\n",
    "])\n",
    "\n",
    "svm_reg_params = {\n",
    "    'svm_reg__kernel':['linear','poly','rbf','sigmoid'],\n",
    "    'svm_reg__degree':[3,4,5],\n",
    "    'svm_reg__gamma': ['auto','scale'],\n",
    "    'svm_reg__coef0':[2.0,4.0,10.0,15.0]\n",
    "}\n",
    "\n",
    "svm_reg_grid = GridSearchCV(svm_reg_pipe,svm_reg_params,cv=5,return_train_score = True)\n",
    "\n",
    "svm_reg_grid.fit(X_train,y_train)\n",
    "\n",
    "X_train_preds = svm_reg_grid.predict(X_train)\n",
    "X_test_preds = svm_reg_grid.predict(X_test)\n",
    "\n",
    "print(\"CV score \",svm_reg_grid.best_score_)\n",
    "print(\"Best Params \",svm_reg_grid.best_params_)\n",
    "\n",
    "print(\"train RMSE\",sqrt(mean_squared_error(y_train,X_train_preds)))\n",
    "print(\"train R2/score\",r2_score(y_train,X_train_preds))\n",
    "\n",
    "print(\"test RMSE\",sqrt(mean_squared_error(y_test,X_test_preds)))\n",
    "print(\"test R2/score\",r2_score(y_test,X_test_preds))\n"
   ]
  },
  {
   "cell_type": "code",
   "execution_count": null,
   "metadata": {},
   "outputs": [],
   "source": [
    "#took too long to run\n",
    "\n",
    "'''\n",
    "model_parm_gd = [\n",
    "    \n",
    "    #{'regressor': [LinearRegression()]},\n",
    "    \n",
    "    {   'Poly__degree':range(1,2),\n",
    "       'regressor': [LinearRegression()]},\n",
    "    {   'Poly__degree':range(1,3),\n",
    "        'regressor':[SGDRegressor(max_iter=1000,verbose=11,early_stopping=True,validation_fraction=0.2)],\n",
    "        'regressor__learning_rate':['invscaling','adaptive'],\n",
    "        'regressor__penalty':['l2', 'l1', 'elasticnet'],\n",
    "        'regressor__alpha':[0.0001,0.0005,0.001],\n",
    "        'regressor__l1_ratio':[0.15,0.20,0.40,0.50,0.60],\n",
    "        'regressor__tol':[1e-4,1e-3]\n",
    "    }\n",
    " \n",
    "]\n",
    "\n",
    "    { 'regressor': [Ridge()],\n",
    "     'Poly__degree':range(1,3),\n",
    "     'regressor__alpha':[10, 50,100],\n",
    "    'regressor__solver':['auto']},\n",
    "    \n",
    "    { 'Poly__degree':range(1,3),\n",
    "     'regressor': [Lasso()],\n",
    "      'regressor__alpha':[1, 10,50]},\n",
    "\n",
    "\n",
    "grid_search_house_pipe = GridSearchCV(model_gs, model_parm_gd,cv=5)\n",
    "grid_search_house_pipe.fit(X_train,y_train)\n",
    "\n",
    "\n",
    "# let's get the predictions\n",
    "X_train_preds = grid_search_house_pipe.predict(X_train)\n",
    "X_test_preds = grid_search_house_pipe.predict(X_test)\n",
    "\n",
    "\n",
    "from sklearn.metrics import mean_squared_error,r2_score\n",
    "from math import sqrt\n",
    "\n",
    "print(\"Best Mean Cross-validation score: {:.2f}\".format(grid_search_house_pipe.best_score_))\n",
    "print(grid_search_house_pipe.best_params_)\n",
    "\n",
    "\n",
    "\n",
    "print('train mse: {}'.format(mean_squared_error(y_train, X_train_preds)))\n",
    "print('train rmse: {}'.format(sqrt(mean_squared_error(y_train, X_train_preds))))\n",
    "print('train r2: {}'.format(r2_score(y_train, X_train_preds)))\n",
    "print()\n",
    "print('test mse: {}'.format(mean_squared_error(y_test, X_test_preds)))\n",
    "print('test rmse: {}'.format(sqrt(mean_squared_error(y_test, X_test_preds))))\n",
    "print('test r2: {}'.format(r2_score(y_test, X_test_preds)))\n",
    "'''"
   ]
  },
  {
   "cell_type": "code",
   "execution_count": null,
   "metadata": {},
   "outputs": [],
   "source": []
  },
  {
   "cell_type": "code",
   "execution_count": null,
   "metadata": {},
   "outputs": [],
   "source": []
  },
  {
   "cell_type": "code",
   "execution_count": null,
   "metadata": {},
   "outputs": [],
   "source": []
  }
 ],
 "metadata": {
  "kernelspec": {
   "display_name": "Python 3",
   "language": "python",
   "name": "python3"
  },
  "language_info": {
   "codemirror_mode": {
    "name": "ipython",
    "version": 3
   },
   "file_extension": ".py",
   "mimetype": "text/x-python",
   "name": "python",
   "nbconvert_exporter": "python",
   "pygments_lexer": "ipython3",
   "version": "3.7.6"
  },
  "toc": {
   "base_numbering": 1,
   "nav_menu": {},
   "number_sections": true,
   "sideBar": true,
   "skip_h1_title": false,
   "title_cell": "Table of Contents",
   "title_sidebar": "Contents",
   "toc_cell": false,
   "toc_position": {},
   "toc_section_display": true,
   "toc_window_display": false
  },
  "varInspector": {
   "cols": {
    "lenName": 16,
    "lenType": 16,
    "lenVar": 40
   },
   "kernels_config": {
    "python": {
     "delete_cmd_postfix": "",
     "delete_cmd_prefix": "del ",
     "library": "var_list.py",
     "varRefreshCmd": "print(var_dic_list())"
    },
    "r": {
     "delete_cmd_postfix": ") ",
     "delete_cmd_prefix": "rm(",
     "library": "var_list.r",
     "varRefreshCmd": "cat(var_dic_list()) "
    }
   },
   "types_to_exclude": [
    "module",
    "function",
    "builtin_function_or_method",
    "instance",
    "_Feature"
   ],
   "window_display": false
  }
 },
 "nbformat": 4,
 "nbformat_minor": 4
}
